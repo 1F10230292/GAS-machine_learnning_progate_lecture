{
  "nbformat": 4,
  "nbformat_minor": 0,
  "metadata": {
    "colab": {
      "provenance": [],
      "collapsed_sections": [
        "R2squaStF20O",
        "ZFxFa_G4qNG3"
      ],
      "include_colab_link": true
    },
    "kernelspec": {
      "name": "python3",
      "display_name": "Python 3"
    },
    "language_info": {
      "name": "python"
    }
  },
  "cells": [
    {
      "cell_type": "markdown",
      "metadata": {
        "id": "view-in-github",
        "colab_type": "text"
      },
      "source": [
        "<a href=\"https://colab.research.google.com/github/1F10230292/GAS-machine_learnning_progate_lecture/blob/main/20240402_%E3%82%BC%E3%83%AD%E3%81%8B%E3%82%89%E5%AD%A6%E3%81%B6Python%E3%82%92%E4%BD%BF%E3%81%A3%E3%81%9F%E6%A9%9F%E6%A2%B0%E5%AD%A6%E7%BF%92%E5%85%A5%E9%96%80_ipynb_%E3%81%AE%E3%82%B3%E3%83%94%E3%83%BC.ipynb\" target=\"_parent\"><img src=\"https://colab.research.google.com/assets/colab-badge.svg\" alt=\"Open In Colab\"/></a>"
      ]
    },
    {
      "cell_type": "markdown",
      "source": [
        "# Pythonの基礎\n",
        "\n",
        "Pythonはシンプルで英語に近く、理解しやすいプログラミング言語です。\n",
        "Pythonを使うとWebアプリケーション開発や機械学習、統計処理などといった様々なことが可能になります。\n"
      ],
      "metadata": {
        "id": "sRYp_E0mFRJS"
      }
    },
    {
      "cell_type": "markdown",
      "source": [
        "**【文字列の出力】**\n",
        "\n",
        "それではPythonのプログラムを動かしてみましょう。\n",
        "\n",
        "「`print`」を用いると文字を出力（表示）することができます。\n",
        "\n",
        "`print`の後ろの()の中に書いた文字が画面に出力されます。\n",
        "\n",
        "```python\n",
        "print('Hello Python')\n",
        "```"
      ],
      "metadata": {
        "id": "vJ0f0liLFue-"
      }
    },
    {
      "cell_type": "markdown",
      "source": [
        "**【文字列について】**\n",
        "\n",
        "先ほどの例で用いた「`Hello Python`」という文字は、プログラミングの世界では「`文字列`」と呼ばれます。\n",
        "\n",
        "文字列はシングルクォーテーション「`'`」またはダブルクォーテーション「`\"`」で囲む必要があります。\n",
        "\n",
        "どちらで囲んでも出力結果は同じとなります。\n",
        "どちらかで囲んでいない場合、コードは動かなくなります。\n",
        "\n",
        "```python\n",
        "print('Hello Python')\n",
        "print(\"Hello Python\")\n",
        "print(Hello Python) → これはエラーになります\n",
        "```"
      ],
      "metadata": {
        "id": "64tNvj8TGKBJ"
      }
    },
    {
      "cell_type": "markdown",
      "source": [
        "**【やってみよう！】**\n",
        "\n",
        "`print` を使って `Hello World` という文字列を出力してください。\n",
        "\n",
        "`Hello World` と表示されたら正解です！"
      ],
      "metadata": {
        "id": "-Ikpoyw5GqAg"
      }
    },
    {
      "cell_type": "code",
      "source": [
        "print('Hello World')"
      ],
      "metadata": {
        "id": "zAA7gOv7HFwU",
        "colab": {
          "base_uri": "https://localhost:8080/"
        },
        "outputId": "88453c92-b605-440c-a058-2facd4bc3667"
      },
      "execution_count": null,
      "outputs": [
        {
          "output_type": "stream",
          "name": "stdout",
          "text": [
            "Hello World\n"
          ]
        }
      ]
    },
    {
      "cell_type": "markdown",
      "source": [
        "**【数値について】**\n",
        "\n",
        "プログラミングでは、「数値」も扱うことができます。数値は文字列と違って、クォーテーションで囲む必要がありません。\n",
        "\n",
        "数学と同じ記号「+」「-」を用いて、足し算と引き算が可能です。数値や記号はすべて半角で記述します。また記号の前後の半角スペースはなくても構いませんが、入れた方がコードが見やすくなります。\n",
        "\n",
        "```python\n",
        "print(3)\n",
        "print(3 + 7)\n",
        "```"
      ],
      "metadata": {
        "id": "TpCE0cPmGncS"
      }
    },
    {
      "cell_type": "markdown",
      "source": [
        "**【やってみよう！】**\n",
        "\n",
        "数値の `7` を出力してください。\n",
        "\n",
        "`7` と表示されたら正解です！"
      ],
      "metadata": {
        "id": "ikyWj_tKHrgA"
      }
    },
    {
      "cell_type": "code",
      "source": [
        "print(7)"
      ],
      "metadata": {
        "id": "flxKb_OJHzff",
        "colab": {
          "base_uri": "https://localhost:8080/"
        },
        "outputId": "6ac4d7cb-2748-42c9-e0ad-8cab51932b7f"
      },
      "execution_count": null,
      "outputs": [
        {
          "output_type": "stream",
          "name": "stdout",
          "text": [
            "7\n"
          ]
        }
      ]
    },
    {
      "cell_type": "markdown",
      "source": [
        "**【変数】**\n",
        "\n",
        "変数とは、データ（値）を入れておく箱のようなものです。\n",
        "\n",
        "この箱（変数）に名前（変数名）をつけることで、その名前を用いて変数に値を入れることや、変数から値を取り出すことができます。\n",
        "\n",
        "変数は下のコードのように「変数名 = 値」で定義します。変数名はクォーテーションで囲む必要はありません。\n",
        "\n",
        "また、プログラミングの「=」は「等しい」という意味ではなく、「右辺を左辺に代入する」という意味になるので覚えておきましょう。\n",
        "\n",
        "```python\n",
        "name = 'John'\n",
        "number = 5\n",
        "```\n",
        "\n",
        "次は変数の値の取り出し方について学習しましょう。\n",
        "\n",
        "下のコードのように `print(name)` とすると、変数`name`の値を出力することができます。\n",
        "\n",
        "しかし、`print('name')`のようにクォーテーションで囲ってしまうと、`name`が変数ではなく文字列として認識され、「`name`」とそのまま出力されてしまうので注意しましょう。\n",
        "\n",
        "```python\n",
        "name = 'John'\n",
        "print(name) → Johnと出力される\n",
        "print('name') → nameという文字列が出力される\n",
        "```"
      ],
      "metadata": {
        "id": "ITEAS6WCH24t"
      }
    },
    {
      "cell_type": "markdown",
      "source": [
        "**【やってみよう！】**\n",
        "\n",
        "変数 `name` にご自身のお名前を代入してください。\n",
        "\n",
        "変数 `name` の値を出力してください。\n",
        "\n",
        "ご自身のお名前が表示されたら正解です！"
      ],
      "metadata": {
        "id": "whMQg72pIgJs"
      }
    },
    {
      "cell_type": "code",
      "source": [
        "name = 'akj'\n",
        "print(name)"
      ],
      "metadata": {
        "id": "Rx8ZpTc1I2GO",
        "colab": {
          "base_uri": "https://localhost:8080/"
        },
        "outputId": "b1ba6316-6dcf-48c0-fd08-9909695bfeb8"
      },
      "execution_count": null,
      "outputs": [
        {
          "output_type": "stream",
          "name": "stdout",
          "text": [
            "akj\n"
          ]
        }
      ]
    },
    {
      "cell_type": "code",
      "source": [],
      "metadata": {
        "id": "FpIp9JIcEMkU"
      },
      "execution_count": null,
      "outputs": []
    },
    {
      "cell_type": "markdown",
      "source": [
        "**【関数と引数】**\n",
        "\n",
        "`print`の他にもPythonにはいくつかの便利な関数が用意されており、それらを使うと様々な処理を簡単に行うことができます。\n",
        "\n",
        "関数を呼び出す際に、関数に値を渡すことができます。\n",
        "この値のことを`引数`といい、引数を渡すと関数の中でその値を利用することができるようになります。\n",
        "\n",
        "```python\n",
        "print('Hello World')\n",
        "```\n",
        "\n",
        "引数は複数渡すこともできます。関数が複数の引数を受け取るためには、仮引数をコンマ（`,`）で区切って定義します。\n",
        "引数を受け取る順番は自由に決めることができます。また、引数は左から順番に「第1引数、第2引数・・・」というように呼びます。\n",
        "\n",
        "```python\n",
        "hello('太郎さん', 'こんにちは')\n",
        "```"
      ],
      "metadata": {
        "id": "90hH2U2gKc4h"
      }
    },
    {
      "cell_type": "markdown",
      "source": [
        "# pandasについて\n",
        "\n",
        "`pandas`は、Pythonでデータ解析やデータ操作、型変換などを行うためのライブラリです。様々な形式のデータを操作するための機能が提供されており、データの読み込みや異なるデータ形式への変換などができます。\n",
        "\n",
        "※ ライブラリとはプログラムをまとめたもの。自分たちで作る必要なく、便利な機能を利用できる。"
      ],
      "metadata": {
        "id": "t4HtsoMyLKVX"
      }
    },
    {
      "cell_type": "markdown",
      "source": [
        "**【pandasのインポート】**\n",
        "\n",
        "pandasを使うには、pandasをインポートします。このときに別名をつけておくとpandasの関数を簡潔に呼び出せます。下のコードでは `pd` という別名をつけています。\n",
        "\n",
        "```python\n",
        "import pandas as pd\n",
        "```"
      ],
      "metadata": {
        "id": "nlm27UhmLzLL"
      }
    },
    {
      "cell_type": "markdown",
      "source": [
        "**【CSVファイルの読み込み】**\n",
        "\n",
        "pandasでCSVファイルからデータを読み込むには `read_csv`関数を使います。引数にCSVファイルのパスを指定します。\n",
        "\n",
        "下のコードでは、`read_csv`関数でCSVファイルを読み込み、変数 `sales` に代入しています。このとき読み込んだデータはデータフレームという型に変換されます。\n",
        "\n",
        "変数 `sales` を出力することで、データの中身が確認できます。\n",
        "\n",
        "```python\n",
        "import pandas as pd\n",
        "\n",
        "sales = pd.read_csv('./sales.csv')\n",
        "\n",
        "print(sales)\n",
        "```"
      ],
      "metadata": {
        "id": "GOBLidqQL9Qt"
      }
    },
    {
      "cell_type": "markdown",
      "source": [
        "**【やってみよう！】**\n",
        "\n",
        "1.   お渡ししている`stocks.csv` というCSVファイルをGoogle Colabにアップロードしてください。\n",
        "2.   `pandas` をインポートし、別名を `pd` としてください。\n",
        "3.   `read_csv` 関数を使って、`stocks.csv` のデータを読み込み、変数 `stocks` に代入してください。\n",
        "4.   変数 `stocks` を出力してください\n",
        "\n",
        "次のように表示されたら正解です！\n",
        "\n",
        "```\n",
        "      product  stock\n",
        "0      Laptop     15\n",
        "1  Smartphone     30\n",
        "2      Tablet     25\n",
        "3  Headphones     50\n",
        "4    Keyboard     45\n",
        "5       Mouse     60\n",
        "6     Monitor     20\n",
        "7      Webcam     35\n",
        "8     Printer     10\n",
        "9   USB Drive    100\n",
        "```\n",
        "\n",
        "\n"
      ],
      "metadata": {
        "id": "UUox1YsTMq4F"
      }
    },
    {
      "cell_type": "code",
      "source": [],
      "metadata": {
        "id": "FGCFHgBpN3aT"
      },
      "execution_count": null,
      "outputs": []
    },
    {
      "cell_type": "markdown",
      "source": [
        "**【カラム名を指定してデータを抽出する】**\n",
        "\n",
        "pandasでは、データフレームのカラム名を指定し、特定の列を抽出できます。下コードのように `変数名['カラム名']` と記述します。\n",
        "\n",
        "```python\n",
        "import pandas as pd\n",
        "\n",
        "stocks = pd.read_csv('./stocks.csv')\n",
        "\n",
        "products = stocks['product']\n",
        "\n",
        "print(products)\n",
        "```"
      ],
      "metadata": {
        "id": "AjPkeo6CEONA"
      }
    },
    {
      "cell_type": "markdown",
      "source": [
        "**【やってみよう！】**\n",
        "\n",
        "1.   `pandas` をインポートし、別名を `pd` としてください。\n",
        "2.   `read_csv` 関数を使って、`stocks.csv` のデータを読み込み、変数 `stocks` に代入してください。\n",
        "3.   変数 `stocks` に代入されているデータの `product`カラムのデータだけを抽出し、変数 `products` に代入してください\n",
        "4.   変数 `products` を出力してください\n",
        "\n",
        "次のように表示されたら正解です！\n",
        "\n",
        "```\n",
        "0        Laptop\n",
        "1    Smartphone\n",
        "2        Tablet\n",
        "3    Headphones\n",
        "4      Keyboard\n",
        "5         Mouse\n",
        "6       Monitor\n",
        "7        Webcam\n",
        "8       Printer\n",
        "9     USB Drive\n",
        "Name: product, dtype: object\n",
        "```"
      ],
      "metadata": {
        "id": "HDqlI-L55E5e"
      }
    },
    {
      "cell_type": "code",
      "source": [
        "import pandas as pd\n",
        "stocks=pd.read_csv('/content/stocks (1).csv')\n",
        "products= stocks['product']\n",
        "print(products)\n"
      ],
      "metadata": {
        "id": "ibi8igYL5IKQ",
        "colab": {
          "base_uri": "https://localhost:8080/"
        },
        "outputId": "571c8a67-2928-4f08-ea1b-8ec6f2884166"
      },
      "execution_count": null,
      "outputs": [
        {
          "output_type": "stream",
          "name": "stdout",
          "text": [
            "0        Laptop\n",
            "1    Smartphone\n",
            "2        Tablet\n",
            "3    Headphones\n",
            "4      Keyboard\n",
            "5         Mouse\n",
            "6       Monitor\n",
            "7        Webcam\n",
            "8       Printer\n",
            "9     USB Drive\n",
            "Name: product, dtype: object\n"
          ]
        }
      ]
    },
    {
      "cell_type": "code",
      "source": [
        "from google.colab import drive\n",
        "drive.mount('/content/drive')"
      ],
      "metadata": {
        "id": "z8_MH0jEFsuw"
      },
      "execution_count": null,
      "outputs": []
    },
    {
      "cell_type": "markdown",
      "source": [
        "# matplotlib\n",
        "\n",
        "matplotlibは、Pythonのグラフ描画ライブラリです。棒グラフや折れ線グラフ、散布図など様々な種類のグラフを描画する機能が提供されています。"
      ],
      "metadata": {
        "id": "xQT1wYINL7RA"
      }
    },
    {
      "cell_type": "markdown",
      "source": [
        "**【matplotlibのインポート】**\n",
        "\n",
        "matplotlibを使うには、`matplotlib.pyplot` をインポートします。このときに別名をつけておくと`matplotlib.pyplot`の関数を簡潔に呼び出せます。下のコードでは`plt`という別名をつけています。\n",
        "\n",
        "```python\n",
        "import matplotlib.pyplot as plt\n",
        "```"
      ],
      "metadata": {
        "id": "uKij5Dp_PEaD"
      }
    },
    {
      "cell_type": "markdown",
      "source": [
        "**【散布図】**\n",
        "\n",
        "散布図は、２つの値の関係性を見るのに適したグラフです。\n",
        "\n",
        "散布図を描くには `matplotlib.pyplot` の`scatter`関数を使います。`scatter`関数の第1引数に横軸となるデータを、第2引数に縦軸となるデータを指定します。\n",
        "\n",
        "`show`関数を忘れないようにしてください\n",
        "\n",
        "```python\n",
        "import pandas as pd\n",
        "import matplotlib.pyplot as plt\n",
        "\n",
        "sales = pd.read_csv('./sales.csv')\n",
        "\n",
        "plt.scatter(sales['month'], sales['total_sales'])\n",
        "\n",
        "plt.show()\n",
        "```"
      ],
      "metadata": {
        "id": "agurT7h80M1i"
      }
    },
    {
      "cell_type": "markdown",
      "source": [
        "**【やってみよう！】**\n",
        "\n",
        "1.   お渡ししている`study_hours_score.csv` というCSVファイルをGoogle Colabにアップロードしてください。\n",
        "2.   `pandas` をインポートし、別名を `pd` としてください。\n",
        "3.   `matplotlib` をインポートし、別名を `plt` としてください。\n",
        "4.   `study_hours_score.csv` というCSVファイルを `read_csv` 関数を使って変数 `study_hours_score` に代入してください。\n",
        "5.   横軸に変数 `study_hours_score` の `study_hours` カラムのデータ、縦軸に変数 `study_hours_score` の `score` カラムのデータを使って、散布図を表示してください\n",
        "\n",
        "次のように表示されたら正解です！\n",
        "\n",
        "![image.png](data:image/png;base64,iVBORw0KGgoAAAANSUhEUgAAAh8AAAGdCAIAAAA9r4bIAAAMPmlDQ1BJQ0MgUHJvZmlsZQAASImVVwdYU8kWnluSkJDQQpcSehOkE0BKCC2A9CLYCEmAUGIMBBV7WVRw7WIBG7oqotgBsaCIYmFR7H2xoKCsiwW78iYFdN1Xvne+b+797z9n/nPm3LllAFA/yRWL81ANAPJFhZL4sCDG6NQ0BqkbIAAHZEAFblxegZgVGxsFoA2e/27vbkBvaFcdZVr/7P+vpskXFPAAQGIhzuAX8PIhPgQAXskTSwoBIMp4i8mFYhmGDWhLYIIQL5ThLAWulOEMBd4n90mMZ0PcAoAKlcuVZAGgdhnyjCJeFtRQ64PYWcQXigBQZ0Dsn58/kQ9xOsS20EcMsUyfmfGDTtbfNDOGNLncrCGsmIvcVIKFBeI87tT/sxz/2/LzpIMxrGGjZkvC42VzhnW7lTsxUoapEPeKMqJjINaC+IOQL/eHGKVkS8OTFP6oEa+ADWsGdCF25nODIyE2gjhUlBcdpeQzMoWhHIjhCkGnCAs5iRDrQ7xQUBCSoPTZLJkYr4yF1mVK2Cwlf44rkceVxXogzU1iKfVfZws4Sn1MrTg7MQViCsSWRcLkaIjVIHYqyE2IVPqMLM5mRw/6SKTxsvwtIY4XiMKCFPpYUaYkNF7pX5pfMDhfbHO2kBOtxAcKsxPDFfXBWnhcef5wLthlgYiVNKgjKBgdNTgXviA4RDF3rFsgSkpQ6nwQFwbFK8biFHFerNIfNxfkhcl4c4jdC4oSlGPx5EK4IBX6eKa4MDZRkSdenMONiFXkgy8DUYANggEDSGHLABNBDhC299b3witFTyjgAgnIAgLgqGQGR6TIe0TwmACKwZ8QCUDB0Lggea8AFEH+6xCrODqCTHlvkXxELngKcT6IBHnwWiofJRqKlgyeQEb4j+hc2Hgw3zzYZP3/nh9kvzMsyEQpGelgRIb6oCcxhBhMDCeGEu1wQ9wf98Wj4DEQNleciXsPzuO7P+EpoYPwiHCd0Em4PUE4V/JTlqNAJ9QPVdYi48da4NZQ0wMPwv2gOlTGdXFD4Ii7wzgsPABG9oAsW5m3rCqMn7T/NoMf7obSj+xMRsl65ECy7c8j1ezVPIZUZLX+sT6KXDOG6s0e6vk5PvuH6vPhOfJnT2whdhBrxU5h57FjWD1gYE1YA9aGHZfhodX1RL66BqPFy/PJhTrCf8QbvLOyShY41zj3OH9R9BUKpsje0YA9UTxVIszKLmSw4BdBwOCIeE7DGa7Oru4AyL4vitfXmzj5dwPRbfvOzfsDAL+mgYGBo9+5iCYA9nvBx//Id86WCT8dqgCcO8KTSooUHC47EOBbQh0+aQbABFgAWzgfV+AJfEEgCAERIAYkglQwHmafDde5BEwG08EcUALKwDKwGqwHm8BWsBPsAQdAPTgGToGz4CK4DK6Du3D1dIEXoA+8A58RBCEhNISOGCCmiBXigLgiTMQfCUGikHgkFUlHshARIkWmI/OQMmQFsh7ZglQj+5EjyCnkPNKB3EYeIj3Ia+QTiqFUVBs1Rq3RESgTZaGRaCI6Ds1CJ6HF6Hx0CboWrUJ3o3XoKfQieh3tRF+g/RjAVDFdzAxzxJgYG4vB0rBMTILNxEqxcqwKq8Ua4X2+inVivdhHnIjTcQbuCFdwOJ6E8/BJ+Ex8Mb4e34nX4S34Vfwh3od/I9AIRgQHgg+BQxhNyCJMJpQQygnbCYcJZ+Cz1EV4RyQSdYk2RC/4LKYSc4jTiIuJG4h7iSeJHcTHxH4SiWRAciD5kWJIXFIhqYS0jrSb1ES6QuoifVBRVTFVcVUJVUlTEanMVSlX2aVyQuWKyjOVz2QNshXZhxxD5pOnkpeSt5EbyZfIXeTPFE2KDcWPkkjJocyhrKXUUs5Q7lHeqKqqmqt6q8apClVnq65V3ad6TvWh6keqFtWeyqaOpUqpS6g7qCept6lvaDSaNS2QlkYrpC2hVdNO0x7QPqjR1ZzUOGp8tVlqFWp1alfUXqqT1a3UWerj1YvVy9UPql9S79Uga1hrsDW4GjM1KjSOaNzU6Neka7poxmjmay7W3KV5XrNbi6RlrRWixdear7VV67TWYzpGt6Cz6Tz6PPo2+hl6lzZR20abo52jXaa9R7tdu09HS8ddJ1lnik6FznGdTl1M11qXo5unu1T3gO4N3U96xnosPYHeIr1avSt67/WH6QfqC/RL9ffqX9f/ZMAwCDHINVhuUG9w3xA3tDeMM5xsuNHwjGHvMO1hvsN4w0qHHRh2xwg1sjeKN5pmtNWozajf2MQ4zFhsvM74tHGvia5JoEmOySqTEyY9pnRTf1Oh6SrTJtPnDB0Gi5HHWMtoYfSZGZmFm0nNtpi1m302tzFPMp9rvtf8vgXFgmmRabHKotmiz9LUcpTldMsayztWZCumVbbVGqtWq/fWNtYp1gus6627bfRtODbFNjU292xptgG2k2yrbK/ZEe2Ydrl2G+wu26P2HvbZ9hX2lxxQB08HocMGh47hhOHew0XDq4bfdKQ6shyLHGscHzrpOkU5zXWqd3o5wnJE2ojlI1pHfHP2cM5z3uZ810XLJcJlrkujy2tXe1eea4XrNTeaW6jbLLcGt1fuDu4C943utzzoHqM8Fng0e3z19PKUeNZ69nhZeqV7VXrdZGozY5mLmee8Cd5B3rO8j3l/9PH0KfQ54POXr6Nvru8u3+6RNiMFI7eNfOxn7sf12+LX6c/wT/ff7N8ZYBbADagKeBRoEcgP3B74jGXHymHtZr0Mcg6SBB0Oes/2Yc9gnwzGgsOCS4PbQ7RCkkLWhzwINQ/NCq0J7QvzCJsWdjKcEB4Zvjz8JseYw+NUc/oivCJmRLREUiMTItdHPoqyj5JENY5CR0WMWjnqXrRVtCi6PgbEcGJWxtyPtYmdFHs0jhgXG1cR9zTeJX56fGsCPWFCwq6Ed4lBiUsT7ybZJkmTmpPVk8cmVye/TwlOWZHSOXrE6BmjL6YapgpTG9JIaclp29P6x4SMWT2ma6zH2JKxN8bZjJsy7vx4w/F5449PUJ/AnXAwnZCekr4r/Qs3hlvF7c/gZFRm9PHYvDW8F/xA/ip+j8BPsELwLNMvc0Vmd5Zf1sqsnuyA7PLsXiFbuF74Kic8Z1PO+9yY3B25A3kpeXvzVfLT84+ItES5opaJJhOnTOwQO4hLxJ2TfCatntQniZRsL0AKxhU0FGrDH/k2qa30F+nDIv+iiqIPk5MnH5yiOUU0pW2q/dRFU58Vhxb/Ng2fxpvWPN1s+pzpD2ewZmyZiczMmNk8y2LW/Flds8Nm75xDmZM75/e5znNXzH07L2Ve43zj+bPnP/4l7JeaErUSScnNBb4LNi3EFwoXti9yW7Ru0bdSfumFMuey8rIvi3mLL/zq8uvaXweWZC5pX+q5dOMy4jLRshvLA5bvXKG5onjF45WjVtatYqwqXfV29YTV58vdyzetoayRrulcG7W2YZ3lumXrvqzPXn+9Iqhib6VR5aLK9xv4G65sDNxYu8l4U9mmT5uFm29tCdtSV2VdVb6VuLVo69Ntydtaf2P+Vr3dcHvZ9q87RDs6d8bvbKn2qq7eZbRraQ1aI63p2T129+U9wXsaah1rt+zV3Vu2D+yT7nu+P33/jQORB5oPMg/WHrI6VHmYfri0DqmbWtdXn13f2ZDa0HEk4khzo2/j4aNOR3ccMztWcVzn+NITlBPzTww0FTf1nxSf7D2Vdepx84Tmu6dHn77WEtfSfibyzLmzoWdPt7Jam875nTt23uf8kQvMC/UXPS/WtXm0Hf7d4/fD7Z7tdZe8LjVc9r7c2DGy48SVgCunrgZfPXuNc+3i9ejrHTeSbty6OfZm5y3+re7bebdf3Sm68/nu7HuEe6X3Ne6XPzB6UPWH3R97Oz07jz8Mftj2KOHR3ce8xy+eFDz50jX/Ke1p+TPTZ9Xdrt3HekJ7Lj8f87zrhfjF596SPzX/rHxp+/LQX4F/tfWN7ut6JXk18HrxG4M3O966v23uj+1/8C7/3ef3pR8MPuz8yPzY+inl07PPk7+Qvqz9ave18Vvkt3sD+QMDYq6EK/8VwGBDMzMBeL0DAFoqAHS4P6OMUez/5IYo9qxyBP4TVuwR5eYJQC38f4/rhX83NwHYtw1uv6C++lgAYmkAJHoD1M1tqA3u1eT7SpkR4T5gc8jXjPwM8G9Msef8Ie+fz0Cm6g5+Pv8LPAl8Thdzo2AAAAA4ZVhJZk1NACoAAAAIAAGHaQAEAAAAAQAAABoAAAAAAAKgAgAEAAAAAQAAAh+gAwAEAAAAAQAAAZ0AAAAAVuGsGAAAQABJREFUeAHtnQ2wVdV5v7nAvQIKFyHKhQYQiRHxIwlo5fqRtASlxNIYqKkZsESZJmM0iYAxYkcTGhW1DaZGQWsZbEMiI52aiBOdMUhQ40URoiPFIhoEG7iYRLko/C+gl/9Ptm62e5+z9sfZe5/98ZxxyPp817uedXLeu9f7rrUbDh482I0PBCAAAQhAIFYC3WOVhjAIQAACEIDA+wSwLnwPIAABCEAgfgJYl/iZIhECEIAABLAufAcgAAEIQCB+AliX+JkiEQIQgAAEsC58ByAAAQhAIH4CWJf4mSIRAhCAAASwLnwHIAABCEAgfgI94xdZXWJXV9f27dv79u3b0NBQvRU1EIAABCCQdQI6if/2228PGTKke/cqTylqkdrn9ddfzzow9IMABCAAgcAE9KtezYKk+uyipxbpLG369esXWHkaQgACEIBA5gjs3r176NCh1q96ReVStS7WhphMC9al4mJQCAEIQCBfBAxujir7ZfmaH9pCAAIQgEDGCGBdMrYgqAMBCECgEASwLoVYRiYBAQhAIGMEsC4ZWxDUgQAEIFAIAliXQiwjk4AABCCQMQJYl4wtCOpAAAIQKAQBrEshlpFJQAACEMgYAaxLxhYEdSAAAQgUgkCqpykLQYxJQAACEMg3gfe6Dj675c033u48tm+vPx8xoEf3RC5+xLrk+1uC9hCAAARCEXh0w455Kzbu6Oi0eg1u7vW9yaP/6pTBoYQEaczOWBBKtIEABCBQBAIyLZcvXW+bFk2pvaNTJSqPfXpYl9iRIhACEIBAFgloQ0xPLQc/qpqVVblqP1pTaw7rUitB+kMAAhDIBQH5WpxPLbbOsioqV61dEksC6xILRoRAAAIQyDoBufENKpprDR2rVWFdqpGhHAIQgEChCChCzDAfc62hY7UqrEs1MpRDAAIQKBQBBR8rQswbfawSlas23tliXeLliTQIQAACGSWgcy0KPpZyTgNjpVUe+6kXrEtGvweoBQEIQCB2AjrXsmj6mJbmw1tkSqskifMunKaMffkQCAEIQCC7BGRIzhvdwln97K4QmkEAAhDIKQFtgrWOHJi08uyMJU0Y+RCAAATKSADrUsZVZ84QgAAEkiaAdUmaMPIhAAEIlJEA1qWMq86cIQABCCRNgJixpAkjHwIQgEBoAum8giW0WmE6YF3C0KItBCAAgeQJpPYKlkSnws5YongRDgEIQCAcgTRfwRJOs5CtsS4hgdEcAhCAQGIEUn4FS2LzeF8w1iVRvAiHAAQgEIJAyq9gCaFZ+KZYl/DM6AEBCEAgGQLml6yYa5PRKLpUrEt0dvSEAAQgEC8B80tWzLXxalK7NKxL7QyRAAEIQCAeAim/giUepatIwbpUAUMxBCAAgdQJpPwKlkTnh3VJFC/CIQABCIQjkOYrWMJpFrI1pylDAqM5BCAAgYQJpPYKlkTngXVJFC/CIQABCEQhkM4rWKJoFrgPO2OBUdEQAhCAAAQCE8C6BEZFQwhAAAIQCEwA6xIYFQ0hAAEIQCAwAaxLYFQ0hAAEIACBwASwLoFR0RACEIAABAIT8Lcu77333vXXXz9ixIjevXuPHDnyBz/4wcGDBy35Stxwww2DBw9W1YQJEzZv3hx4XBpCAAIQgECRCfhbl1tvvXXRokV33nnnSy+9pPRtt9324x//2EKi9B133HH33Xc/88wzRx555MSJEzs7O4tMi7lBAAIQgEAwAg32g0i19n/91389aNCgxYsXWw2mTp2qJ5WlS5eq45AhQ+bMmXP11VerqqOjQ83uu+++iy++uJqo3bt3Nzc3q2W/fv2qtaEcAhCAAASyT8D399z/2eWss85auXLlyy+/rNm+8MILTz311KRJk5TesmVLe3u7NsQsCjIbZ555ZltbmwvKvn37pIT9cdWShQAEIACBQhLwP6t/7bXXyjaMGjWqR48e8sHcdNNN06ZNEwuZFv2r5xWbi9JWoV2ixPz58+fNm+csIQ0BCEAAAoUn4P/s8sADD/z0pz/92c9+tn79+v/4j//4l3/5F/0bnMvcuXO1FWZ9Xn/99eAdaQkBCEAAAvkl4P/s8p3vfEePL5Y35dRTT926daseR2bMmNHS0qJp79y5UzFj1vyV/vSnP+1iccShj6uQLAQgAAEIFJuA/7PL3r17u3c/3Ez7Y11dXYKiGGUZGLlkLEDaPVPkWGtra7F5MTsIQAACEAhCwP/ZZfLkyfK1DBs27OSTT/7tb3+7YMGCyy67TKIbGhquuuqqG2+88YQTTpCl0ZkYhZBdeOGFQUalDQQgAAEIFJuAv3XR6RZZjm984xtvvPGG7MfXv/51naC0oFxzzTV79uz52te+tmvXrnPOOefRRx/t1atXsXkxOwhAoLQE3us6+OyWN994u1Pvt9crinVJfr1QhNUkbPtY5uV/3iWWYSwh2j3jvEuMPBEFAQikRuDRDTvmrdi4o+ODA+ODm3t9b/JoveYrNQXsgcJqEra9PZA54ft7ftihYhZELQQgAIHSEtAP9OVL19umRRzaOzpVovKUmYTVJGz7GKeDdYkRJqIgAIECEtC2kp5aPrhd8cP5WVmVq/bDssT/N6wmYdvHOwGsS7w8kQYBCBSNgHwtzqcWe3qyKipXrV2SdCKsJmHbx6s/1iVenkiDAASKRkBufMOUzLWGjhGqzGN5a70lzkHNtc6W0dJYl2jc6AUBCJSFgCLEDFM11xo6Rqgyj+Wt9ZY4BzXXOltGS2NdonGjFwQgUBYCCj5WhJg3+lglKldtaiDCahK2fbwTwbrEyxNpEIBA0QjoXIuCjzUrp4Gx0ipP89RLWE3Cto935bAu8fJEGgQgUEACOteyaPqYlubDW2RKqyT98y5hNQnbPsbF4zRljDARBQEIFJmAAnwVhSVnuDwW2nRK86nFhTWsJmHbu4armPU9TYl1qciNQghAAAI+BJL4yfYZskp1XTTxtS7+94xVmQ7FEIAABMpLQGfgc3oxTGprht8lNdQMBAEIFIRAHa9XcRHMjiYuxZTFuniZUAIBCECgKgFtQ+X0YpiqU0qmAuuSDFekQgACBSVQ3+tVnFCzo4lTKzuN38VGQQICEICAPwHzBSqG2th974axNA1zrf88a26BdakZIQIgAIEyETBfoFKtNokogGpjWathrk1hxdgZSwEyQ0AAAsUhEOF6lYR87xE0SXMZsC5p0mYsCEAg9wTCXq+SXBRAWE1SRo91SRk4w0EAArknEOp6lUR976E0SZk7fpeUgTMcBCBQBAL6WT9vdEuQi2HM3nVzbRBSFTWJPYIgiCauNlgXFxCyEIAABAIR0MZU68iBvk3N3nVzra9wq4FLkyQiCAJq4mzGzpiTBmkIQAACMRNI2feeUARBBChYlwjQ6AIBCEAgKIE0fe/JRRAEna2jHdbFAYMkBCAAgQQIpOZ7TzSCICwY/C5hidEeAhCAQGgCFX3voaX4dTDHCJhr/WSHrse6hEZGBwhAAAIRCLh87+awLnNttdHNMQLm2moyI5djXSKjoyMEIACBiATMYV3mWsOQVgRBe0fnwY82aujWTa9qVu1Hi5PN4XdJli/SIQABCLgImMO6zLUuUa5smhEErqG9WayLlwklEIAABJIiYA7r2v9uV40vj0ktgsAXEDtjvohoAAEIQCA2Auawrp+0vbajo9M7mHa6VK6+Qc5vphNB4FXSVYJ1cQEhCwEIQCBBAubAra1v7jWMbe7r7OiKIHBWpZZmZyw11AwEAQhAoJs5cGv4gD4GRua+ho51qcK61AU7g0IAAiUlYL4Y5pLW4/r3aayI5ug+jSkHfVVUI3gh1iU4K1pCAAIQqJVA5LAuV5BxrXok3x/rkjxjRoAABCDgIGAI65LfftfeA462h5MqV+3hfOZTePUzv0QoCAEIFI5AtbAus9/eXOuEFO2ov1NC7WmsS+0MkQABCEAgNIGKYV1mv7251tYg8lF/W0IsCXbGYsGIEAhAAAIxEDD7/IN49Ws56h/DBBwisC4OGCQhAAEI1JVAZJ+/pbX5IgDVpjk5rEuatBkLAhCAgA8Bg8/fp2e3buaLAFIOCsDv4rteNIAABDJEIAv+6qRxVPP5+45rdvuba32Fh23gb12OO+64rVu3OuV+4xvfuOuuuzo7O+fMmbNs2bJ9+/ZNnDhx4cKFgwYNcjYjDQEIQCBeAhnxV8c7qYrSKvr8K7Z0Fprd/uZap5xY0v47Y2vXrt3x4eexxx7TqBdddJH+nTVr1ooVK5YvX7569ert27dPmTIlFoUQAgEIQKAigez4qyuql4XC2oMCYpyFv3U55phjWj78PPzwwyNHjvzc5z7X0dGxePHiBQsWjB8/fuzYsUuWLHn66afXrFkTo2aIggAEIGATyJS/2tYqa4kagwLinY6/dbHH279//9KlSy+77LKGhoZ169YdOHBgwoQJVu2oUaOGDRvW1tZmN7YT2jfb7fjY5SQgAAEIBCeQKX91cLXTb1lLUEC82vr7Xezxfv7zn+/ateurX/2qStrb25uamvr372/XyumiQjtrJ+bPnz9v3jw7SwICEIBABAJmj7S5NsJwue4SOSgg3lmHsC7aCps0adKQIUNCaTB37tzZs2dbXfQMM3To0FDdaQwBCJSNQMWoMLNH2lBbUVosSJOTXLt60YICah/XKSGodVHY2K9+9av//u//tjrLEaONMj3K2I8vO3fuVKFTtJU+4tDHW04JBCAAAS+BalFhlr+6vaPTdSCwoVu3luZe1Q6xV5PmHTdsSXKSw2qS2fZB/S7y2x977LEXXHCBNRN58hsbG1euXGllN23atG3bttbW1szOE8UgAIHsEzBEhUXwVxuk1YgiOck1Kpap7oGsS1dXl6zLjBkzevb84Fmnubl55syZ2vJatWqVPPyXXnqpTMu4ceMyNTeUgQAEckTANyoslL/aV1pkMslJjqxSNjsG2hnTnpgeTRQt5pzD7bff3r1796lTp9qnKZ21pCEAAQiEIuAbFdY6cmBwf3UQaaHUsxsnJ9keohiJQNbl/PPPP3jQtdvZrVevXjqxr08xQDALCECgvgTMcV92bUB/td2+4qTMtRW72IXmvuZaW0i8iWzGFwSyLvGCQBoEIAABLwFD3Jcam2uTluaUb9bEXOuUE1c6s/EFgfwucVFADgQgAIFqBOK9xSReaU6dk5PsHCVgOsvxBViXgItIMwhAIFkCEaLCDArFK805UHKSnaMESWc8vgDrEmQRaQMBCKRBIFRUmK9C8UpzDpecZOcovmnf+AJfCYk2wO+SKF6EQwAC4QgEjwoLIlfSxo8a9JO217a+uXf4gD6XtB7X1PMjf1JH9ofHq2eQuXjbmCMIzLVeabGXYF1iR4pACECgJgIBo8KCjOHyeP/7U1u+N3m0DIPV11U7uLmXs9ZXfox6+o5VsYE5gsBcW1FgvIUfMePxikYaBCAAgToSMHu8zbV1VDv40JmKL/CqjXXxMqEEAhDIPQGzx3v/u13zVmx0HeKzsipX31zMPzvxBRVxYV0qYqEQAhDINwGzx1uemB0dnd4ZyqqoXH29Vdks0S7fouljdI+nrZ7SKrF3/+zy9BP4XdJnzogQgEBsBKq55c0+bTn5DRqY+xo61qUqC/EFFSeOdamIhUIIQCAHBAxuebNPW/FjhumZ+xo61quq7vEFFSfOzlhFLBRCAAJZJ2B2y5s93gpNVoSY3g3j+qhE5errKicbgQDWJQI0ukAAAnUmYHbaq9bs8dapFwUfaw5OA2OlVa6+dZ5eIYbHuhRiGZkEBEpGwOy0t9zyZo+3ubZkOBOZLn6XRLAiFAIQSJSA2fFu15o93ubaRPUvg3CsSxlWmTlCoDgErCCxzTvfMUzJ6ZbPpsfboHxhqrAuhVlKJgKB4hNwBYl5JyyHiQ58BHTLu6SFvQnGOzolTgL4XZw0SEMAAtkl4A0Sc+kayi3vldbe0Xn50vUqd4klG40A1iUaN3pBAAKpEqgYJObSIPgx9YrScncTjGv6WcuyM5a1FUEfCECgAoFqQWJW0yv/cuTZnzhGG2IBg4mrSbNvgmkdObCCEhSFIYB1CUOLthCAwCEClmtdoVnyn1tODv1eV8v6/uK7pCnrfSOLHQZWcQVOGNQ3lD0wSzPXVlSAQi8BrIuXCSUQgICJgMsZ3r9Po1rv2nvA6uPK+rrKXdL6NPX4fwfeO/jhJcU3/fKlfzh3xNwvjHaGgXmVM9eGbR9Wmlc+JSKA34WvAQQgEIKA1xkuu2KbFglyZc2ucq+0vfsPmxZJ01349zyxZf4vN+oJKca7W+KVFgJfmZpiXcq02swVArURqOgMN4s0uMqDS7v3yS1qHOPdLdqsi1GamUBpa7EupV16Jg6B0ASqOcPNgmxXuatZcGl6gpEnJt67W+KV5poaWRHA78LXAAIQCEqgFne3t6+3xKCH9UYW37tb9IjjjC/QM4q3xB5F0saPGuSNILAbkKiFANalFnr0hUC5CNTi7vb29ZYYaNpvZJHBqBYe5goQkJ/mbz41+KEXdtivoXSFGLja//tTW7RdJpNjUIOq4ATYGQvOipYQKDuBas5wMxcdodfPuhW47GwZXJpuxNcbWZx9vWlvgICMiiICbNOiLs4QA297Z61XPiVhCWBdwhKjPQTKS6CiM9yMw3A7S3BpCkrWG1kMAwUMELBDDPa/2zVvxcYPw54/EGzXSpphLKoCEjAtWEARNIMABMpDwOsMP7pPo3XGxYKgtDNrvp3FK+3Iph4NlkU6JE5PLV//7PvnXcyEgwcIyG7oaUa+FuczjS3cqpU0u4REZAL4XSKjoyMESkpAJuG80S1O57lAGLJ6RjGQ8krTo0NYT3uoAAEpY8UIVNMqrLRqckpejnUp+ReA6UMgCgGva93laXdlzWO4pCk789zjzV1ctaECBNTXjhFwybGyYaVVFEIhO2N8ByAAgdwTCB4gYIUYKEbAuX3nnL82+rwBCM4GpAMSwLoEBEUzCEAguwT0uOM9e+9V1xBiYDfGoW+jqDGBdakRIN0hAIFMEPAGCCgMWhEB+tfWzw4xkJfIeTea3UAJlePVdwKJnMbvEhkdHSEAgWwR8AYI6Jnmmr86yRlxoBIpbfbbm2uzNecMa4N1yfDioBoEskrAcL1KfVWW8XAFFHhLpKHZb2+ure8EczQ61iVHi4WqEMgEAdcFKq7rVTKhop8SVhSADue7vCx6rtHuGV59P36B6vG7BMJEIwhAwCJQjAtU9EDjjQII4vPnaxCcANYlOCtaQqDsBCpeuGL9+a+LVfJ1gYo3CsD2+Zd9mWOaPztjMYFEDARKQEDucfMFKi6fR8aRVIwCyLjOOVIP65KjxUJVCNSZgDmYylxbZ9WrDF/R51+lLcXhCATaGfv9738/ffr0gQMH9u7d+9RTT33uueesQQ4ePHjDDTcMHjxY5RMmTNi8eXO4wWkNAQjkioA5mMpcm6uJomwMBPyty1tvvXX22Wc3NjY+8sgjGzdu/OEPf3j00UdbI99222133HHH3Xff/cwzzxx55JETJ07s7OyMQSlEQAACmSRQ7cIV+cMrvsElk5NAqZQINOj5wzzUtdde+5vf/ObJJ590NVPHIUOGzJkz5+qrr1ZVR0fHoEGD7rvvvosvvtjV0s7u3r27ublZLfv162cXkoAABHJEwIoZk8L2D4cVarVo+hi5MXI0EVStkYDv77n/s8tDDz10+umnX3TRRccee+xnPvOZe++919Jpy5Yt7e3t2hCzsjIbZ555Zltbm0vjffv2SQn746olCwEI5IsAoVb5Wq86auvv1f/d7363aNGi2bNnX3fddWvXrv3Wt77V1NQ0Y8YMmRbprecVW3ulrUK7RIn58+fPmzfPWUIaAhDINQFCrXK9fKkp729durq69Oxy8803Syc9u2zYsEGOFlmXgCrOnTtXlslqrCeYoUOHBuxIMwhAILMECLXK7NJkRzH/nTGFhI0effi1oyeddNK2bds0gZaWFv27c+dOezJKW4V2iRJHHHGEvCz2x1lFGgIQgAAEikrA37ooYGzTpk32/F9++eXhw4crO2LECNmSlStXWlV6LlHkWGtrq92SBAQgAAEIlJaA/87YrFmzzjrrLO2MffnLX3722Wf/7dBHvBoaGq666qobb7zxhBNOkKW5/vrrFUJ24YUXlhYlE4cABCAAAZuAv3U544wzHnzwQblP/umf/klW5Ec/+tG0adOs/tdcc82ePXu+9rWv7dq165xzznn00Ud79Tr8oh57DBIQgAAEIFA2Av7nXWIkot0zzrvEyBNREIAABOpFwPf33N/vUi/VGRcCEIAABPJLAOuS37VDcwhAAALZJYB1ye7aoBkEIACB/BLAuuR37dAcAhCAQHYJ+MeMZVd3NIMABBwE9GpIvd1LL1nRTfi6zFjH6R2V7yd9Gzjbh2rs7Bh2IFdfsoUhgHUpzFIykVIT0NXFevew/eJI3Yev98Y7Ly32beDEF6qxs6PStfR1iSKbawJEJOd6+VAeAu8T0A/65UvX21fiq8R1K75vAyfHUI2dHYNo4mpPNr8EiEjO79qhOQQCEdAWlp5anKZF3aysylXr28A5TKjGzo5K19LXJYpsAQjg1S/AIjKFUhOQr8XeEHOCkIFRuWp9Gzh7hWrs7Kh0LX1dosgWgAB+lwIsIlMoNQG58Q3zN9eqo6uBK+uSnFytayCyBSCAdSnAIjKFUhNQhJhh/uZadXQ1cGVdkpOrdQ1EtgAE2BkrwCIyhVITUPCxIsTc0ceHHPsqV61vAye+UI2dHZVW3/59Gl2FVvboPo2qrVhFYVEJYF2KurLMqywEdK5FwceardPAWGmVq9a3gZNUqMbOjua0K+jA3JjaYhDAuhRjHZlFqQnoXMui6WNamg9vkSmtEvu8i28DJ75QjZ0d5dXftfeAs8ROq1y1dpZEGQjgdynDKjPH4hOQSThvdIt+weV4l3dE21B6CnFO27dB5MZ2x+A+f8UuG1S1BZLINQGsS66XD+UhcJiAzEnryIGH856UbwNnj1CNrY4Bff4c5ndyLnCanbECLy5Tg0CqBIJEBFgXATgP6LR3dOqiAZWnqiuDJU8A65I8Y0aAQDkI6HHHHF/AYf5yfBE+mCXWpVTLzWQhkCwBc0SAfC3OpxZbFftaAbuERAEI4HcpwCIyheIQKIC72xA+ENztX5wVLfFMsC4lXnymnjEChXF3V4sICOj2z9iyoE5EAuyMRQRHNwjES6AM7u4gbv94qSKtjgSwLnWEz9AQ+IBASdzdvm5/vhBFIoB1KdJqMpe8EiiPu9vs9s/r+qF3JQL4XSpRoQwC6RIolbvb4PZPlzqjJUsA65IsX6SXjUC0oK8k3N3RNElnvaq5/dMZnVHSIYB1SYczo5SCQOSgL8vdrVPrrruEdVOY7qNUbVh8kTUJOxDtIVCNAH6XamQoh0A4ArUEfcXr7q5Fk3BzpjUEqhPAulRnQw0EAhOoPegrLnd37ZoEnjQNIWAiwM6YiQ51EAhIwDfoy3x7sTVKLO7uWDQJOGuaQcBAAOtigENVdglkzWUdV9CXy90dYZpxaZLdtUeznBDAuuRkoVDTQSCDLuskgr6iTTMJTRzsSUIgKAH8LkFJ0S4jBLLpso79jpPI04xdk4ysO2rkjgDWJXdLVmqFM+uyjjfoq5ZpxqtJqb9tTL42AliX2vjRO10Cvi7rdNX5yGhxBX1JaI3TjFGTj8yQDATCEMDvEoYWbetNoC4ua7Nr3Vl73ugW/SfbID3l/7BOQba9+ic7qweLIAhrn2Ys4WdBVKUNBKoRwLpUI0N5Fgmk77I2u9ZrqTXwjWWarvAzw3BUQSAJAuyMJUEVmUkRSNllbXat11JrBpTyNM3KUAuBaASwLtG40as+BNJ0WZtd6/vf7Zq3YqPrWjArq3JzrSSb8aU5TbMm1EIgMgGsS2R0dKwPgdRc1mbX+k/aXtvR0elFILuhcnOtJHs7ukpSm6ZrXLIQiIsAfpe4SCInPQLpuKzNrvVfv/wHw4S3vrnXUGuWbHdMZ5r2cCQgEC8B/2eX73//+w2Oz6hRoywNOjs7r7jiioEDBx511FFTp07duXNnvJohDQIGApbL+ouf/jPd36W0oWXkKrNr/cnNfzRIHj6gj6HWLNnZMYVpOocjDYEYCfhbFw128skn7/jw89RTT1nDz5o1a8WKFcuXL1+9evX27dunTJkSo1qIgkDdCVRzrfsq1r9P4yWtxw1u7uU1eipRuRWp7CuHBhDINYFA1qVnz54tH34+9rGPacIdHR2LFy9esGDB+PHjx44du2TJkqeffnrNmjW5ZoHyEHASqOhadzaolpYJqdjXMjbfmzw6oYetavpQDoG6EAhkXTZv3jxkyJDjjz9+2rRp27Ztk6Lr1q07cODAhAkTLKW1XTZs2LC2tjbvHPbt27fb8fE2oAQCmSXgda0HUfWtvQfkt/f21VsmF00fo/IgQmgDgbwT8Pfqn3nmmffdd9+JJ56ovbF58+ade+65GzZsaG9vb2pq6t+/vz3/QYMGqdDO2on58+erl50lAYF8EbBd649s2PGfbVsDKm/57e2+ysrXog0xnloCAqRZAQj4W5dJkyZZ8zzttNNkaYYPH/7AAw/07t074OTnzp07e/Zsq7GeYYYOHRqwI80gkBECMgnWu7+CW5fNO9/WBTCWOQny3rCMzBQ1IBAjgUA7Y/Z4elj55Cc/+corr8gLs3///l27dtlVihlToZ21E0cccUQ/x8cuJwGBfBGwnPwBdb5z1atfuXfNObc+rvP8AbvQDAIFIxDOurzzzjuvvvrq4MGD5clvbGxcuXKlhWPTpk3yx7S2thaMDtOBgE1ATzB/86lwLpP2js7Ll67HwNgMSZSKgL91ufrqqxVz/Nprrykq7Etf+lKPHj2+8pWvNDc3z5w5U1teq1atkof/0ksvlWkZN25cqdgx2VIR0PUtD70Q7kHEvhjG9+qXUpFksiUh4O93+b//+z+Zkz/96U/HHHPMOeeco7BjJUTn9ttv7969u85RKips4sSJCxcuLAkypllOAtUuhrFofOnTQx58fruXjHUxjPriffHCoaTYBPyty7Jlyyoi6NWr112HPhVrKYRAdgjo0UG/75EDt6zuihkzzKhv70ZDrdW3YsxYjboZBqUKAvUl4G9d6qsfo0OgRgJye+jSYvvGSR2V13nG4IdOXN2rKWO++kXBZvrPO7RLuLdBteEoh0D2Cfj7XbI/BzSEQDUC+vmWX902LWoWytPu7e4dSCfwZRWqXf3ibO8a2ivc1cDZlzQEckcA65K7JUPhoAS06WR4BYtqzYIqdnd1sS93aerZXY9EqrVKXM2srNPJX1G4s0FFCRRCIEcEsC45WixUDUegmh/e9rSbxVXr7uzlvNxFu2266EUlzgautD10NeF2A1dHshDIHQH8LrlbsrwqrL/Wa3GtR5i2+TUq5loNZ27w963DJ50y2OWot69+MV8bY5bsO3QEFHSBQPoEsC7pMy/jiHVxX5tfo2Ku1SKZG8i0VAwyDnJtjFmy79Bl/AIx5xwSYGcsh4uWN5Xr5b627m7xOkIsP7xqzSBr6e7bVw30GpiKCqjcV7eKHSmEQKYIYF0ytRwFVKaO7ms9Rng97bYfXrVm3LV0r6Wvj1pmpamFQGYIYF0ysxQFVaS+7muvp93ph/dFXkt3c19h2bX3QEUFrNfDVKyiEAI5IoDfJUeLlUtVzR5sc20sE7Y97RpLDg9tOvk+tTjHraW7oa954uZap3qkIZBZAliXzC5NQRQze7DNtXEhkDmp6IEPKL+W7tX6midurg2oNs0gUF8C7IzVl3/xR/f1bxcfQaUZ4tWvRIWyQhHAuhRqOTM4Gf3xXotrPYMzSlolvPpJE0Z+OgSwLulwLvUoZv92OdHg1S/nupdq1vhdSrXcdZuswb9dN53qOrDZb2+uraviDA6BoASwLkFJ0a5GAtX82zWKTaG7+Q4bc2019cx+e3NtNZmUQyBTBLAumVoOlMkcAfMdNuZaw2SsYAdduW/di2y3lNNFJ3JUa5eQgEBOCeB3yenCoXYaBMx32JhrzfoR7GDmQ20BCGBdCrCITCERAuY7bPa/21XLy2OkMcEOiSwbQjNDgJ2xzCwFimSMgPkOm5+0veZ85aWtu/2CliDnNwl2sLmRKB4BrEvx1pQZxUPAHLi19c29hmHMfZ0d8xvs4JwFaQh4CbAz5mVCCQTeJ2AO3Bo+oI8Bk7mvoSNVECgMAaxLYZaSicRMwHyHzSWtxw1u7uU9V68SlRP0FfNiIC6HBLAuOVw0VE6FgDmsq6lnd264SWUdGCSvBLAueV059E6BgDmsy1ybgnoMAYEsE2g4eNB1nCtBbXfv3t3c3NzR0dGvX78Eh0F0IQhEOwMfbermsWqp9dXHLNy3Ow0gUC8Cvr/nxIzVa2kY10Qg8hl4k9Aqdb5jmcO6zLVVxvyg2Hdoc3dqIZBlAuyMZXl1SqpbLWfgwyJLcyyXbnUc2qUJWQgkQQDrkgRVZEYnoJ2iGs/ABx87zbFcWtVxaJcmZCGQEAGsS0JgERuRgPmEvGojyq3ULc2xXOPXcWiXJmQhkBAB/C4JgUVsRALmU+6PbNghuTpNIm9HxAEc3QKOpR4yBmqsM5LpDG1WzDEDkhDILgGsS3bXppyamU+5/2fbVv2n44o6a6KA4BoRBRmrf59GjbJr7wFrrHSGNitW46zpDoF0CLAzlg5nRglKoNoJeWd/vRbl8qXr5RV3FkZIBxlLdsU2LRoi6aE56h9hHemSTQJYl2yuS3m1qnhC3oXDOqIl5798466qUNkgY7kEJjq0tdmnx7JY9v1cmpOFQMoEsC4pA2c4fwLeM/DePvqV1wX4tTv5g4zlGj25ofVWykXTx9S+4+dSmCwE6kIAv0tdsDOoDwH9wp43ukXGQ258OVqqtY7F+x1wLJcO8Q4db8iAS1WyEKgLAaxLXbAzaAUC2uZyhWZZL+AyWJfNO99ue/VPtcdxaSfKdyyXxnE53u2hXfLJQiDvBLAueV/BgugvF738KPbbHu3QLMvxLl96RQfLnate1X924xpZmMeyhcs7oi0sNbZLSEAAAl4C+F28TChJm4DhTpQgjve44riCjIXjPe0vB+PllgDWJbdLVxTFfe9E8XW8xxXHJaLesXTexTryYvHG8V6U7x3zSJwAO2OJI2YAMwH5WuwNMWdLOzRLHhHb8f6bV/5456pXnM2stLOxtzZUiT2W7WlXd5dDKJRAGkOgnASwLrlfd68z3DClUI0NcmKsMgdf2bWW99vOVlSgWm3YWXs97ZbPv+KgFEIAAhUJhLMut9xyy9y5c7/97W//6Ec/krjOzs45c+YsW7Zs3759EydOXLhw4aBBgyoOQ2FCBKo5wysOF6pxRQlJFJqDr1y1rqxLn4q12Zy1S3OyECgegRB+l7Vr195zzz2nnXaaTWHWrFkrVqxYvnz56tWrt2/fPmXKFLuKRAoEDM5w7+ihGnu7J1diRWpZ3nLnKCpRMJgrNCtUY0nL7KydMyUNgUISCGpd3nnnnWnTpt17771HH320BUIvMF68ePGCBQvGjx8/duzYJUuWPP3002vWrCkkpgxOytcZ7tQ5VGNnxxTSFSO1qoVmhWqc5VmnAJYhIFBfAkGtyxVXXHHBBRdMmDDBVnfdunUHDhywS0aNGjVs2LC2tja7gZXQpplev2x/XLVkIxPwdYY7JYdq7OyYTtobqWUIzQreOOOzTocto0CgXgQC+V3kWVm/fr12xpxatre3NzU19e/f3y6U00WFdtZKzJ8/f968ea5CsrUTqObBtiS7al1Z1+jmWlfjhLLeSC09plQbK2Bj87zMtdWGphwCEAhIwN+6vP7663LjP/bYY7169Qoo1NlMUQCzZ8+2SvQEM3ToUGct6cgEKnqwbWmuWlfWbmYlzLWuxsllvZFahrGCNDbPy1xrGJoqCEAgCAH/nTHtgL3xxhtjxozpeegjB/4dd9yhpJ5U9u/fv2vXLnuYnTt3trS02FkrccQRR/RzfFy1ZCMTCOXfVmPnkUDnoEf3aXR5zp21uU6HQpTrmaI8BDJIwN+6fP7zn3/xxRef//Bz+umny72vnBKNjY0rV660ZrVp06Zt27a1trZmcJKFVCmUf9tAoOL9XYb2OaqKC1GOpoyqEMgOAf+dsb59+55yyim2xkceeeTAgQOtkpkzZ2rXa8CAAXo4+eY3vynTMm7cOLsliaQJWP5t5+WPcoZXfCWw/NvOFyw6FVO5aot6WjA4IicT0hCAQO0E/K2LYYzbb7+9e/fuU6dOtU9TGhpnsCrsEe4MTgH/tu+iVERUgKX3nTgNIFBfAg0HD6a3NSKvfnNzsw7K6FmnvtPW6KU6wq2XoHzl3qpHke7/h3FFfXap+DUr1dJXJEAhBGon4Pt77u93qV2JDEoo2xFu/Nv2l7BsS29PnAQEUiZQRutSwiPc+Let/1+VcOlT/kFhOAjYBMpoXcp5hNvyb8vtb6+94Ty83aZgiXIufcEWkenkhUBNXv28TNKlp/mQtrnWJSpf2Yr+7XxNoUZtzYtrrq1xaLpDoGwEymhdzIe0zbV5/34EOeKezTnGEuVlXlxzbTaxoBUEMkugjNbFcnHrZeyuaDlda6XNoqIeXM/sVzCIYnFFebH0QWjTBgKxECij3wUXdyxfndSExBjlxdKntmoMBIEyWhetOi7uvHz1Y4/yYunzsvTomXcCZdwZs9YMF3cuvru+UV4RzoGy9LlYepTMO4HyWhetXH5d3IavXSzeb4P8lKvMcVzmWoOqhVx6w3ypgkD6BEptXdLHnfSIcXm/k9YzuHxzHJe5NvgotIQABGInUFK/S+wcsyAwRu93FqZj6cAdNtlZCzSBQCgCWJdQuLLbOHbvd0amSpRXRhYCNSAQlgDWJSyxjLb39X5nVO8AahHlFQASTSCQOQL4XQ4vSXb84RE0Mfu3zbWHEfilIijmJzJQPVFegTDRCAJZIoB1+WA1suMPj6aJ2b9trg34hYymWEDhvs2I8vJFRAMIZIoAO2PvL0d2/OGRNUna+x1ZsUx93VEGAhBIjQDWpVt2/OG1aJKo97sWxVL7KjMQBCCQKQJYl27Z8YfXqEly3u8aFcvUNx5lIACBdAjgd+lm9nibawMuUkBnuHksc62lSezeb0vzRzbsMMw0iGKG7nWpCrgiddGNQSFQDAJYl25mj7e5NsiXILgz3DyWudbWJEbvt0tzewhXIqBirl51zLrmNbi51/cmj5ZhrqNKDA2B4hFgZ6xbov7wUM7wRDUJ+931au6VoDfi6KdZanurMlvinZfe9HP50vUqz6zOKAaBPBLAurx/l6X+dNXi6bfS/lhplavWLgybCOsMT06TWDR3CYkFkUtm0tmwK5K0PsiHQIEJYF3eX9yE/OERnOEJaRL2G1xNc6ccvcdz0fQx+dpQqjYvvaV0R0enap0TJA0BCNRCAL/LB/T0K3ne6Bb9vshHLUeCdntqeWqxhJrd3dVqk9Ak7Fekmm6WnL9vHT7plMGxIAqrWI3tzfMy19Y4NN0hUDYCWJfDKy5zEuFVVIf7e1Jmd7ehNnZNPKr5FBh0U0+ZFguUK/JKVfGaZx8tA1fbev7x7X2GTuZZGzpSBQEIeAlgXbxMYiuxvPRyGmvjxfmRx0LbSll2hgfRXG7weSs2akPJmlr/Po1K7Np7wMpmJxDLpaf8aF2u9Tjkcsv4iji/P6QhkAsC+F0SXKbseOnDTtJXc2/kleyKbVo0XEYCsbx6VjQtUrjGCI6whGkPgcITwLoku8QZ8dJHmKRB84qRV64hrMcDPdyosasqtaxBT2ckYB7DE1JjyEAQiEyAnbHI6IJ2zIKXPqiuH21XTfNqkVcf7d1NVsUKxIrXm+UaxZA16CmTd/0FJ32s7xHyteQxPMEwa6ogkBECWJfDC2H7fmP/xam7l/7wJEOmXJpbiMwXw7hGWPjrVzZu77ik9bimnmk/KJtjwGRavvjpP3NpSxYCEIiLANblA5Iu3292nNJxrXTtclyIAgp8cvMf9d9Nv3zpH84dMfcL759aTe1jjgEz16amJANBoKgE0v5zMpscvb7fjDils4PLiyiUbtqJuueJLfN/uTFUrxobW5Fv3rsWVJK7C2xqREF3CKRPAOuSofe7pL/8AUc0uMcDSrCa3fvklv3vdoXqUktj38i3WoTTFwIQMBPAumTo/S7mpapjrcE9bmul8y7WkRe7xJvQE8xP2l7zlidXYoh8S25QJEMAAiKA38Xn/S6WB7vGsCL9wa5f1a1v7h0+oE9d/Ns1ftfN7nH7YhiNIjskN74cLdVGFIRqVQmVV4t8S2g4xEIAAhYBrIvP+13+s22r/qvFyS9ng3aE7FMfdfFv1/h1NzvA7YthNIqCjxUhZrAusq81KhOhuyvyLYIEukAAAmEJsDNW9f0uTpSRnfwyLfJm26ZFMuvi33bOJUI6lHtcD2fOs4rO4VSuWmcJaQhAoKgEsC6V3+/iWu9oJ8+1IaanFpcoK5uyf7uiDsELQ7nHda5FwccVhas8/VMvFTWhEAIQSJoA1uV9wl7fr5e7ffLcW1WtRL4W51OLs5nKU/ZvO0ePkPYiMlygonMtX//sCOcTjNIqSfm8S4Rp0gUCEIiLAH6XD0javl+58eVoqcY3lJPf7ME21zoVSO4SAecovmkbkZz8vtcZyJBcNeHEm3+58bU/7T1uYJ/rvjC6d1MP3yFoAAEIFIaAv3VZdOjz2muvac4nn3zyDTfcMGnSJKU7OzvnzJmzbNmyffv2TZw4ceHChYMGDco1F9v3a7AuoZz8Zg+2udYm6TohX0t8gS0zcsJG5CvBqfaTm7v96qU3dAmx7JNvRxpAAALFIOC/M/bxj3/8lltuWbdu3XPPPTd+/PgvfvGL//M//6PJz5o1a8WKFcuXL1+9evX27dunTJlSDCLVPNjO2QV08tfu3/aekA84tFPb9NM5VTt9UIwIgQIT8LcukydP/sIXvnDCCSd88pOfvOmmm4466qg1a9Z0dHQsXrx4wYIFsjdjx45dsmTJ008/rfICkKrowXbNK6CTv0b/dsUT8gGHdimcZjanaqeJiLEgUAYC/tbFpvDee+9pH2zPnj2tra16lDlw4MCECROs2lGjRg0bNqytrc1ubCe0b7bb8bHLs5zwerC92gZ08tfi3652Qj7g0F6d0ynJqdrpwGEUCJSHgL/fRSxefPFFWRQ5WvTg8uCDD44ePfr5559vamrq37+/TUpOl/b2djtrJ+bPnz9v3jw7m5eE7cE2O/nNh9itycrAzDl/VISz+mbh5to6cjYrZq6to9oMDQEIxEsgkHU58cQTZU60G/Zf//VfM2bMkKMluBJz586dPXu21V7PMEOHDg3et74tbQ+2wclvPsRu668tspnnHm9nAybMws21AYdIoplZMXNtEvogEwIQqAuBQNZFjymf+MQnpJ9cLGvXrv3Xf/3Xv/u7v9u/f/+uXbvsx5edO3e2tLR453DEoY+3PC8llpNfvnTL4WGr3dCtmw58qNYuiT1Rx6FrmUtO1a5lyvSFAAS8BEL4XazOXV1dcqXIzDQ2Nq5cudIq3LRp07Zt27R75h0g7yUVnfwyLfooxFa1yU2wjkPXMqmcql3LlOkLAQh4CfhbF21tPfHEEzrvIu+L0r/+9a+nTZvW3Nw8c+ZMbXmtWrVKHv5LL71UpmXcuHHeAQpQ4nXyG46pxzvfOg5dy0RyqnYtU6YvBCDgItBw8KBry8fVoJusiJ5RduzYIYty2mmnffe73z3vvPPUyDpNef/999unKSvujDnFye8iIfLf9OvXz1mei3QdD8zXcehalianatcyZfpCoDwEfH/P/a1LjLB8tYlxLERBAAIQgEByBHx/z/13xpJTDskQgAAEIFBUAliXoq4s84IABCBQTwJYl3rSZ2wIQAACRSWAdSnqyjIvCEAAAvUkgHWpJ33GhgAEIFBUAliXoq4s84IABCBQTwJYl3rSZ2wIQAACRSWAdSnqyjIvCEAAAvUkgHWpJ33GhgAEIFBUAoHuSC7q5Os4L25JqSN8hoYABFIggHVJAbJ7CL12ft6KjTs6Oq2Kwc29dN2ybn50tyMPAQhAILcE2BlLe+lkWi5fut42LRpeL49RicrTVoXxIAABCCRGAOuSGNpKgrUhpqcW163UVlblqq3UiTIIQAAC+SOAdUl1zZ7d8qbzqcUeW1ZF5aq1S0hAAAIQyDUBrEuqy/fG2x/4WiqOaq6t2IVCCEAAAtkkkDOvvjnUylybhQU4tm8vgxrmWkNHqiAAAQhkjUCerIs51MpcmxHufz5igCLE5MZ3OVgaunXT25RVmxE9UQMCEIBAjQRyszNmDrUy19bIKMbuPbo3KPhYAmVO7I+VVrlq7UISEIAABHJNIB/WxRxqtf/drhwFYulcy6LpY/SkYn9vlFYJ511sICQgAIECEMjHzpg51Oonba+ZA7FaRw7M1FLJkJw3ukWTkhtfvhZtiPHUkqkFQhkIQKB2AvmwLuZgqq1v7jWAMPc1dEy0SuYkazYv0fkiHAIQKBuBfOyMmYOphg/oY1g2c19DR6ogAAEIQCAygXxYFyvUyuvyVolCsC5pPU7/VqslECvyl4OOEIAABCITyId1MYdaNfXsTiBW5G8AHSEAAQgkQSAf1kUzN4damWuTAIdMCEAAAhAwEGg4eNB1sM/QuNaq3bt3Nzc3d3R09OvXL5os82l8c220EekFAQhAAAJeAr6/5/mIGbMnZg61MtfaQkhAAAIQgEDSBHKzM5Y0CORDAAIQgECMBLAuMcJEFAQgAAEIfEAA68JXAQIQgAAE4ieQM79LLQDw+ddCj74QgAAEQhEoi3XJxf38oVaOxhCAAASyTKAUO2N5uZ8/y18UdIMABCAQikDxrYv59n7VhuJFYwhAAAIQCEKg+NbFfHu/aoNgog0EIAABCIQiUHzrYr6B31wbCiWNIQABCEDAJlB862K+gd9ca2MiAQEIQAACoQgU37qYb+/nfv5QXxcaQwACEAhIoPjWxXx7v2oDkqIZBCAAAQgEJ1B86yIW3M8f/AtBSwhAAAKxECjLaUoZmPNGtyhCTG58+Vq0IcZTSyxfIIRAAAIQqEigLNZFk+d+/orfAAohAAEIJEHAf2ds/vz5Z5xxRt++fY899tgLL7xw06ZNth6dnZ1XXHHFwIEDjzrqqKlTp+7cudOuIgEBCEAAAmUm4G9dVq9eLROyZs2axx577MCBA+eff/6ePXssZLNmzVqxYsXy5cvVZvv27VOmTCkzSuYOAQhAAAI2gXBvPv7DH/6gJxjZks9+9rN6gfExxxzzs5/97G//9m8l7n//939POumktra2cePG2dJdCd83Zbrak4UABCAAgWwS8P099392cU5MFkXZAQMG6N9169bpUWbChAlWg1GjRg0bNkzWxdle6X379kkJ++OqJQsBCEAAAoUkEMK6dHV1XXXVVWefffYpp5wiFu3t7U1NTf3797e5DBo0SIV21krIbdP84Wfo0KGuWrIQgAAEIFBIAiGsi7wvGzZsWLZsWSgQc+fO1ROP9Xn99ddD9aUxBCAAAQjklEDQiOQrr7zy4YcffuKJJz7+8Y9bU21padm/f/+uXbvsxxfFjKnQBeKIQx9XIVkIQAACECg2Af9nl4MHD8q0PPjgg48//viIESNsHGPHjm1sbFy5cqVVokjlbdu2tba22g1IQAACEIBAaQn4P7toQ0yBYb/4xS905MVyq8iN0rt3b/07c+bM2bNny8nfr1+/b37zmzIthoCx0iJm4hCAAARKSMA/IrmhwX3P45IlS7761a8Klk5Tzpkz5/7771dg2MSJExcuXOjdGXMylfdF22jyvsgaOctJQwACEIBAvggoEliBWnKO6Emjsuba+Ertg1e/8hpQCgEIQCCfBPSrXs2C+D+7xDhlxTTrSL922LzPQzGOUi9RliXnySwUf6CFwqXGEAtLDGgJEZNRefvtt4cMGdK9e2X/vb/fJYJm1bpICTvkrFqbvJdr0499v7CLCDSIhSUQoT1fs7DQfIlV3RM7NFJlmxNWCdpDAAIQgAAEnASwLk4apCEAAQhAIB4CPb7//e/HIwkpeoVMjx5/8Rd/0bNnqvuNeQcPtLArCLGwxNQeaGGh1U4sVa9+2OnRHgIQgAAEckqAnbGcLhxqQwACEMg0AaxLppcH5SAAAQjklADWJacLh9oQgAAEMk0A65Lp5UE5CEAAAjklgHWJYeH0hrQzzjhDdxDotdAXXnihrouOQWhpRNxyyy26u0EvpivNjKNP9Pe///306dMHDhyoa2RPPfXU5557LrqsEvR87733rr/+et3sLlwjR478wQ9+oOPlJZh36Cnq1SqTJ0/WqXv9P/HnP/+53V+4brjhhsGDBwugXkO8efNmuypIAusShJJPm9WrV+sm6TVr1jz22GN6G/T555+/Z88enz5UHyKwdu3ae+6557TTToOHL4G33npLb4bVay8eeeSRjRs3/vCHPzz66KN9e5W5wa233rpo0aI777zzpZdeUvq222778Y9/XGYg1eau36tPfepTd911l6uBiN1xxx133333M888c+SRR+qqYt1c7Gpjyla7gIzyaATeeOMN4Za9ida9VL10SdEJJ5wgk/y5z33u29/+dqnmHmGy3/3ud88555wIHUvb5YILLrjsssvs6U+ZMmXatGl2loSXgH679Covq1zXQurO+3/+53+2sroLWW+C1I343l7VSnh2MZneCHV6y4B66Z03EfqWrYse+PT/fz1xl23i0eb70EMPnX766RdddJE2YD/zmc/ce++90eSUp9dZZ52l1xu+/PLLmvILL7zw1FNPTZo0qTzTr3GmW7Zs0Qu97P976kqxM888s62tLbhYTpUHZ+XfUtZe/gNtX5xyyin+rcvdYtmyZevXr9fOWLkxhJj97373O+3z6H191113nbh961vfampqmjFjRggRJWt67bXX6krpUaNG6di5fDA33XSTnl1KxiD6dK13RQ4aNMgWobRVaJeYE1gXM59wtfpjfMOGDfoTKVy38rXWewq0FaY9sV69epVv9hFnrL9d9Oxy8803q7+eXfRN04Y41sVA84EHHvjpT3+qV+uefPLJzz//vP7yk+MaYgZi8VaxMxYbzyuvvPLhhx9etWpV4d8yUDuydevWyUE1ZswY3cmmj9xUch4qoT8waxdeVAkK3Rk9erQ9u5NOOmnbtm12loSXwHe+8x09vlx88cWKr7vkkktmzZql8E5vM0oqErBeNLxz5067Vmnz24ftllYC6+ICEiUrp5ZMi7xhjz/+uMIfo4goWZ/Pf/7zL774ov6ctD76k1xbFkprB6NkJEJMVzuuzmB3uROGDx8eon/5mu7du9f5Yit9u/T8Vz4MEWesnzLZEjmurP7aY1TkWGtra3Bx7IwFZ1W1pTbE9PT9i1/8QkderH1JecAUIV61Q+krBMrpmlKwo85wOEtKT6gCAP3pLTe1dsa+/OUvP/vss/926FOhHUUfEtAZDvlahg0bpp2x3/72twsWLFAI2YeV/O9hAu+8884rr7xi5eXM1995iksSN+0l3njjjQrslKXRySHtK+o83+FuvqlqwWSUByfghbxkyZLg3WlJRHLA78CKFStkgxUYKk+1jEvAXqVtpj+35d7Tr6Tce8cff/w//uM/7tu3r7Q0DBPXfr7rR0zeKbXXo56Mipz5+sppv0GPzgYh3ipu4HdRJQsBCEAAAjEQwO8SA0REQAACEICAiwDWxQWELAQgAAEIxEAA6xIDRERAAAIQgICLANbFBYQsBCAAAQjEQADrEgNEREAAAhCAgIsA1sUFhCwEIAABCMRAAOsSA0REQAACEICAiwDWxQWELAQgAAEIxEAA6xIDRERAAAIQgICLABebIzIAAAAtSURBVNbFBYQsBCAAAQjEQADrEgNEREAAAhCAgIsA1sUFhCwEIAABCMRA4P8DASzDVspwTtIAAAAASUVORK5CYII=)"
      ],
      "metadata": {
        "id": "2Y6ypYC91HCf"
      }
    },
    {
      "cell_type": "code",
      "source": [
        "import pandas as pd\n",
        "import matplotlib.pyplot as plt\n",
        "study_hours_score = pd.read_csv(\"/content/study_hours_score.csv\")\n",
        "plt.scatter(study_hours_score['study_hours'], study_hours_score['score'])\n",
        "plt.show()"
      ],
      "metadata": {
        "id": "cNI55dMLsmkZ",
        "colab": {
          "base_uri": "https://localhost:8080/",
          "height": 430
        },
        "outputId": "e2c72d25-3190-483e-d228-743fe74271ed"
      },
      "execution_count": null,
      "outputs": [
        {
          "output_type": "display_data",
          "data": {
            "text/plain": [
              "<Figure size 640x480 with 1 Axes>"
            ],
            "image/png": "[encoded data removed]"
          },
          "metadata": {}
        }
      ]
    },
    {
      "cell_type": "code",
      "source": [],
      "metadata": {
        "id": "os5LoBCmHEJx"
      },
      "execution_count": null,
      "outputs": []
    },
    {
      "cell_type": "markdown",
      "source": [
        "**【直線のグラフ】**\n",
        "\n",
        "直線のグラフを描くには `matplotlib.pyplot` の`plot`関数を使います。`plot`関数の第1引数に横軸となるデータを、第2引数に縦軸となるデータを指定します。\n",
        "\n",
        "matplotlibでグラフを画面に表示するには、グラフを描く関数を呼び出したあとに、`show`関数を実行します。\n",
        "\n",
        "```python\n",
        "import pandas as pd\n",
        "import matplotlib.pyplot as plt\n",
        "\n",
        "sales = pd.read_csv('/content/sales.csv')\n",
        "\n",
        "plt.plot(sales['month'], sales['total_sales'])\n",
        "\n",
        "plt.show()\n",
        "```"
      ],
      "metadata": {
        "id": "7hjdPsYmPdoE"
      }
    },
    {
      "cell_type": "markdown",
      "source": [
        "# 単回帰分析\n",
        "\n",
        "単回帰分析とは、回帰の一種です。\n",
        "\n",
        "一つの説明変数と一つの目的変数の関係を分析します。\n",
        "\n"
      ],
      "metadata": {
        "id": "JIGLuTKhZzXn"
      }
    },
    {
      "cell_type": "markdown",
      "source": [
        "**【説明変数と目的変数を設定】**\n",
        "\n",
        "読み込んだCSVデータを使って、説明変数（変数X）と目的変数（変数Y）を設定します。\n",
        "\n",
        "説明変数の設定では `[]` が二重になっていることに注意してください。これは変数が複数ある場合（重回帰分析）にも利用されるため、このような書き方になっています。\n",
        "\n",
        "```python\n",
        "import pandas as pd\n",
        "\n",
        "# CSVファイルからデータを読み込む\n",
        "df = pd.read_csv(\"/content/xxx.csv\")\n",
        "#df = データフレームの略\n",
        "# 説明変数と目的変数を設定\n",
        "X = df[['説明変数のカラム名']].values\n",
        "Y = df['目的変数のカラム名'].values\n",
        "```"
      ],
      "metadata": {
        "id": "RFmUu9PV5nuo"
      }
    },
    {
      "cell_type": "markdown",
      "source": [
        "**【やってみよう！】**\n",
        "\n",
        "1.   お渡ししている`study_hours_score.csv` というCSVファイルをGoogle Colabにアップロードしてください。\n",
        "2.   `pandas` をインポートし、別名を `pd` としてください。\n",
        "3.   `read_csv` 関数を使って、`study_hours_score.csv` のデータを読み込み、変数 `df` に代入してください。\n",
        "4.   変数 `df` の `study_hours` カラムのデータを説明変数Xに代入してください。\n",
        "5.   変数 `df` の `score` カラムのデータを目的変数Xに代入してください。\n",
        "6.   変数 `X` を出力してください。\n",
        "7.   変数 `Y` を出力してください。\n",
        "\n",
        "次のような出力結果になっていれば正解です。\n",
        "\n",
        "```\n",
        "[[1.7]\n",
        " [8. ]\n",
        " [4.9]\n",
        " [7.5]\n",
        " [9.8]\n",
        " ...\n",
        " ```\n",
        "\n",
        " ```\n",
        " [31 63 43 69 86 ...\n",
        " ```"
      ],
      "metadata": {
        "id": "Z4iUZxZcZkiV"
      }
    },
    {
      "cell_type": "code",
      "source": [
        "import pandas as pd\n",
        "df = pd.read_csv(\"/content/study_hours_score.csv\")\n",
        "X = df[[\"study_hours\"]].values\n",
        "Y= df[[\"score\"]].values\n",
        "\n",
        "print(X)\n",
        "print('-----')\n",
        "print(Y)"
      ],
      "metadata": {
        "id": "bCTeE3NnZ7pA",
        "colab": {
          "base_uri": "https://localhost:8080/"
        },
        "outputId": "c1c9b9ee-79e7-4a48-b1e7-2fe6e81ee901"
      },
      "execution_count": null,
      "outputs": [
        {
          "output_type": "stream",
          "name": "stdout",
          "text": [
            "[[1.7]\n",
            " [8. ]\n",
            " [4.9]\n",
            " [7.5]\n",
            " [9.8]\n",
            " [5.8]\n",
            " [5.5]\n",
            " [1.6]\n",
            " [3.4]\n",
            " [5.5]\n",
            " [7.1]\n",
            " [8.2]\n",
            " [4.4]\n",
            " [1.6]\n",
            " [3.6]\n",
            " [9.2]\n",
            " [2.9]\n",
            " [5.1]\n",
            " [9.4]\n",
            " [1.2]\n",
            " [6.4]\n",
            " [9.6]\n",
            " [3.1]\n",
            " [5.9]\n",
            " [9.2]\n",
            " [2.2]\n",
            " [5.7]\n",
            " [7.8]\n",
            " [7. ]\n",
            " [5.2]\n",
            " [2.8]\n",
            " [5.4]\n",
            " [4.4]\n",
            " [5.3]\n",
            " [4.3]\n",
            " [8.5]\n",
            " [7.9]\n",
            " [3.8]\n",
            " [6.2]\n",
            " [3.5]\n",
            " [5.1]\n",
            " [4.2]\n",
            " [6.9]\n",
            " [4.3]\n",
            " [5.1]\n",
            " [7.5]\n",
            " [4.7]\n",
            " [9.2]\n",
            " [2.6]\n",
            " [7.7]\n",
            " [4.8]\n",
            " [4.8]\n",
            " [6.7]\n",
            " [5.7]\n",
            " [4.7]\n",
            " [1. ]\n",
            " [1.8]\n",
            " [7.4]\n",
            " [5.7]\n",
            " [7.3]\n",
            " [9.6]\n",
            " [7.1]\n",
            " [1.5]\n",
            " [3.8]\n",
            " [6.3]\n",
            " [3.1]\n",
            " [9.7]\n",
            " [9.5]\n",
            " [8.6]\n",
            " [5.3]\n",
            " [8.6]\n",
            " [2.2]\n",
            " [3.8]\n",
            " [5.2]\n",
            " [7.7]\n",
            " [5.4]\n",
            " [2.2]\n",
            " [4.1]\n",
            " [3.9]\n",
            " [3.7]\n",
            " [2.5]\n",
            " [4.7]\n",
            " [5. ]\n",
            " [8. ]\n",
            " [8.2]\n",
            " [5.7]\n",
            " [5.1]\n",
            " [8. ]\n",
            " [9. ]\n",
            " [7.1]\n",
            " [8.2]\n",
            " [9.5]\n",
            " [1.4]\n",
            " [8.9]\n",
            " [3.5]\n",
            " [5.3]\n",
            " [8.2]\n",
            " [7.5]\n",
            " [2.3]\n",
            " [6.9]]\n",
            "-----\n",
            "[[31]\n",
            " [63]\n",
            " [43]\n",
            " [69]\n",
            " [86]\n",
            " [54]\n",
            " [51]\n",
            " [32]\n",
            " [34]\n",
            " [48]\n",
            " [56]\n",
            " [67]\n",
            " [52]\n",
            " [35]\n",
            " [33]\n",
            " [72]\n",
            " [36]\n",
            " [48]\n",
            " [78]\n",
            " [25]\n",
            " [57]\n",
            " [74]\n",
            " [39]\n",
            " [52]\n",
            " [83]\n",
            " [31]\n",
            " [48]\n",
            " [66]\n",
            " [64]\n",
            " [49]\n",
            " [40]\n",
            " [49]\n",
            " [41]\n",
            " [45]\n",
            " [37]\n",
            " [78]\n",
            " [63]\n",
            " [32]\n",
            " [57]\n",
            " [35]\n",
            " [45]\n",
            " [43]\n",
            " [61]\n",
            " [42]\n",
            " [51]\n",
            " [64]\n",
            " [40]\n",
            " [73]\n",
            " [30]\n",
            " [65]\n",
            " [38]\n",
            " [34]\n",
            " [57]\n",
            " [43]\n",
            " [33]\n",
            " [25]\n",
            " [30]\n",
            " [64]\n",
            " [47]\n",
            " [55]\n",
            " [71]\n",
            " [57]\n",
            " [38]\n",
            " [32]\n",
            " [53]\n",
            " [40]\n",
            " [78]\n",
            " [68]\n",
            " [69]\n",
            " [51]\n",
            " [76]\n",
            " [34]\n",
            " [30]\n",
            " [50]\n",
            " [70]\n",
            " [53]\n",
            " [31]\n",
            " [41]\n",
            " [47]\n",
            " [33]\n",
            " [35]\n",
            " [48]\n",
            " [42]\n",
            " [69]\n",
            " [62]\n",
            " [46]\n",
            " [42]\n",
            " [67]\n",
            " [73]\n",
            " [64]\n",
            " [63]\n",
            " [76]\n",
            " [22]\n",
            " [75]\n",
            " [32]\n",
            " [50]\n",
            " [65]\n",
            " [64]\n",
            " [26]\n",
            " [64]]\n"
          ]
        }
      ]
    },
    {
      "cell_type": "markdown",
      "source": [
        "**【scikit-learnのインポートとモデルの作成】**\n",
        "\n",
        "scikit-learnは、Pythonの機械学習用のライブラリです。\n",
        "\n",
        "scikit-learnを使って線形回帰を行うには、`sklearn.linear_model` モジュールの `LinearRegression` クラスをインポートします。\n",
        "\n",
        "モジュールは、特定の機能や関連するコードを集めて再利用可能にしたものす。\n",
        "\n",
        "モデルの作成するにはインポートした `LinearRegression` クラスが持つ `fit` 関数を利用します。\n",
        "\n",
        "\n",
        "クラスを使う時も、関数と同様に `()` を使います。下の例では変数 `model` に `LinearRegression` クラスを代入しています。\n",
        "\n",
        "`fit` 関数の第一引数には説明変数、第二引数には目的変数を指定します。\n",
        "\n",
        "```python\n",
        "from sklearn.linear_model import LinearRegression\n",
        "\n",
        "model = LinearRegression()\n",
        "model.fit(\"説明変数\", \"目的変数\")\n",
        "```"
      ],
      "metadata": {
        "id": "YoPuqcNt2Icu"
      }
    },
    {
      "cell_type": "markdown",
      "source": [
        "**【モデルを使って予測値を計算】**\n",
        "\n",
        "作成したモデルを使って、予測値を計算します。 `LinearRegression` クラスが持つ `predict` 関数を利用します。\n",
        "\n",
        "\n",
        "\n",
        "```python\n",
        "Y_pred = model.predict(X)\n",
        "```"
      ],
      "metadata": {
        "id": "7HoELbW2DZ-6"
      }
    },
    {
      "cell_type": "markdown",
      "source": [
        "**【やってみよう！】**\n",
        "\n",
        "\n",
        "1.   `sklearn.linear_model` モジュールの `LinearRegression` クラスをインポートしてください。\n",
        "2.   変数 `model` に `LinearRegression` クラスを代入してください。\n",
        "3.   変数 `model` の `fit` 関数を使ってモデルを作成してください。第一引数には説明変数（変数X）、第二引数には目的変数（変数Y）を指定してください。\n",
        "4.   変数 `model` の `predict` 関数を使って、予測値を計算し、変数 `Y_pred` に代入してください。 `predict` 変数の引数には説明変数（変数X）を指定してください。\n",
        "5.   変数 `Y_pred` を出力してください。\n",
        "\n",
        "次のような出力結果になっていれば正解です。\n",
        "\n",
        "```\n",
        "[26.37691168 65.73886459 46.37028459 62.61490007 76.98513685 ...\n",
        "```"
      ],
      "metadata": {
        "id": "jskQqakJa1Zk"
      }
    },
    {
      "cell_type": "code",
      "source": [
        "from sklearn.linear_model  import  LinearRegression\n",
        "model =LinearRegression()\n",
        "model.fit(X, Y)\n",
        "Y_pred = model.predict(X)\n",
        "print(Y_pred)"
      ],
      "metadata": {
        "id": "8OOYl_f3b0Iz",
        "colab": {
          "base_uri": "https://localhost:8080/"
        },
        "outputId": "d3256c80-d4a5-46ac-8ce2-b538ea4e5bba"
      },
      "execution_count": null,
      "outputs": [
        {
          "output_type": "stream",
          "name": "stdout",
          "text": [
            "[[26.37691168]\n",
            " [65.73886459]\n",
            " [46.37028459]\n",
            " [62.61490007]\n",
            " [76.98513685]\n",
            " [51.99342072]\n",
            " [50.11904201]\n",
            " [25.75211878]\n",
            " [36.99839104]\n",
            " [50.11904201]\n",
            " [60.11572846]\n",
            " [66.9884504 ]\n",
            " [43.24632007]\n",
            " [25.75211878]\n",
            " [38.24797684]\n",
            " [73.23637943]\n",
            " [33.87442652]\n",
            " [47.61987039]\n",
            " [74.48596524]\n",
            " [23.25294716]\n",
            " [55.74217814]\n",
            " [75.73555104]\n",
            " [35.12401233]\n",
            " [52.61821362]\n",
            " [73.23637943]\n",
            " [29.5008762 ]\n",
            " [51.36862781]\n",
            " [64.48927878]\n",
            " [59.49093556]\n",
            " [48.2446633 ]\n",
            " [33.24963362]\n",
            " [49.4942491 ]\n",
            " [43.24632007]\n",
            " [48.8694562 ]\n",
            " [42.62152717]\n",
            " [68.86282911]\n",
            " [65.11407169]\n",
            " [39.49756265]\n",
            " [54.49259233]\n",
            " [37.62318394]\n",
            " [47.61987039]\n",
            " [41.99673426]\n",
            " [58.86614265]\n",
            " [42.62152717]\n",
            " [47.61987039]\n",
            " [62.61490007]\n",
            " [45.12069878]\n",
            " [73.23637943]\n",
            " [32.00004781]\n",
            " [63.86448588]\n",
            " [45.74549168]\n",
            " [45.74549168]\n",
            " [57.61655685]\n",
            " [51.36862781]\n",
            " [45.12069878]\n",
            " [22.00336136]\n",
            " [27.00170458]\n",
            " [61.99010717]\n",
            " [51.36862781]\n",
            " [61.36531427]\n",
            " [75.73555104]\n",
            " [60.11572846]\n",
            " [25.12732587]\n",
            " [39.49756265]\n",
            " [55.11738523]\n",
            " [35.12401233]\n",
            " [76.36034395]\n",
            " [75.11075814]\n",
            " [69.48762201]\n",
            " [48.8694562 ]\n",
            " [69.48762201]\n",
            " [29.5008762 ]\n",
            " [39.49756265]\n",
            " [48.2446633 ]\n",
            " [63.86448588]\n",
            " [49.4942491 ]\n",
            " [29.5008762 ]\n",
            " [41.37194136]\n",
            " [40.12235555]\n",
            " [38.87276975]\n",
            " [31.37525491]\n",
            " [45.12069878]\n",
            " [46.99507749]\n",
            " [65.73886459]\n",
            " [66.9884504 ]\n",
            " [51.36862781]\n",
            " [47.61987039]\n",
            " [65.73886459]\n",
            " [71.98679362]\n",
            " [60.11572846]\n",
            " [66.9884504 ]\n",
            " [75.11075814]\n",
            " [24.50253297]\n",
            " [71.36200072]\n",
            " [37.62318394]\n",
            " [48.8694562 ]\n",
            " [66.9884504 ]\n",
            " [62.61490007]\n",
            " [30.1256691 ]\n",
            " [58.86614265]]\n"
          ]
        }
      ]
    },
    {
      "cell_type": "markdown",
      "source": [
        "**【散布図と直線を可視化】**\n",
        "\n",
        "説明変数（変数X）と目的変数（変数Y）を散布図として可視化します。また説明変数（変数X）と予測値（変数Y_pred）を直線として可視化します。\n",
        "\n",
        "```python\n",
        "import matplotlib.pyplot as plt\n",
        "\n",
        "plt.scatter(\"説明変数\", \"目的変数\")\n",
        "plt.plot(\"説明変数\", \"説明変数を使った予測値\")\n",
        "plt.show()\n",
        "```"
      ],
      "metadata": {
        "id": "GlmA2OiHIyew"
      }
    },
    {
      "cell_type": "markdown",
      "source": [
        "**【やってみよう！】**\n",
        "\n",
        "\n",
        "1.   `matplotlib` をインポートし、別名を `plt` としてください。\n",
        "2.   横軸に説明変数、縦軸に目的変数を指定して散布図を描いてください。\n",
        "3.   横軸に説明変数、縦軸に説明変数を使った予測値（変数Y_pred）を指定して直線を描いてください。\n",
        "4.   グラフを可視化してください。\n",
        "\n",
        "次のような出力結果になっていれば正解です。\n",
        "\n",
        "![image.png](data:image/png;base64,iVBORw0KGgoAAAANSUhEUgAAAh8AAAGdCAIAAAA9r4bIAAAMPmlDQ1BJQ0MgUHJvZmlsZQAASImVVwdYU8kWnluSkJDQQpcSehOkE0BKCC2A9CLYCEmAUGIMBBV7WVRw7WIBG7oqotgBsaCIYmFR7H2xoKCsiwW78iYFdN1Xvne+b+797z9n/nPm3LllAFA/yRWL81ANAPJFhZL4sCDG6NQ0BqkbIAAHZEAFblxegZgVGxsFoA2e/27vbkBvaFcdZVr/7P+vpskXFPAAQGIhzuAX8PIhPgQAXskTSwoBIMp4i8mFYhmGDWhLYIIQL5ThLAWulOEMBd4n90mMZ0PcAoAKlcuVZAGgdhnyjCJeFtRQ64PYWcQXigBQZ0Dsn58/kQ9xOsS20EcMsUyfmfGDTtbfNDOGNLncrCGsmIvcVIKFBeI87tT/sxz/2/LzpIMxrGGjZkvC42VzhnW7lTsxUoapEPeKMqJjINaC+IOQL/eHGKVkS8OTFP6oEa+ADWsGdCF25nODIyE2gjhUlBcdpeQzMoWhHIjhCkGnCAs5iRDrQ7xQUBCSoPTZLJkYr4yF1mVK2Cwlf44rkceVxXogzU1iKfVfZws4Sn1MrTg7MQViCsSWRcLkaIjVIHYqyE2IVPqMLM5mRw/6SKTxsvwtIY4XiMKCFPpYUaYkNF7pX5pfMDhfbHO2kBOtxAcKsxPDFfXBWnhcef5wLthlgYiVNKgjKBgdNTgXviA4RDF3rFsgSkpQ6nwQFwbFK8biFHFerNIfNxfkhcl4c4jdC4oSlGPx5EK4IBX6eKa4MDZRkSdenMONiFXkgy8DUYANggEDSGHLABNBDhC299b3witFTyjgAgnIAgLgqGQGR6TIe0TwmACKwZ8QCUDB0Lggea8AFEH+6xCrODqCTHlvkXxELngKcT6IBHnwWiofJRqKlgyeQEb4j+hc2Hgw3zzYZP3/nh9kvzMsyEQpGelgRIb6oCcxhBhMDCeGEu1wQ9wf98Wj4DEQNleciXsPzuO7P+EpoYPwiHCd0Em4PUE4V/JTlqNAJ9QPVdYi48da4NZQ0wMPwv2gOlTGdXFD4Ii7wzgsPABG9oAsW5m3rCqMn7T/NoMf7obSj+xMRsl65ECy7c8j1ezVPIZUZLX+sT6KXDOG6s0e6vk5PvuH6vPhOfJnT2whdhBrxU5h57FjWD1gYE1YA9aGHZfhodX1RL66BqPFy/PJhTrCf8QbvLOyShY41zj3OH9R9BUKpsje0YA9UTxVIszKLmSw4BdBwOCIeE7DGa7Oru4AyL4vitfXmzj5dwPRbfvOzfsDAL+mgYGBo9+5iCYA9nvBx//Id86WCT8dqgCcO8KTSooUHC47EOBbQh0+aQbABFgAWzgfV+AJfEEgCAERIAYkglQwHmafDde5BEwG08EcUALKwDKwGqwHm8BWsBPsAQdAPTgGToGz4CK4DK6Du3D1dIEXoA+8A58RBCEhNISOGCCmiBXigLgiTMQfCUGikHgkFUlHshARIkWmI/OQMmQFsh7ZglQj+5EjyCnkPNKB3EYeIj3Ia+QTiqFUVBs1Rq3RESgTZaGRaCI6Ds1CJ6HF6Hx0CboWrUJ3o3XoKfQieh3tRF+g/RjAVDFdzAxzxJgYG4vB0rBMTILNxEqxcqwKq8Ua4X2+inVivdhHnIjTcQbuCFdwOJ6E8/BJ+Ex8Mb4e34nX4S34Vfwh3od/I9AIRgQHgg+BQxhNyCJMJpQQygnbCYcJZ+Cz1EV4RyQSdYk2RC/4LKYSc4jTiIuJG4h7iSeJHcTHxH4SiWRAciD5kWJIXFIhqYS0jrSb1ES6QuoifVBRVTFVcVUJVUlTEanMVSlX2aVyQuWKyjOVz2QNshXZhxxD5pOnkpeSt5EbyZfIXeTPFE2KDcWPkkjJocyhrKXUUs5Q7lHeqKqqmqt6q8apClVnq65V3ad6TvWh6keqFtWeyqaOpUqpS6g7qCept6lvaDSaNS2QlkYrpC2hVdNO0x7QPqjR1ZzUOGp8tVlqFWp1alfUXqqT1a3UWerj1YvVy9UPql9S79Uga1hrsDW4GjM1KjSOaNzU6Neka7poxmjmay7W3KV5XrNbi6RlrRWixdear7VV67TWYzpGt6Cz6Tz6PPo2+hl6lzZR20abo52jXaa9R7tdu09HS8ddJ1lnik6FznGdTl1M11qXo5unu1T3gO4N3U96xnosPYHeIr1avSt67/WH6QfqC/RL9ffqX9f/ZMAwCDHINVhuUG9w3xA3tDeMM5xsuNHwjGHvMO1hvsN4w0qHHRh2xwg1sjeKN5pmtNWozajf2MQ4zFhsvM74tHGvia5JoEmOySqTEyY9pnRTf1Oh6SrTJtPnDB0Gi5HHWMtoYfSZGZmFm0nNtpi1m302tzFPMp9rvtf8vgXFgmmRabHKotmiz9LUcpTldMsayztWZCumVbbVGqtWq/fWNtYp1gus6627bfRtODbFNjU292xptgG2k2yrbK/ZEe2Ydrl2G+wu26P2HvbZ9hX2lxxQB08HocMGh47hhOHew0XDq4bfdKQ6shyLHGscHzrpOkU5zXWqd3o5wnJE2ojlI1pHfHP2cM5z3uZ810XLJcJlrkujy2tXe1eea4XrNTeaW6jbLLcGt1fuDu4C943utzzoHqM8Fng0e3z19PKUeNZ69nhZeqV7VXrdZGozY5mLmee8Cd5B3rO8j3l/9PH0KfQ54POXr6Nvru8u3+6RNiMFI7eNfOxn7sf12+LX6c/wT/ff7N8ZYBbADagKeBRoEcgP3B74jGXHymHtZr0Mcg6SBB0Oes/2Yc9gnwzGgsOCS4PbQ7RCkkLWhzwINQ/NCq0J7QvzCJsWdjKcEB4Zvjz8JseYw+NUc/oivCJmRLREUiMTItdHPoqyj5JENY5CR0WMWjnqXrRVtCi6PgbEcGJWxtyPtYmdFHs0jhgXG1cR9zTeJX56fGsCPWFCwq6Ed4lBiUsT7ybZJkmTmpPVk8cmVye/TwlOWZHSOXrE6BmjL6YapgpTG9JIaclp29P6x4SMWT2ma6zH2JKxN8bZjJsy7vx4w/F5449PUJ/AnXAwnZCekr4r/Qs3hlvF7c/gZFRm9PHYvDW8F/xA/ip+j8BPsELwLNMvc0Vmd5Zf1sqsnuyA7PLsXiFbuF74Kic8Z1PO+9yY3B25A3kpeXvzVfLT84+ItES5opaJJhOnTOwQO4hLxJ2TfCatntQniZRsL0AKxhU0FGrDH/k2qa30F+nDIv+iiqIPk5MnH5yiOUU0pW2q/dRFU58Vhxb/Ng2fxpvWPN1s+pzpD2ewZmyZiczMmNk8y2LW/Flds8Nm75xDmZM75/e5znNXzH07L2Ve43zj+bPnP/4l7JeaErUSScnNBb4LNi3EFwoXti9yW7Ru0bdSfumFMuey8rIvi3mLL/zq8uvaXweWZC5pX+q5dOMy4jLRshvLA5bvXKG5onjF45WjVtatYqwqXfV29YTV58vdyzetoayRrulcG7W2YZ3lumXrvqzPXn+9Iqhib6VR5aLK9xv4G65sDNxYu8l4U9mmT5uFm29tCdtSV2VdVb6VuLVo69Ntydtaf2P+Vr3dcHvZ9q87RDs6d8bvbKn2qq7eZbRraQ1aI63p2T129+U9wXsaah1rt+zV3Vu2D+yT7nu+P33/jQORB5oPMg/WHrI6VHmYfri0DqmbWtdXn13f2ZDa0HEk4khzo2/j4aNOR3ccMztWcVzn+NITlBPzTww0FTf1nxSf7D2Vdepx84Tmu6dHn77WEtfSfibyzLmzoWdPt7Jam875nTt23uf8kQvMC/UXPS/WtXm0Hf7d4/fD7Z7tdZe8LjVc9r7c2DGy48SVgCunrgZfPXuNc+3i9ejrHTeSbty6OfZm5y3+re7bebdf3Sm68/nu7HuEe6X3Ne6XPzB6UPWH3R97Oz07jz8Mftj2KOHR3ce8xy+eFDz50jX/Ke1p+TPTZ9Xdrt3HekJ7Lj8f87zrhfjF596SPzX/rHxp+/LQX4F/tfWN7ut6JXk18HrxG4M3O966v23uj+1/8C7/3ef3pR8MPuz8yPzY+inl07PPk7+Qvqz9ave18Vvkt3sD+QMDYq6EK/8VwGBDMzMBeL0DAFoqAHS4P6OMUez/5IYo9qxyBP4TVuwR5eYJQC38f4/rhX83NwHYtw1uv6C++lgAYmkAJHoD1M1tqA3u1eT7SpkR4T5gc8jXjPwM8G9Msef8Ie+fz0Cm6g5+Pv8LPAl8Thdzo2AAAAA4ZVhJZk1NACoAAAAIAAGHaQAEAAAAAQAAABoAAAAAAAKgAgAEAAAAAQAAAh+gAwAEAAAAAQAAAZ0AAAAAVuGsGAAAQABJREFUeAHtnQmYFcW591mcYQCdYREYSACRoMPmAnJhFKMiiGC814AavWhQ+aJxF9AoJhiJy7gkmLiAXuJFIyrR74sLKiQGiREcUFmMiCIqAhFmcMkMCBkYGb4/lBZFdXf1crr7dJ/zP4+PVtfy1lu/Op53qt63qhvv3r27ET8kQAIkQAIkECqBJqFKozASIAESIAES2EOA1oXfAxIgARIggfAJ0LqEz5QSSYAESIAEaF34HSABEiABEgifAK1L+EwpkQRIgARIgNaF3wESIAESIIHwCdC6hM+UEkmABEiABGhd+B0gARIgARIIn8AB4Yt0ltjQ0LBx48aDDjqocePGzrVYQgIkQAIkkHQCOIm/devWTp06NWnisEpBjdg+GzZsSDow6kcCJEACJOCZAH7VnSxIrGsXrFqgM7QpLi72rDwrkgAJkAAJJI7Ali1bOnfuLH7VbZWL1bqIDTGYFloX28lgJgmQAAmki4DBzeGwX5au8VFbEiABEiCBhBGgdUnYhFAdEiABEsgJArQuOTGNHAQJkAAJJIwArUvCJoTqkAAJkEBOEKB1yYlp5CBIgARIIGEEaF0SNiFUhwRIgARyggCtS05MIwdBAiRAAgkjQOuSsAmhOiRAAiSQEwRiPU2ZE8Q4CBIgARJIN4FdDbvfWPvl5q117Q8q+o9ubZo2ieTiR1qXdH9LqD0JkAAJ+CIwb+WmKXNWbaqtE606lhT98vRep/bp6EuIl8rcGfNCiXVIgARIIBcIwLRcOmuZNC0YUlVtHXKQH/rwaF1CR0qBJEACJJBEAtgQw6pl9/6qiUfko3T/kkyfaF0yJcj2JEACJJAKAvC1qKsWqTOsCvJRKnNCSdC6hIKRQkiABEgg6QTgxjeoaC41NHQqonVxIsN8EiABEsgpAogQM4zHXGpo6FRE6+JEhvkkQAIkkFMEEHyMCDFr9DFykI/ScEdL6xIuT0ojARIggYQSwLkWBB9DOdXAiDTyQz/1QuuS0O8B1SIBEiCB0AngXMv08/qVluzbIkMaOVGcd+FpytCnjwJJgARIILkEYEiG9SrlWf3kzhA1IwESIIGUEsAmWHn3tlErz52xqAlTPgmQAAnkIwFal3ycdY6ZBEiABKImQOsSNWHKJwESIIF8JEDrko+zzjGTAAmQQNQEGDMWNWHKJwESIAHfBOJ5BYtvtfw0oHXxQ4t1SYAESCB6ArG9giXSoXBnLFK8FE4CJEAC/gjE+QoWf5r5rE3r4hMYq5MACZBAZARifgVLZOPYI5jWJVK8FE4CJEACPgjE/AoWH5r5r0rr4p8ZW5AACZBANATML1kxl0ajUXCptC7B2bElCZAACYRLwPySFXNpuJpkLo3WJXOGlEACJEAC4RCI+RUs4SjtIIXWxQEMs0mABEggdgIxv4Il0vHRukSKl8JJgARIwB+BOF/B4k8zn7V5mtInMFYnARIggYgJxPYKlkjHQesSKV4KJwESIIEgBOJ5BUsQzTy34c6YZ1SsSAIkQAIk4JkArYtnVKxIAiRAAiTgmQCti2dUrEgCJEACJOCZAK2LZ1SsSAIkQAIk4JkArYtnVKxIAiRAAiTgmYC7ddm1a9fkyZO7devWvHnz7t2733LLLbt37xbykbjppps6duyIoqFDh65Zs8Zzv6xIAiRAAiSQywTcrcudd945ffr0+++//7333kP6rrvuuu+++wQSpO+9994HH3xwyZIlLVu2HD58eF1dXS7T4thIgARIgAS8EWgsFyJO9X/wgx906NDh4YcfFhVGjx6NlcqsWbPQsFOnThMnTrz22mtRVFtbi2qPPPLIOeec4yRqy5YtJSUlqFlcXOxUh/kkQAIkQALJJ+D6e+6+djn22GPnz5//wQcfYLRvv/32woULR4wYgfTatWurqqqwISYowGwMHDiwsrJSg7Jjxw4oIT9aKR9JgARIgARykoD7Wf0bbrgBtqGsrKxp06bwwdx2221jxowBC5gW/BvrFckFaZEpc5CoqKiYMmWKmsM0CZAACZBAzhNwX7s89dRTjz/++BNPPLFs2bJHH33017/+Nf7tncukSZOwFSY+GzZs8N6QNUmABEiABNJLwH3tct1112H5Irwpffv2XbduHZYjY8eOLS0txbCrq6sRMybGj/RRRx2lsWi296Nl8pEESIAESCC3CbivXbZv396kyb5q2B9raGgAFMQow8DAJSMAYfcMkWPl5eW5zYujIwESIAES8ELAfe1y+umnw9fSpUuX3r17L1++fOrUqRdddBFEN27c+Jprrrn11lt79OgBS4MzMQghO+OMM7z0yjokQAIkQAK5TcDduuB0CyzHZZddtnnzZtiPSy65BCcoBZSf/exn27Ztu/jii2tqagYPHjxv3ryioqLc5sXRkQAJ5C2BXQ2731j75eatdXi/PV5RjEvys4XCryZ+64cyLvfzLqF0I4Rg94znXULkSVEkQAKxEZi3ctOUOas21X5zYLxjSdEvT++F13zFpoDsyK8mfuvLjswJ19/zfQ4VsyCWkgAJkEDeEsAP9KWzlknTAg5VtXXIQX7MTPxq4rd+iMOhdQkRJkWRAAnkIAFsK2HV8s3tit+OTzwiH6Xf5kX+X7+a+K0f7gBoXcLlSWkkQAK5RgC+FnXVIocHq4J8lMqcqBN+NfFbP1z9aV3C5UlpJEACuUYAbnzDkMylhoYBisx9WUutOWqn5lK1ZrA0rUswbmxFAiSQLwQQIWYYqrnU0DBAkbkva6k1R+3UXKrWDJamdQnGja1IgATyhQCCjxEhZo0+Rg7yURobCL+a+K0f7kBoXcLlSWkkQAK5RgDnWhB8jFGpBkakkR/nqRe/mvitH+7M0bqEy5PSSIAEcpAAzrVMP69facm+LTKkkRP/eRe/mjjV7/vdVv/euSvSqeJpykjxUjgJkEDuEECAL6Kw4AyHxwKbTnGuWjSIfjVR63dqVXTC3X+DwGG9Osz48TGaZO+Prqcp3W+C8d4Za5IACZBADhOAOSnv3lYOUP3JjtnY+NVE1r9m9vJnV2wUQzj4wGZyLFEkaF2ioEqZJEACOU4AZ+DTdTHMP/5Z85/3L5KzMnHYYVee3EM+RpHgzlgUVCmTBEgglwmI61XUM/rCyR+/J8aLJju/bjjsF3PV+fjHzacUFxWoOQHSrjtj9OoHoMomJEAC+UsAG2Ipuhjmhv/3D9W0/O6coz6547TMTYuX6efOmBdKrEMCJEAC3xBwvV5F9c1ESs2syV9XVV8ya6mqwKpfDW9RGN9vfnw9qYNkmgRIgARSSsB8gYqhNPQoAENfYKualvFDD7t6aLReFuts0rpYmTCHBEiABBwJmC9QcSqNIgrAqS9N9bUVI/EqYS0zhkf6XWKAzC5IgARyh0CA61WE7129aDmU18M4aSJZ/3xkT3hZsmJaoAOti5wIJkiABEjAnQDOjvi6GCa6KABbTeQAYFd+8v1D5WP8CVqX+JmzRxIggXQTcLpexfZiGLPvHaWZsECPD/z30WpsNKRddNwhMC2ZiA2lLf0uoWCkEBIggfwigJ/1Yb1KYRtcL4Yx+97Npa5MD7nhRa3OR7ePxJom9AgCrRcvj7QuXiixDgmQAAnoBOT1KnrB/s9m37u5dH9J+z1tqv13ecUratYLVw7u850S5EQRQaB25DFN6+IRFKuRAAmQQBACwvcON762f4UoLly0jNIAQq1LFrkVZj29LyII4r9HgH6XADPLJiRAAiTglYCt7z3w62GeWf5PzbS8O2W4NC3RRRB4Ha1Sj9ZFgcEkCZAACURAwFcUgKF/2JXxf3xbrQC70rLZvi2oSCMI1H69pPep5aU265AACZAACQQg4D0KwFb42P9949UPPlOL5HpFzTTHCJhLVTmhpGldQsFIISRAAiTgQkCLAjCHdaml585YrIo+vsfBj40bqObItDlGwFwqhYSVoHUJiyTlkAAJkIBXAuawLq1UFWq7ZJEVooggkML9Juh38UuM9UmABEggIwIirMvpYhhrqehsbHlXs2lBtXAjCDIaJG+CyRAfm5MACZCALwLmsC686cv68hjIR4zZX1ZVo61rX2FFELh25FqBO2OuiFiBBEiABEIjYA7rwsu+1DWN7BVWBflo6+XlMRlGEMhOM0zQumQIkM1JgARIwAcBc+DWn5Z/apBlbqs21CII1KLY0vS7xIaaHZEACZBAo0wCtzJpGz96Wpf4mbNHEiCB/CXg+lIWJzStWxQEuzbGSWDU+bQuUROmfBIgARLYR8A2rEsW44bjVi0K5KOacHfoq7UTkKZ1ScAkUAUSIIF8IgCv+/2Wl7J0bt0cAcfw29dsr7eFgXyU2hYlM5Ne/WTOC7UiARLIWQLaNZQYp3gpCxJmv725VOWlHvXHfhoWTGppPGlal3g4sxcSIAESaPTOP2tPv3+hCuK2H/YZM7CrzDH77c2lUoh21L9jSRFe1YwFk6wQT4LWJR7O7IUESCDfCViXLNaz95lf5SKO+qtOGr7fJd+/eRw/CZBArhK4evZyzbQsnnSy1bRg+LY+f+8vgzFfBODlqH+IU0CvfogwKYoESIAEdAKwK8+t2Kjmwq7grZRqjprO5CoX80UAMQcFcGdMnVamSYAEkk4gCf5qj4y09Qpa2a5XrNICX+VidvubS61qZJjjbl0OOeSQdevWqd1cdtllDzzwQF1d3cSJE2fPnr1jx47hw4dPmzatQ4cOajWmSYAESCBcAgnxV3sZVGDTIoQHu8rF7PY3l3oZlK867tblzTff3LVrlxC6cuXKYcOGnXXWWXgcP378iy+++PTTT5eUlFxxxRWjRo1atGiRr75ZmQRIgAS8E0iOv9qsc4Z2xSzcXJp5UIBZvq9Sd79Lu3btSr/9vPDCC927dz/hhBNqa2sffvjhqVOnDhkypH///jNnznz99dcXL97vBWq+9GBlEiABEjAQSJS/2knPz7/aoZmWoT3be9wNc5LpKz/DoABffblWdl+7SBE7d+6cNWvWhAkTGjduvHTp0vr6+qFDh4rSsrKyLl26VFZWDho0SNYXCeyb4SPSW7Zs0Ur5SAIkQAJeCLj6q71cTe+lo8B1NLsCOXHaFam2CArAS2LkTf6IIEj6eZdnn322pqbmggsuwDCqqqoKCwtbtWolhwSnCzLlo0xUVFRMmTJFPjJBAiRAAgEImD3S5tIA3flq8uQb6yf96R21yeP/Z+Bx3ztYzYkzHTgoIFwlfaxdsBU2YsSITp06+dJg0qRJWO6IJli7dO7c2VdzViYBEsg3ArZRYWaPtKHUVlooSIXkc2foHoGsLFm0EQULCtCEZPjo1bogbOyvf/3rn/70J9EfHDHYKMNSRi5fqqurkWnVptnejzWfOSRAAiRgJeAUFRbMX+0kzdqv3xxI/umsZVqr9285taigqZaZt4/uXn2BBn779u3bn3baaeIRnvyCgoL58+eLx9WrV69fv768vDxvOXLgJEACmRMQUWHSYQCB4hYT5AfwVxukZaiqrWnBifq/rd6coeRcau7JujQ0NMC6jB079oADvlnrIAp53Lhx2PJasGABPPwXXnghTIvVpZ9LpDgWEiCBSAm4RoX5OsTuKi3wWOC9t65ahDT40tFvYMk51tDTzhj2xLA0ueiii9TB33PPPU2aNBk9ejRCwsRpSrWUaRIgARLwRcBLVJh3f7UXab7UQ+X6XQ09fj7XqRWsClZd6Dfr0WtOGsac78m6nHLKKbt36wa5qKgIJ/bxiVljdkcCJJCTBMxxX7LUo79a1rdlZS61bWINOLatFkCyrRxfmSK+AF0juiFbb3OxKuzJulibMYcESIAEwiVgiPtCR+ZSqybm+uZSTdqSj7/40f/ogWFaHfnoS7JslUkCTiD1dEu23uZiHYInv4u1GXNIgARIIFwCIipM3DavSkYOfjFRqma6psOShiWLZlrwHknoE5aergMxV4gucsHcr5dSWhcvlFiHBEggcgIBosIMOmUubez/vqHthi249kScZclcskFtX0XRRS74UsOpMq2LExnmkwAJxE3AV1SYq3KZSINdefWDz9QuYFe6HdxS5GQiWZWZYdo1ciFD+Rk2p98lQ4BsTgIkECYB71FhXnqFtCFlHR6r/GTdl9u7tmlxfvkhhQfs9ye11R+urVfQy9qKkbhcUesuXD014R4fzREE5lKPXWRSjdYlE3psSwIkED4Bj1FhXjrWPN6/X7hWvc9RK4U3RT3IKeQbrnUJUU8vY7HWMUcQmEut0kLPoXUJHSkFkgAJJIKA8HirZynEyf/p5/XDysNaqpkWg11JxPAaNRKRCxiUOkbohnUW7kX2GwcR+qD2WySGLp0CSYAESCArBMwe751fNyCKV/tRlnp2bt08+aYF2iYnvkCiUxO0LioNpkmABHKEgNnjDU+MtlJRh33XmUeqj0lOYxGGpRhWKlJJpMXiTOZkK8GdsWyRZ78kQAIhELC65YVQs08bTn5D3+a2hoZZKUpCfIHtwGldbLEwkwRIIAUErG556bQ3+7T/ULnOMDxzW0PDbBVlPb7AduDcGbPFwkwSIIGkExBueXWDS17XD9WdzuqbRwV/eIB7Acwy87aU1iVvp54DJ4EUEzA77VFq6/G2Dlg9xiLSWP2grbUmc/wSoHXxS4z1SYAEsk/A7LRHKVS0erxVvREV9mBS/eGqnulN0++S3rmj5iSQvwTMjndZCgNz4uHtyybP00iJgOPE+sM1bVP6SOuS0omj2iSQpwREkNia6q8M45dueeu1Lqk4yGIYWoqKaF1SNFlUlQTynYAWJGbFAYeJOKb+yvvVFz3yllphSFn7/71ggJqjSYM/X4acqdWYDkaA1iUYN7YiARKIm4AIEnM6YA9tpFu++40vacpZlyxWaeo9MVpzPgYgQOsSABqbkAAJxE3ANkhMUwKrlu07d/101jI1/9nLjzuqcys1B2lbabBbsE+4IWZYr1KGjWnEAjwyZiwANDYhARKIm4BTkJjQ44qTuj/5k0E4+1L773pVMyxZrKYFFZykwcBAiAg5U+UwHYAA1y4BoLEJCeQ7AeFaR2gW/OfiLl78Ijs9uq4DNGl4tL6RRYaB2aK/f8FH+Ectsn0pi6xglmYulUKYMBOgdTHzYSkJkIBOQHOGt2pRgBo1279ZNGiPrq5yTVqLwqb/rt+1+1vvym0vvfeT47tNGtlLhoHp2tg9W70sWi2zNHOpJoqPTgRoXZzIMJ8ESMCGgNUZLu2KqK09ml3lVmlwnKi9Nuxu9NDf1yLnZ6f2hKGyvstErYy0q10R9RP+ZhRtUCl9pN8lpRNHtUkgCwRsneFmPcQiBK5ytNVqepc247W1qIxwYUgwXNLi0bRAiO09MTLkzHUrTxsIH20J0LrYYmEmCZCADQEnZ7hNVSULVsXWVe5dGgwTPDGGm11gV7ybFqGaVVpy3oyiwEtxkjtjKZ48qk4CMRPIxN1tbWvNMQxHvJHlL+9Wq5cio/51ww+//KTvyYZY4qjxBViFWHNkZRiYIWUdrBEEsgITmRCgdcmEHtuSQH4RyMTdbW1rzTHQ7Nqmheu1LlqAAPw0/3lkx+ff3iQNkhZioNX//cK1PKtvmAK/RY13y+AMv03919+yZUtJSUltbW1xcbH/1mxBAiSQZQJYBwy+8xVX17qmJfwZ2HRaeP0QzZ8RTJoQvvQXQ9se2EztyBogoJaKtPCsiBcDW+urpda2zNEIuP6e0++iEeMjCZCAIwFbZ7hj7b0FBld5AGmiL7hYNNMCQ4XAAT1swKKZDDHY+XWDtb4shTRLU2b4JkDr4hsZG5BAPhOwOsNbtygQZ1wEFqTVR7Or3CqtZWHTxsIi2VF28t57DxCA3cBGGXwtcrtM7UeUQpqayXQwAvS7BOPGViSQvwRgEnATl+o8BwvDo7YhpoGzSsPS4dFFa2+b+75W0xAV5itAAGJFjIAmXz76lSYbMqESoHVRaTBNAiTgiQAMRnn3tmpV86Na05rWpHm54VgT4itAAG0RI6BJUB/9SlPbMi0JcGdMomCCBEggywRe+MdGLTAMm2yGJYtUV5y9d95RkxX3HMZE5Nj55Yeo23f7ihs1wkafuDlNzWQ6AAGuXQJAYxMSIIHwCWh2BR14sStCDxEgcOmsZTAeBo+8MD8IOzZs1hmahz/mnJbItUtOTy8HRwJpIAC7opmWmRcO8G5axBCtAQJYo1zy/W74t2QgQwzgJdLuQ5N1kE+vvqSRSYJrl0zosS0JkECmBDS7AnF+7YrUwBoggDUKrr9UIw7EqsXstzeXyu6YMBOgdTHzYSkJkIANAYR1WX+ybeoZs6x25ePbRzZp4sV74igXxkOLL7DmoLHZb28udeybBfsToHXZnwefSIAE3AhoF6ho16u4tf6m3GpaAi9ZPPaoVuMN/CqNiNK0LhGBpVgSyE0C1gtUzG9wsVLIrl0R+mBBA9++FgXgxedvHQ5znAjQq+9EhvkkQAI6AdsLV0SQle0bXLT2n9b8OwmmRWhljQKQPn9NbT4GI8C1SzBubEUC+UgAvhbzBSqaz0NllBy7IrWyjQKQpUxkSIDWJUOAbE4CeUTAHEzlVHr548tefGeTiums/t+9+6wj1ZxspW19/tlSJsf69bQz9umnn5533nlt27Zt3rx5375933rrLUEBt/ffdNNNHTt2RP7QoUPXrFmTY3Q4HBIgAZWAOZjKthRLFs20wHufENOiDo3p0Am4r13+9a9/HXfccSeddNLcuXPbtWsHE9K6dWuhx1133XXvvfc++uij3bp1mzx58vDhw1etWlVUtO/sUujqUiAJkEAWCfgKtbJuhS2edDJ8G1nUn13HScD97WE33HDDokWLXnvtNU0tLFw6deo0ceLEa6+9FkV4J1iHDh0eeeSRc845R6spH13fNiNrMkECJJBMAiJmDLrJG1NEqJV4JZfU2Wpa4gw4lmowER0B199z952x559//phjjjnrrLPat29/9NFHz5gxQ6i7du3aqqoqbIiJR7x0cuDAgZWVldpgduzYASXkRyvlIwmQQLoIuIZawa5opgV2haYlXbMcirbuO2Mff/zx9OnTJ0yYcOONN7755ptXXXVVYWHh2LFjYVqgAdYrUg+kRabMQaKiomLKlClqDtMkQAKpJuAUaoV45QCX56caBZU3EHC3Lg0NDVi73H777ZCCtcvKlSsffPBBWBeDULVo0qRJsEwiByuYzp07q6VMkwAJpJGANdRKW69gUFyvpHFmQ9TZfWcMIWG9evWSXfbs2XP9+vV4LC0txb+rq6tlEdIiU+Yg0axZs2LloxYxTQIkkAME/vJuFU1LDsxj6ENwX7sgYGz16tWy4w8++KBr1654RJwYbMn8+fOPOuooPGJdsmTJkksvvVTWZIIESCDnCdCu5PwUBx6gu3UZP378sccei52xs88++4033vifvR/017hx42uuuebWW2/t0aOHiEhGCNkZZ5wRWBU2JAESSBEBq135/Y+PGdprnyM2RWOhqlEQcLcuAwYMeOaZZ+A++dWvfgUr8tvf/nbMmDFClZ/97Gfbtm27+OKLa2pqBg8ePG/ePB52iWKSKJMEkkbAalroZUnaHGVdH/fzLiGqiN0zBC7jZAwcMSGKpSgSIIHYCFjtyke3j4STPzYF2FFCCLj+nruvXRIyEqpBAiSQdQJW08IlS9YnJbEK0LokdmqoGAkkiADtSoImIyWquEckp2QgVJMESCASAptqE/RSlkhGSKHREODaJRqulEoCOUGAS5acmMbsDILWJTvc2SsJhE4AF7Hg7V54yQpuwsdlxlZPu2sFVaXLHl/20v4vZRnZt3TamP5qHae0r46chDA/7QRoXdI+g9SfBPYQwNXFePewfHFkx5IivDceF4JJOq4VZE0krEuWB8/rp0pTK2tpXx1pbfmYSwQYkZxLs8mx5CkBcSu+vBIfFLRb8V0rSHBWu2KVJitbE947srZlTroIuEYk06ufrgmltiSgE8A2FFYtqmlBDfGIfJS6VpASbU2LJk1Wtia8d2Rty5zcI0DrkntzyhHlFwH4WuSGmDpyGBjko9S1AlrBrjiZFiFTSlO70NJeOtKa8DGHCdDvksOTy6HlBQG48Q3jNJeiYdUWm4BjJ4FmaZmUOvXI/PQS4NolvXNHzUlgDwFEiBlAoNRcYfwf31abP/mTQeqjljaLyqRU64iPOUCAa5ccmEQOIa8JIPgYEWJVtXWa6wWO/dKSPaHJoGNbwUoN17rAd2JbWZVmbShy0FerFgU12+utFVq3KBCaWIuYk6sEuHbJ1ZnluPKFAM61IPgYo1UvkhRp5KPUtoJGB3ZF3BhmW1mVpjX0+KhZPo+tWC3VBGhdUj19VJ4E9hDASZTp5/XDSkXiQBo58oSKtYKsefeZR2g3UVora9JkWy0Br77twgXVkI9SrT4fc5sAd8Zye345unwhAJMwrFcpfsHhWof/A9tQWIWog0eFn85apuYgrdkVWeoqTdZUE969+th/M6iqymQ6vQRoXdI7d9ScBPYjAHNS3r3tflnfPlijjdfcNqKgqWnrwiDtW6n6fz169XmYXweXo8+mr1eODpnDIoH8ImA1LViymE1LMEBYMCEiYL8V015ByEG+8OqLw/zqAR3EI1w6axnyg3XKVoklwLVLYqeGipFApgRs7UqmQp3bi4gAmAqYE+nGF8ZGxBc4HeZHHVwrgJ09bTfPuSuWpIAA1y4pmCSqSAJ+CWzeUhezaREamiMC4GtRVy1yUF4uApCVmUgLAa5d0jJT1DMvCITi7s6KXZHTY4gI8O72l9KYSC8BWpf0zh01zzUCmbu7r3xy+Zy3N6pcju7S6pnLjlNzYkg7RQR4dPvHoCG7iIEArUsMkNkFCbgTEO5u6a5AA+HuVo+tmKVkd8li1k2UCre/+VoBL3JYJxUEaF1SMU1UMscJZOjuttqV+RNP6N7uwKRRc3X7J01h6pMJAXr1M6HHtiQQDoFM3N1W04KA4wSaFkHK7PYPhyalJIMA1y7JmAdqkd8Egrm7be1K8kEa3P7JV54aeidA6+KdFWuSgDuBYEFfft3du3fv7jbpJU0b7VqXYJpoMiN6dHL7R9QdxWaFAK1LVrCz09wkEDjoy5e728uSJbAmuTkxHFU2CNDvkg3q7DMXCYigL/W0oPc7ToS7G1TEyXaBRz3lLnLmrazyaFpwYD6YJrk4MxxTdgjQumSHO3vNMQJOQV8YJu44QanreF3d3bArP521VJWDrTBtNwylmWuidsE0CQQmwJ2xwOjYkAT2EXAN+nK6vXifiL2vabG9Rd+6XrnpB70uGtxNbSvToWgipTFBAoEJ0LoERseG2SSQNJd1sKAvK0HN3Y1hdr/RxXuvCQlLE00sH0nALwFaF7/EWD/7BBLosvYb9OUFonXJct+5R51+5HfMbaPQxNwjS0nAlgD9LrZYmJlcApk4z6MblZdXm/jq3Wpa4OS/6skVGL5ZTuiamLtjKQk4EaB1cSLD/CQSSKzL2mPQlxemsCtW04KGIjDANUYgRE28aMs6JOBEgNbFiQzzk0jA1WWdRaVdg75cdfts6w5buyIbenwPSuaayB6ZIIHABOh3CYyODbNAICsua3MEgVqKiC8t6AuMKj/6AmrDHYI9KywsnKiZ7YraygxB1ORtKyoxprNCgNYlK9jZaUAC8buszREEmZRKBOP/uOKZ5Z/KRyRKi4uqttSpOWraDEHW1MLPZD4TJBAPAe6MxcOZvYRDIGaXtTmCIJNSiQNLFs204IDkohuGdCwpsi5zkIN8QJDNmSCBxBKgdUns1FAxGwJxuqzNEQQ7v26Ag107gi8d7+ZSSMbYYFe03bC5Vx8vzt7HOUwbyswigTAI0LqEQZEyYiQQm8vaHEHwWOUn6kVeEoBwvJtLIVmzK2gOu9KzY7GUE9swZY9MkEC4BOh3CZcnpcVBIB6Xtdl5/rcPPjMMdd2X2w2l585YrJZa7woTpfEMU9WEaRIIkYD72uXmm29urHzKyspE93V1dZdffnnbtm0PPPDA0aNHV1dXh6gWRZGAmYBwWf/XUd/B/V1ImysHKzU7z19b87lBbNc2LQylapGTaRF1YhimqgzTJBAiAXfrgs569+696dvPwoULRffjx4+fM2fO008//eqrr27cuHHUqFEhqkVRJJB1Ak4RBK6KtWpRcH75IbZuebUt7IrZtKiVmSaB1BHwZF0OOOCA0m8/Bx98MAZZW1v78MMPT506dciQIf379585c+brr7++ePF+6/3UsaDCJKASsHWtqxWc0lhJubalXXGix/ycIeDJuqxZs6ZTp06HHnromDFj1q9fj8EvXbq0vr5+6NChAgS2y7p06VJZWWnlsmPHji3Kx1qBOSSQWAJW17oXVf+1vR5+e9FWCypDcy5ZvDBknRwg4O7VHzhw4COPPHL44Ydjb2zKlCnHH3/8ypUrq6qqCgsLW7VqJRF06NABmfJRJioqKtBKPjJBAukiIF3rc1du+kPlOo/KIyLAGhV2/alll57Y3aMEViOBtBNwty4jRowQgzziiCNgabp27frUU081b97c48gnTZo0YcIEURlrmM6dO3tsyGokkBACwrUOZbxbl6tnr9CU51aYBoSPOU/A3bqoCLBYOeywwz788MNhw4bt3LmzpqZGLl8QMwbXjFpZpJvt/VjzmUMC6SIgnPy2Z1zMA3n/llOLCpqa67CUBHKPgCe/ixz2V1999dFHH3Xs2BGe/IKCgvnz54ui1atXwx9TXl4uazJBAjlGACuY/zyyo99BwcP/t9Wb/bZifRLIAQLu1uXaa69FzPEnn3yCqLAf/vCHTZs2Pffcc0tKSsaNG4ctrwULFsDDf+GFF8K0DBo0KAeIcAgkYEsA17c8/7bLm7tsG7q+kcW2FTNJIO0E3HfG/vnPf8KcfPHFF+3atRs8eDDCjpHAsO+5554mTZrgHCWiwoYPHz5t2rS0s6D+JGAg4HQxjKEJisTFMGiLU5/mmiwlgRwj0Hj3bmvMZFRjhFcfix6clSku3nefUlSdUS4JfEtAfQUL3CfY4/q2xNN/RXNfMWOa3B+Xdx3Rp6Nt1xnqpnXERxKIjYDr7zmtS2xzwY6yQ8D8ChZXnbTmrvUNFXB6/5en90KIs6yjCbdWkDWZIIGkEXC1Lu5+l6QNifqQgHcC5lewuMqxNndq8sGtI1yvfqmqrbt01jLIFEKswrUKTn0xnwRSQYDWJRXTRCWDEMCmk+EVLCg1C7VtbtvkwfP6FR7QBOsSlBo23UR/wslvK1ytYNsRM0kgRQRoXVI0WVTVHwEnPzx+xHFsBaVmcU7N1VZYr8C0iM0ucfVLaUmRWkFLy66dhMsKWkM+kkDqCLjHjKVuSFQ4mQTw1zp+UnFFCm62t/Vvh662+QUt5lIoY65g66j3eG2MWbJr16GDokASiIIArUsUVClTJwAfA3aE5EH3eNzX5he0mEsxAHMFxIDZBhl7uTbGLNm1ax0un0kgkQS4M5bIacktpbLlvhZ3t1gdIciBeUOpGbNTBS/NXbtGBbwGxlYB5Dt1bVufmSSQTAK0Lsmcl9zRKovuaywjrJ52YWyQbz718vqHn3e/8SXrNHhsnknXogtr18whgXQRoHVJ13ylT9vsuq+tnnZ43ad/64d3oonL8//790tsS700Fw3NXQNLzfZ62y7E62Fsi5hJAikiQL9LiiYrlaqaPdjm0lAGLD3t6AsOD2w6GVYt1peyXHVyj6tP7hEsHsHQtXng5tJQsFAICURNgNYlasL5Lt/swTaXhsUO5sTWA6/Jt5oW+VIWL801aeLRqWvzwM2lth0xkwSSRoDWJWkzkmv6CP82TqGLo4JyePAuYJcpIe5rq115d8rwls0i/L8DA4f33nZzjF59+SVhItUE6HdJ9fSlQPlM/NvxDM9qWrBkidS0mMdFr76ZD0vTQiDCv87SgoB6Rk1A+LfV8y5YtWj3OUatg618W7tiWzP0TFevfuC9uNBVpUASCEaA1iUYN7byR8Dg3/YnKKTaW+vq+978F02Y9LJo+VE8mv325tIo9KFMEgidAK1L6Egp0J6Ak3/bvnaUuX6XLOY7bMylTuMw++3NpU4ymU8CiSJA65Ko6aAy0RK4+8/vP7DgI7WPti0Ll04epuZoafMdNuZSTZT6mIpgB1VhpknALwG+PcwvMdZPKwG/SxaMU9xho0a7CZe7OI9pLnXFJJqjmpSvCndtzgokkF0CfHtYdvmz90QQgF3RTMuzlx/n6mUx32Gz8+uGTF4eAy4i2AEBDpKR94sAZBMmSCCxBLgzltipoWLhENDsCoS62hXRsfkOm8cqP5FXPquKyhe0eAn6SlqwgzoQpkkgQwK0LhkCZPPkEghsV8SQzIFb677cbhi5ua3aMDnBDqpWTJNA5gR4mjJzhpSQRAIZmhYMyRy41bVNC8OwzW0NDVlEAjlDgGuXnJlKDuQbApnbFSHIHNZ1fvkhv1+4NuE33PA7QQJZJMC1Sxbhs+uQCazYUBOWaYFm5jtsCg9oEvjlMSEPm+JIIJEEGJGcyGmhUv4JhGhX1M7NJ1rMpaocpkkgxwi4RiTTuuTYjOfOcLyfgT/x7gWffLGfj33CsMPwXhbvLMx9ZVLqqoNZuGtzViCBbBFwtS70u2RrativiYD3NUHmSxbXvsxhXeZS0yD3ntZUL/fsmIzLPc06s5QEPBLg2sUjKFaLjwB+7i+dtUyeYEfHtofYrXZl5ZThB/p8KYvHvqIYfBa7jmI4lJlvBFzXLvTq59tXIunjxU6RlzPwVtOCM5J+TYvHvqJAlsWuoxgOZZKAlQB3xqxMmJNNAuYT8ig9d8ZiTT+PZ++1Vnh07cvLeXurWC85Wezai3qsQwKZE6B1yZwhJYRJwHzKPUTTAqXNfc1duQl1xLuZYQxQGWck8QhHS+YDNndtLs28d0oggRgI0LrEAJld+CDg/ZR74CWL1Mbc1x8q1+EfvOUe9Wu214tWYTnezV2bS6X+TJBAkgnQ75Lk2clH3cQJedfVASrAK54hIC99wa5I04LucDgfEQfRdY1xwYCJBVOGo2NzEsguAVqX7PJn7zoB2xPyeqW9z3D+wzduW+Qx03tfUqDoL6KuhU3FFQChbL5JnZkggawQoHXJCnZ2aiIgXnxithsoxQX4cIeYBHkos75kxbVRdF3z/S6u8FkhRQTod0nRZOWRqj+dtczLaEPxfsuXrMCND0eLl35RJ9yuIQ2+lrBCBjwOgdVIIFICtC6R4qVwHwSwzYW1iDUqzCBiTfXWyo++yPxHGTtRIvjYu3UJy/EuuzYMk0UkkEYC3BlL46zloM7wkw++8xWrafno9pHwcguHhHXY9y/4CE3QMHM3O4R7cfKjGh3v1olgDglYCdC6WJkwJ24CsA3YCtNeJIwf8QfP6+fF8R5WHJeXvoSdo+M97q8I+0shAVqXFE5abqm8umqrk5dFhGa5Ot7DiuMCV2tfOO8ijrwI6nS859a3j6OJkABvsYwQLkW7ErBeF6Y1efIng4RHRHhlFn34+f0LPtTqyEdZWeYES4i+pKcdQkI/qx9MMbYigeQQcL3Fkl795ExWQE20n0Js7xgE+apskJN50QUz3/jb6s9c5cjQLOH9lo+2DZ1K/Y5a9KV2Ed2FY2ovTJNALhHwZ13uuOOOSZMmXX311b/97W9Boa6ubuLEibNnz96xY8fw4cOnTZvWoUOHXKKT/LHAY4HtI+mxMN9T4qtypGN3XbLI3rXQLO1RVhMJ29LkjFrTlo8kkNsEfPhd3nzzzYceeuiII46QRMaPHz9nzpynn3761Vdf3bhx46hRo2QREzEQwO8mbiWRpgU9GvzbvipHpzzsimZaVtw0zDYqzDY0yymsy7YyRpGQUUfHk5JJILEEvFqXr776asyYMTNmzGjdurUYTG1t7cMPPzx16tQhQ4b0799/5syZr7/++uLF+u3oiR152hXDbg9WLdqBdif/tq/K0ZHR7Ao6wk2UrVoUIgQLaXVHT6StoVm2YV1OlRMy6uh4UjIJJJmAV+ty+eWXn3baaUOHDpWDWbp0aX19vcwpKyvr0qVLZWWlrCAS2DSD80d+tFI+BiYAP7O6apFybO8p8VVZigoxYV2ywK7IS46tkVqG0CzvlbM+6hABUhQJpI6AJ78LPCvLli3Dzpg6vKqqqsLCwlatWslMOF2QKR9FoqKiYsqUKVomHzMn4OTBFpK1Uu1R691cqlX2+1hXv6ts8jytlbQrMh82Y1ivUo+hWR4rm8dlLpWKMUECJBCMgLt12bBhA9z4L7/8clFRUYA+EAUwYcIE0RArmM6dOwcQwiZWArYebFlNK9UeZTWRMJdqlX092m6FOUmwRmo51US+l8rmcZlLDV2ziARIwAsB950x7IBt3ry5X79+B+z9wIF/7733IomVys6dO2tqamQ31dXVpaWl8lEkmjVrVqx8tFI+Bibgy7+NyuqRQLXT1i0KUKrmhJJ+dvmnmmnp3anYumQJpS8nIb4QOQlhPgmQQDAC7muXk08++Z133pHSL7zwQrhYrr/+eqxCCgoK5s+fP3r0aJSuXr16/fr15eXlsiYTkRIQ/m3EjMGnLX37Tv5tgyayraGO3yLNrqB5zHZFKBwWIr/DZ30SIAEQcLcuBx10UJ8+fSSsli1btm3bVuSMGzcOu15t2rTB4uTKK6+EaRk0aJCsyUTUBIR/Wz3vAmc44qyQr3UNf4b6gkW1FPkoDeu0oNWuzLlicN/vlqg9xpn2jihOrdgXCeQDAXfrYqBwzz33NGnSBGsXeZrSUDmBRX6PcCdwCInyb1tNS1aWLNo02SLKganXhslHEkgagfy9ZyyvjnDjJSjWy+3ldzHz67msdmVtxcjGjcVGnewnKYm8mvqkQKceOUcAUVolJSU4+Ii9K9vBuXv1bZulPTPfjnBH6t+2mhYsWZJsWrxfcJD27zn1J4EsEshH65KHR7iFfxvfM3U1ESAEQPumwq5opgV2JQm7YZqe8jEPp16OnQkSiJlAPlqX/DzCLfzbcPvLb5jhPLys45RY98U2za6gZpLtihhIfk690yQynwQiJZCRVz9SzaITbj6kbS6NTqsYJNv6twP0m0a7IoZpnlxzaQBQbEIC+UwgH62L+ZC2uTTt3xUvR9wNY5wy592Ziz5RK9w4suzi73dXcyJKhxLlZZ5cc2lE46JYEshVAvloXYSLG5fVawcJ4YfAZlEUB9dz49uTxSVLWFFenPrc+CpyFKkgkI9+l4hc3KmY72BKwq5opuXtX54Sm5clxAA/Tn2wLwBbkUAAAvloXYApXBd3AO4paqLZFWgOu1LSvCCeIYQe5cWpj2fi2AsJ5OPOmJj1sFzcOfwdsrUrMY/XNcorwB02nPqYJ5Hd5SeB/LUumO8MXdzJ/MaE4v2u39XQ4+dztQHGthWm9muO4zKXqnK0dE5OvTZGPpJAdgnktXXJLvooeg/F+52EJYuEY47jMpdKIUyQAAnETyBP/S7xg46hx8y93wve36yZlhMPb5eVJYvEFekdNrIXJkiABEInwLVL6EizI9DJ+40wa1zRj5cKYy/IrJlmV1A5u3ZFaCuivDJ/jY157CwlARIInQDXLqEjzY5AV++3Qa3yivmaaXnhysFJMC1CZ0Z5GeaORSSQWAJcu+ybmlD84fvEZZAKoInZv20o1ewKtDbYlQCKZYBhX1NGee1jwRQJpIQArcs3ExWKPzyUSQ+midm/bVtqtSvml7IEUywUJhDCKK+wSFIOCcRDgDtjezhn7g8Pa7YCa+LX+201LViyGF7KElixsMhQDgmQQLoI0Lo0cvKHYyLhD0dpbDOaiSbC+w1VVd+9SP/y9F6qSx92RTMtsCuG3TDIzESx2OixIxIggUQRoHVplIk/PNy5zFATV+83vC+aXYH+ZrsiBpihYuFSojQSIIFUEKDfpZHB440pNJd6nGP87Y8faIiC/wNbWOpKQpVg7stcKuQYvN/B7IrQfO7KTaqeWtqLYlqTrD96nJGs60kFSCC9BGhdGtl6vOWMmktlNUPCuzPc3Je5VCpg9X5P+9uHd81bLSsgcdeZR5x9TGc1xzataW5bB5keFXNqHn++Nq6OJUXYPIRhjl8T9kgCOUyAO2ON/PrDfX0bfDnDo9AESxbNtGArzKNpwRnGTbV1hvHCr4OfZqhtqJO0Il8zkjTlqQ8JpIgArcueUFf86Yo5c/WH+51Xv87wcDWBXdF2w9652etLWWw114ZvGzKg1Unao+24RNhGzBEcSSNDfUggdAK0LnuQuvrDg3EP4AwPSxPNrkB/LFkOKvL6UhYnzVUOeI/n9PP6pWtDyWlcMDBYpaFUHSDTJEACmRCg3+UbeviVxGVc+H1x9b17x212dzuVZqiJrV3xrrOo6aSbKP1xedcRfToawhP8dhdbffO4zKWxKcmOSCA3CNC67JtHqz98X1mglNndbSgNpgm2fbrf+JKmqZeAY60JHg26oRSmRbyzCz2q9hhF6iNGYZWclRyp5+dbdxgUMI/a0JBFJEACVgK0LlYmoeUIL31VbZ12IBM/uthWCtcZHsqSRY7ci+Za5FWrFnu23Wq21wshyQnE0vSEybMekI1iRiRMJkggPwnQ7xLhvIfrpXdS9O0NNZppGd3vu8GWLLILV82tkVewK9K0QA5sKkLOUE3KzErCqqetaYFu2o0GWdGWnZJALhFovHu39od1hKPbsmVLSUlJbW1tcXFxhN0kTLT2t3O4f9RrdgVDz9CuqPCcNMdG0+A7XzEHK0OOWBAsvH5ItrbIDHqqK5hwZ0QFyDQJ5DAB199z7oxFPvsZeumd9Ltm9vJnV2xUS+ddc3xZaZhm20lzOFdcTQsUk4FYwkmjqhpP2qAnVjCTT+t58EHN4GtJY3hCPADZCwlkQoDWZR896fsN/RcHf7yH+wsb6ZJlHxHLvfcCkfliGLU50rgpYNXG2vPLDyk8IO5tWHMMGEzLfx31HU1bPpIACYRFgNblG5JOu0BhgQ5LjtWumF/KEla/kKMh8ij5tTWf45/bXnrvJ8d3mzRyz6nV2D7mGDBzaWxKsiMSyFUCcf85mUyO+N3Ubj1JiFNaw2U1LfCyGF7KojXP5NGKyJc07EQ99Pe1FS+t8tUqw8oi8s0aFo2c1F1gkyEKNieB+AnQuqTj5SWwK5ppgV0J0YFv/uZhQwwXpWQe/jHjtbU7v24w9xViqWvkW4h9URQJkIBGgNYlQe930eZGPNZur9fsCv7ujs2uCB0M7nGpM867iCMvMseawArmscpPrPnR5SAwAdfV4HSR7CKNF9hI5ZkggRQRoN/F5Q0uwoOdYVgR/mDHr+q6L7d3bdPCl39bsyv4YsVsV8RX2ewelxfDoDLsENz4cLQ4/T8ACE5FEeU7Rb5F1B3FkgAJCAK0Li63nvyhch3+yeRIBJwN2BGSh/g8+refW/Hp1bNXqF/T6WP6jeibnXeQmB3g8mIYaIvQOESIGawL7Ks6qHjSocfsxaM2eyGBVBPgzpjj+13UeQ3s5IdpgTdbmhbI9OLfxpJFMy1YsmTLtEBnX+5xLM6cLhhDPkpVsEyTAAnkKgFaF/v3u2jzLRzafl8Bgg0xrFo0UeLRyb/9Xw8s0nbDvL+UxbajUDJ9ucdxrgXBx7b9Ij/+Uy+2mjCTBEggagK0LnsIW32/Vu7y5Lm1yCkHvhZ11aJWQ77Vvw27gkvD1GpYsnh/KYvaMPS0FZHBPY5zLZd8v5u6gkEaOTGfdwkdAgWSAAl4J0C/yzespO8Xbnw4WpwI+nLymz3Yaqm2XkHvqvc+uksEnIZpmy8Rwcnvep0BDMk1Qw+//aVVn3yx/ZC2LW4c2at5YVNbscwkARLISQLu1mX63s8nn3yC8ffu3fumm24aMWIE0nV1dRMnTpw9e/aOHTuGDx8+bdq0Dh06pJqR9P0arIsvJ7/Zgy1KGxp2H2p8KYt2Qj6T+ILMZ0cichWlqv3amkZ/fW8zLiGGfXJtyAokQAK5QcD9juQ5c+Y0bdq0R48euE350Ucfvfvuu5cvXw4zc+mll7744ouPPPIIrj2+4oormjRpsmjRIjMU1zs1zc3jKcVCARcAW1/KovYujn+7vvcXfpeyyXNtN8ewU/T+LSMO+8VcVSzS6pIFj+KEvHqM0WPXmtiYH1OqdsyU2B0JpJqA6++5u3XRxt+mTRsYmDPPPLNdu3ZPPPEEEqjw/vvv9+zZs7KyctCgQVp99dFVG7VyFtPixxEKqD/rmj74lYfjwfV6eREzprXF44+O+c4f3/pUzb/65B7jhx2m5gg7Z72N2GPXqqg40ylVO05E7IsEcoCA6++5D6/+rl27sA+2bdu28vLypUuX1tfXDx06VDAqKyvr0qULrIsVGfbNoIT8WCskMMfqwbYq6dHJb+vfhjTNtGDJopkW1HE6Ie+xa6vO8eSkVO144LAXEsgfAu5+F7B45513YFHgaDnwwAOfeeaZXr16rVixorCwsFWrVpIUnC5VVVXyUSYqKiqmTJkiH9OSkB5ss5PffIhdDBYGZuIpZYgQgxv/n19uf2X1ZyqE+RNP6N7uQDVHps3CzaVSSPwJs2Lm0vi1ZY8kQAIREfC0djn88MNhTpYsWQJfy9ixY1et8nHT7aRJk/AySvHZsGFDRMOIQqzwYOMgukG4+RC7bIhDHuOOPxQRAZppwZLFybSgrVm4uVR2HX/CrJi5NH5t2SMJkEBEBDytXbBM+d73vgcN+vfv/+abb/7ud7/70Y9+tHPnzpqaGrl8qa6uLi0ttWrZbO/Hmp+WHHFM3erkF84PlHoZyKWzls5dud/CzstLWULp2ot64dZJqdrhQqA0EiABT2sXFVNDQwNcKTAzBQUF8+fPF0WrV69ev349ds/UmrmR9nVM3XbIOMuimRYsWby8lCXzrm31iTozpWpHjYXySSDfCLjHjGFrCwdc4LTfunUrgsTuvPPOP//5z8OGDcMu2UsvvYSI5OLi4iuvvBLgXn/9dTM++PYRvoxdMjQx10xaqXp6A7p5PHRiPiPpcYzBuvYoPLpqKVU7OiCUTAI5RsD199zduowbNw5rlE2bNsEwHHHEEddffz1MCzCJ05RPPvmkPE1puzOmAnXVRq2ctLSvA/N19bvKJs9Th3Dd8MMvP2nP7mKAj6+uA8iPqElK1Y6IBsWSQI4RcP09d7cuIRJx1SbEvrIoKpQlSxb1Z9ckQAIk4ErA9ffck1fftRtWEATe3Vh72r0LVRovXDm4z3dK1BymSYAESCAfCNC6hDbLXLKEhpKCSIAE0k+A1iWEObz/lTW//ssHqqD3bzm1qIBXAqtImCYBEsgvArQumc43lyyZEmR7EiCBXCRA6xJ8Vssr5mtXTGo3HAcXzZYkQAIkkHICtC5BJhAvI+g26SW15fDeHR46/xg1h2kSIAESyGcCtC6+Z59bYb6RsQEJkED+EaB18THnn23dMeC2v6oNpo3pN7Kv6ZpLtTLTJEACJJA/BGhdvM41lyxeSbEeCZAACTRqROvi/i34y7tVFz+2VK235MaTOxQXqTl+07wlxS8x1icBEkgXAVoXl/mKYsnCGx5doLOYBEgg/QRoXRzn8Monl895e6Na/PHtI5s0wYtdMvrAtFw6axneXiw/eHkMcqaf1w8vxJSZTJAACZBAqgnQuthPn7ZkadOycNnkPTdDZ/jBhtiUOatU0wKBeITJQv6wXqV4OUqGXbA5CZAACSSBAK2LPguaXUFxiGck31j7pXYAU3QPA4N8lJZ3b6srxGcSIAESSCEBWpd9k1a/q6HHz+fue27UaNKIsktO6K7mZJjevLXOIMFcamjIIhIgARJIGoGUWRdzqJW51Iw+0iWL7Lr9QaZIM3OpFMIECZAACSSfQJqsiznUylxqmIlNtf8ur3hFrfDiVYN7d4rkpSz/0a0N3poMN77meoGzpbSkCKWqGkyTAApxPYYAAAwOSURBVAmQQHoJNEmL6iLUSnVaiFAr5GMI5lLDGLFk0UwLvCwRmRaoAaf9L0/vhYTquxdp5NOlb5gpFpEACaSLQDqsi1OoFVgj1Grn1w22gViiFG1tp2TFhhptN2z1raeG6MC37RSZCDtG8DFWKrIC0gxHljSYIAESyA0C6dgZM4daPVb5ibqmkRNjCMTS7MrxPQ5+bNxA2TDqBAwMgo8xKLjx4WvBhhhXLVEzp3wSIIGYCaTDupiDqdZ9ud1ATWv7xJL1Nz7zjlo/hvWK2p1Iw5ww+NiKhTkkQAI5QyAd1sUcTNW1TQvDfMi21peyTB/TbwRvODawYxEJkAAJBCWQDr+LCLVSPeFivMhBCNb55Yfg306lIhBr5qK12vu+sGShaQn6tWE7EiABEnAhkA7rYg61KjygiSEQ6+uGBnhZ4PaXJP464YSs7IZJBZggARIggZwnkA7rgmkwh1o5lf7l3erDfzFPzuKIPqWwK99rf6DMYYIESIAESCAKAo3hjYhCrq3MLVu2lJSU1NbWFhcX21ZwzTSfxldLDz245cCK+arA9285taigqZrDNAmQAAmQQDACrr/n6fDqy8GbQ61k6XF3vPJpzb9lq9CvC5OSmSABEiABErAlkDLrYjsGNXPlp7U/uG+hmrO2YmTjxlaXv1qFaRIgARIggZAJ5JR1mfzsyscWr5OEZl4w4KSy9vKRCRIgARIggdgI5Ih1+aB66yn3/F2lxqgwlQbTJEACJBAzgdRbF0QljPn9ktc/+kKCw0sk8SpJ+SgTqs+fl69ILEyQAAmQQBQE0m1dFn34OUyL5HL7D/v+98Au8lFNBL6fXxXCNAmQAAmQgEcCabUuO77edfydCzZv3SHG2apFweJJJzsFHIv7+dXIa3F7P28m9vgtYTUSIAES8Esgldbl6bc2XPd//yGH+siFA0483NF7jw0x2/v5EUaGfNxVjDhmKYoJEiABEiCBUAikz7qc9Ou/rf18mxj8MV1bP3VJeROjeTDf3o9S3lUcyjeJQkiABEhAJZAy67Klrl6aFo/vJ9Zu4FcHj7S5VKvMRxIgARIgAY8EUmZdiosKHjq/f+32+rMHdPY4QnkDv219c6ltE2aSAAmQAAm4EkiZdcF4hvcudR2VWkHc3g83vurVRwU4W/DKYXE/v1qfaRIgARIggcwJpOaO5MBDNd/eT5d+YLBsSAIkQAIGArlvXTB4p/v5kW9AwyISIAESIIHABNK3MxZsqDAkCD5GhBjc+PC18Kx+MIxsRQIkQAIeCeSLdQEOeT+/RzSsRgIkQAIkEJiA+85YRUXFgAEDDjrooPbt259xxhmrV6+WndXV1V1++eVt27Y98MADR48eXV1dLYuYIAESIAESyGcC7tbl1VdfhQlZvHjxyy+/XF9ff8opp2zb9s1hxvHjx8+ZM+fpp59GnY0bN44aNSqfUXLsJEACJEACkoC/Nx9/9tlnWMHAlnz/+9/HC4zbtWv3xBNPnHnmmRD3/vvv9+zZs7KyctCgQVK6lnB9U6ZWn48kQAIkQALJJOD6e+6+dlEHBouCxzZt2uDfS5cuxVJm6NChokJZWVmXLl1gXdT6SO/YsQNKyI9WykcSIAESIIGcJODDujQ0NFxzzTXHHXdcnz59wKKqqqqwsLBVq1aSS4cOHZApH0UCbpuSbz+dO3s9YK8J4SMJkAAJkEC6CPiwLvC+rFy5cvbs2b5GOGnSJKx4xGfDhg2+2rIyCZAACZBASgl4jUi+4oorXnjhhb///e/f/e53xVBLS0t37txZU1Mjly+IGUOmBqLZ3o+WyUcSIAESIIHcJuC+dsGrhWFannnmmVdeeaVbt24SR//+/QsKCubPny9yEKm8fv368vJyWYEJEiABEiCBvCXgvnbBhhgCw5577jkceRFuFbhRmjdvjn+PGzduwoQJcPIXFxdfeeWVMC2GgLG8RcyBkwAJkEAeEnCPSG7cWH9148yZMy+44ALAwmnKiRMnPvnkkwgMGz58+LRp06w7YypTeF+wjQbvC6yRms80CZAACZBAugggEhiBWnCOYKVhrzk2vmL70KtvPwfMJQESIIF0EsCvupMFcV+7hDhkxDTjSD922KzroRB7yZYoYcm5MvPFn9B84UJlEvNLjNAiIgajsnXr1k6dOjVpYu+/d/e7BNDMqQmUkCFnTnXSno9NP+77+Z1EQiMxvwQC1OfXzC80V2KOe2J7e7K3OX6VYH0SIAESIAESUAnQuqg0mCYBEiABEgiHQNObb745HEmUglfING164oknHnBArPuNaQdPaH5nkMT8EkN9QvMLLXNisXr1/Q6P9UmABEiABFJKgDtjKZ04qk0CJEACiSZA65Lo6aFyJEACJJBSArQuKZ04qk0CJEACiSZA65Lo6aFyJEACJJBSArQuIUwc3pA2YMAA3EGA10KfccYZuC46BKF5I+KOO+7A3Q14MV3ejDj4QD/99NPzzjuvbdu2uEa2b9++b731VnBZedBy165dkydPxs3uwNW9e/dbbrkFx8vzYNy+h4hXq5x++uk4dY//E5999lnZHrhuuummjh07AiBeQ7xmzRpZ5CVB6+KFkkudV199FTdJL168+OWXX8bboE855ZRt27a5tGHxXgJvvvnmQw89dMQRR5CHK4F//etfeDMsXnsxd+7cVatW/eY3v2ndurVrq3yucOedd06fPv3+++9/7733kL7rrrvuu+++fAbiNHb8Xh155JEPPPCAVgHE7r333gcffHDJkiUtW7bEVcW4uVirY3p0uoCM+cEIbN68Gbhhb4I1z6tWuKSoR48eMMknnHDC1VdfnVdjDzDY66+/fvDgwQEa5m2T00477aKLLpLDHzVq1JgxY+QjE1YC+O3Cq7xEPq6FxJ33d999t3jEXch4EyRuxLe2csrh2sVkegOU4S0DaIV33gRom29NsODD//9YcefbwION9/nnnz/mmGPOOussbMAeffTRM2bMCCYnf1ode+yxeL3hBx98gCG//fbbCxcuHDFiRP4MP8ORrl27Fi/0kv974kqxgQMHVlZWehfLU+XeWbnXhLWH/wDbF3369HGvnd81Zs+evWzZMuyM5TcGH6P/+OOPsc+D9/XdeOON4HbVVVcVFhaOHTvWh4g8q3rDDTfgSumysjIcO4cP5rbbbsPaJc8YBB+ueFdkhw4dpAikRabMMSdoXcx8/JXij/GVK1fiTyR/zfKvNt5TgK0w7IkVFRXl3+gDjhh/u2Dtcvvtt6M91i74pmFDnNbFQPOpp556/PHH8Wrd3r17r1ixAn/5wXFNYgZi4RZxZyw0nldcccULL7ywYMGCnH/LQObIli5dCgdVv379cCcbPnBTwXmIBP7AzFx4rkpA6E6vXr3k6Hr27Ll+/Xr5yISVwHXXXYflyznnnIP4uvPPP3/8+PEI77RWY44tAfGi4erqalmKtPntw7KmSNC6aECCPMKpBdMCb9grr7yC8McgIvKszcknn/zOO+/gz0nxwZ/k2LJAGjsYeUbCx3Cx46oGu8Od0LVrVx/t86/q9u3b1Rdb4duF9V/+YQg4YvyUwZbAcSXaY48RkWPl5eXexXFnzDsrx5rYEMPq+7nnnsORF7EvCQ8YIsQdG+R9AUCprikEO+IMh5qT94RsAOBPb7ipsTN29tlnv/HGG/+z92NTj1nfEsAZDvhaunTpgp2x5cuXT506FSFk3xbyv/sIfPXVVx9++KF4hjMff+chLgncsJd46623IrATlgYnh7CviPN8+5q5ppyCyZjvnYAV8syZM703Z01GJHv8DsyZMwc2GIGh8FTDuHhslbfV8Oc23Hv4lYR779BDD/35z3++Y8eOvKVhGDj287UfMXinUB9LPRgVOPPxlcN+A5bOBiHWIt7Ar1HlIwmQAAmQQAgE6HcJASJFkAAJkAAJaARoXTQgfCQBEiABEgiBAK1LCBApggRIgARIQCNA66IB4SMJkAAJkEAIBGhdQoBIESRAAiRAAhoBWhcNCB9JgARIgARCIEDrEgJEiiABEiABEtAI0LpoQPhIAiRAAiQQAgFalxAgUgQJkAAJkIBGgNZFA8JHEiABEiCBEAjQuoQAkSJIgARIgAQ0ArQuGhA+kgAJkAAJhEDg/wM3xGlLYQdr8gAAAABJRU5ErkJggg==)"
      ],
      "metadata": {
        "id": "kIWcRFdPcREG"
      }
    },
    {
      "cell_type": "code",
      "source": [
        "import matplotlib.pyplot as plt\n",
        "plt.scatter(X, Y)\n",
        "plt.plot(X, Y_pred)"
      ],
      "metadata": {
        "id": "6oxNbytActiV",
        "colab": {
          "base_uri": "https://localhost:8080/",
          "height": 448
        },
        "outputId": "31514142-daef-4517-c61c-af0bb522329c"
      },
      "execution_count": null,
      "outputs": [
        {
          "output_type": "execute_result",
          "data": {
            "text/plain": [
              "[<matplotlib.lines.Line2D at 0x79430c150cd0>]"
            ]
          },
          "metadata": {},
          "execution_count": 21
        },
        {
          "output_type": "display_data",
          "data": {
            "text/plain": [
              "<Figure size 640x480 with 1 Axes>"
            ],
            "image/png": "[encoded data removed]"
          },
          "metadata": {}
        }
      ]
    },
    {
      "cell_type": "markdown",
      "source": [
        "**【具体的な学習時間から、得点を予測をする】**\n",
        "\n",
        "モデルができたので、具体的な学習時間から、得点を予測してみましょう。\n",
        "\n",
        "ここでも、`LinearRegression` クラスが持つ `predict` 関数を利用します。\n",
        "\n",
        "`predict` 関数の引数に学習時間を指定して値を予測します。引数の `[]` の数に注意してください。\n",
        "\n",
        "```python\n",
        "# 特定の値での予測（例: 学習時間6時間の場合）\n",
        "new_Y_pred = model.predict([[6]])\n",
        "\n",
        "print(new_Y_pred[0])\n",
        "```\n",
        "\n"
      ],
      "metadata": {
        "id": "shQncn86iUkA"
      }
    },
    {
      "cell_type": "markdown",
      "source": [
        "**【やってみよう！】**\n",
        "\n",
        "4.   変数 `model` の `predict` 関数を使って、学習時間が `8` の場合の得点を予測し、変数 `new_Y_pred` に代入してください。\n",
        "5.   変数 `new_Y_pred` を出力してください。\n",
        "\n",
        "次のような出力結果になっていれば正解です。\n",
        "\n",
        "```\n",
        "65.73886458935138\n",
        "```"
      ],
      "metadata": {
        "id": "KUtIKYtEe9qw"
      }
    },
    {
      "cell_type": "code",
      "source": [
        "new_Y_board = model.predict([[8]])\n",
        "print(new_Y_board[0])"
      ],
      "metadata": {
        "id": "yhbGidw8fPfk",
        "colab": {
          "base_uri": "https://localhost:8080/"
        },
        "outputId": "4c264794-fc96-45b2-ab22-e8c3c734554d"
      },
      "execution_count": null,
      "outputs": [
        {
          "output_type": "stream",
          "name": "stdout",
          "text": [
            "[65.73886459]\n"
          ]
        }
      ]
    },
    {
      "cell_type": "markdown",
      "source": [
        "# 単回帰分析のコードをまとめるとこうなります"
      ],
      "metadata": {
        "id": "R2squaStF20O"
      }
    },
    {
      "cell_type": "code",
      "source": [
        "import pandas as pd\n",
        "import matplotlib.pyplot as plt\n",
        "from sklearn.linear_model import LinearRegression\n",
        "\n",
        "# CSVファイルからデータを読み込む\n",
        "df = pd.read_csv(\"/content/study_hours_score.csv\")\n",
        "\n",
        "# 説明変数（広告費用）と目的変数（売上）を設定\n",
        "X = df[['study_hours']].values\n",
        "Y = df['score'].values\n",
        "\n",
        "# 単回帰モデルを作成\n",
        "model = LinearRegression()\n",
        "model.fit(X, Y)\n",
        "\n",
        "# 予測値を計算\n",
        "Y_pred = model.predict(X)\n",
        "\n",
        "# 散布図と回帰直線をプロット\n",
        "plt.scatter(X, Y)\n",
        "plt.plot(X, Y_pred)\n",
        "plt.show()\n",
        "\n",
        "# 特定の値での予測（例: 学習時間8時間の場合）\n",
        "new_Y_pred = model.predict([[8]])\n",
        "\n",
        "print(new_Y_pred[0])"
      ],
      "metadata": {
        "colab": {
          "base_uri": "https://localhost:8080/",
          "height": 447
        },
        "id": "Uhgs8wkxvv8f",
        "outputId": "1db92a73-8465-408f-f7bf-efd999996fc2"
      },
      "execution_count": null,
      "outputs": [
        {
          "output_type": "display_data",
          "data": {
            "text/plain": [
              "<Figure size 640x480 with 1 Axes>"
            ],
            "image/png": "[encoded data removed]"
          },
          "metadata": {}
        },
        {
          "output_type": "stream",
          "name": "stdout",
          "text": [
            "65.73886458935138\n"
          ]
        }
      ]
    },
    {
      "cell_type": "markdown",
      "source": [
        "# 演習"
      ],
      "metadata": {
        "id": "_mO4SkrVtC36"
      }
    },
    {
      "cell_type": "markdown",
      "source": [
        "1.   お渡ししている`ad_sales.csv` というCSVファイルをGoogle Colabにアップロードしてください。\n",
        "2.   `pandas` をインポートし、別名を `pd` としてください。\n",
        "3.   `matplotlib.pyplot` をインポートし、別名を `plt` としてください。\n",
        "4.   `sklearn.linear_model` モジュールの `LinearRegression` クラスをインポートしてください\n",
        "5.   `read_csv` 関数を使って、`ad_sales.csv` のデータを読み込み、変数 `df` に代入してください。\n",
        "6.   広告費用（カラム名： `ad_cost` ）を説明変数（変数X）に、売上（カラム名： `sales`）を目的変数（変数Y）を設定してください（説明変数は `[]` を2重にすることを忘れずに）\n",
        "7.   `LinearRegression` クラスを変数 `model` に代入してください\n",
        "8.   変数 `model` の `fit` 関数を使って、モデルを作成してください\n",
        "9.   変数 `model` の `predict` 関数を使って、説明変数（変数X）から予測値を計算し、変数 `Y_pred` に代入してください\n",
        "10.  横軸を説明変数（変数X）、縦軸を目的変数（変数Y）として散布図を書いてください\n",
        "11.  横軸を説明変数（変数X）、縦軸を予測値（変数Y_pred）として直線を書いてください\n",
        "12.  変数 `model` の `predict` 関数を使って、広告費用が `60` の時の予測値を計算し、変数 `new_Y_pred` に代入してください\n",
        "13.  変数 `new_Y_pred` の出力してください\n",
        "\n",
        "次のようなグラフが出力され、広告費用が `60` の時の予測値が `81.87010370079126` になっていると正解です。\n",
        "\n",
        "![image.png](data:image/png;base64,iVBORw0KGgoAAAANSUhEUgAAAigAAAGdCAIAAAC3gB+JAAAMPmlDQ1BJQ0MgUHJvZmlsZQAASImVVwdYU8kWnluSkJDQQpcSehOkE0BKCC2A9CLYCEmAUGIMBBV7WVRw7WIBG7oqotgBsaCIYmFR7H2xoKCsiwW78iYFdN1Xvne+b+797z9n/nPm3LllAFA/yRWL81ANAPJFhZL4sCDG6NQ0BqkbIAAHZEAFblxegZgVGxsFoA2e/27vbkBvaFcdZVr/7P+vpskXFPAAQGIhzuAX8PIhPgQAXskTSwoBIMp4i8mFYhmGDWhLYIIQL5ThLAWulOEMBd4n90mMZ0PcAoAKlcuVZAGgdhnyjCJeFtRQ64PYWcQXigBQZ0Dsn58/kQ9xOsS20EcMsUyfmfGDTtbfNDOGNLncrCGsmIvcVIKFBeI87tT/sxz/2/LzpIMxrGGjZkvC42VzhnW7lTsxUoapEPeKMqJjINaC+IOQL/eHGKVkS8OTFP6oEa+ADWsGdCF25nODIyE2gjhUlBcdpeQzMoWhHIjhCkGnCAs5iRDrQ7xQUBCSoPTZLJkYr4yF1mVK2Cwlf44rkceVxXogzU1iKfVfZws4Sn1MrTg7MQViCsSWRcLkaIjVIHYqyE2IVPqMLM5mRw/6SKTxsvwtIY4XiMKCFPpYUaYkNF7pX5pfMDhfbHO2kBOtxAcKsxPDFfXBWnhcef5wLthlgYiVNKgjKBgdNTgXviA4RDF3rFsgSkpQ6nwQFwbFK8biFHFerNIfNxfkhcl4c4jdC4oSlGPx5EK4IBX6eKa4MDZRkSdenMONiFXkgy8DUYANggEDSGHLABNBDhC299b3witFTyjgAgnIAgLgqGQGR6TIe0TwmACKwZ8QCUDB0Lggea8AFEH+6xCrODqCTHlvkXxELngKcT6IBHnwWiofJRqKlgyeQEb4j+hc2Hgw3zzYZP3/nh9kvzMsyEQpGelgRIb6oCcxhBhMDCeGEu1wQ9wf98Wj4DEQNleciXsPzuO7P+EpoYPwiHCd0Em4PUE4V/JTlqNAJ9QPVdYi48da4NZQ0wMPwv2gOlTGdXFD4Ii7wzgsPABG9oAsW5m3rCqMn7T/NoMf7obSj+xMRsl65ECy7c8j1ezVPIZUZLX+sT6KXDOG6s0e6vk5PvuH6vPhOfJnT2whdhBrxU5h57FjWD1gYE1YA9aGHZfhodX1RL66BqPFy/PJhTrCf8QbvLOyShY41zj3OH9R9BUKpsje0YA9UTxVIszKLmSw4BdBwOCIeE7DGa7Oru4AyL4vitfXmzj5dwPRbfvOzfsDAL+mgYGBo9+5iCYA9nvBx//Id86WCT8dqgCcO8KTSooUHC47EOBbQh0+aQbABFgAWzgfV+AJfEEgCAERIAYkglQwHmafDde5BEwG08EcUALKwDKwGqwHm8BWsBPsAQdAPTgGToGz4CK4DK6Du3D1dIEXoA+8A58RBCEhNISOGCCmiBXigLgiTMQfCUGikHgkFUlHshARIkWmI/OQMmQFsh7ZglQj+5EjyCnkPNKB3EYeIj3Ia+QTiqFUVBs1Rq3RESgTZaGRaCI6Ds1CJ6HF6Hx0CboWrUJ3o3XoKfQieh3tRF+g/RjAVDFdzAxzxJgYG4vB0rBMTILNxEqxcqwKq8Ua4X2+inVivdhHnIjTcQbuCFdwOJ6E8/BJ+Ex8Mb4e34nX4S34Vfwh3od/I9AIRgQHgg+BQxhNyCJMJpQQygnbCYcJZ+Cz1EV4RyQSdYk2RC/4LKYSc4jTiIuJG4h7iSeJHcTHxH4SiWRAciD5kWJIXFIhqYS0jrSb1ES6QuoifVBRVTFVcVUJVUlTEanMVSlX2aVyQuWKyjOVz2QNshXZhxxD5pOnkpeSt5EbyZfIXeTPFE2KDcWPkkjJocyhrKXUUs5Q7lHeqKqqmqt6q8apClVnq65V3ad6TvWh6keqFtWeyqaOpUqpS6g7qCept6lvaDSaNS2QlkYrpC2hVdNO0x7QPqjR1ZzUOGp8tVlqFWp1alfUXqqT1a3UWerj1YvVy9UPql9S79Uga1hrsDW4GjM1KjSOaNzU6Neka7poxmjmay7W3KV5XrNbi6RlrRWixdear7VV67TWYzpGt6Cz6Tz6PPo2+hl6lzZR20abo52jXaa9R7tdu09HS8ddJ1lnik6FznGdTl1M11qXo5unu1T3gO4N3U96xnosPYHeIr1avSt67/WH6QfqC/RL9ffqX9f/ZMAwCDHINVhuUG9w3xA3tDeMM5xsuNHwjGHvMO1hvsN4w0qHHRh2xwg1sjeKN5pmtNWozajf2MQ4zFhsvM74tHGvia5JoEmOySqTEyY9pnRTf1Oh6SrTJtPnDB0Gi5HHWMtoYfSZGZmFm0nNtpi1m302tzFPMp9rvtf8vgXFgmmRabHKotmiz9LUcpTldMsayztWZCumVbbVGqtWq/fWNtYp1gus6627bfRtODbFNjU292xptgG2k2yrbK/ZEe2Ydrl2G+wu26P2HvbZ9hX2lxxQB08HocMGh47hhOHew0XDq4bfdKQ6shyLHGscHzrpOkU5zXWqd3o5wnJE2ojlI1pHfHP2cM5z3uZ810XLJcJlrkujy2tXe1eea4XrNTeaW6jbLLcGt1fuDu4C943utzzoHqM8Fng0e3z19PKUeNZ69nhZeqV7VXrdZGozY5mLmee8Cd5B3rO8j3l/9PH0KfQ54POXr6Nvru8u3+6RNiMFI7eNfOxn7sf12+LX6c/wT/ff7N8ZYBbADagKeBRoEcgP3B74jGXHymHtZr0Mcg6SBB0Oes/2Yc9gnwzGgsOCS4PbQ7RCkkLWhzwINQ/NCq0J7QvzCJsWdjKcEB4Zvjz8JseYw+NUc/oivCJmRLREUiMTItdHPoqyj5JENY5CR0WMWjnqXrRVtCi6PgbEcGJWxtyPtYmdFHs0jhgXG1cR9zTeJX56fGsCPWFCwq6Ed4lBiUsT7ybZJkmTmpPVk8cmVye/TwlOWZHSOXrE6BmjL6YapgpTG9JIaclp29P6x4SMWT2ma6zH2JKxN8bZjJsy7vx4w/F5449PUJ/AnXAwnZCekr4r/Qs3hlvF7c/gZFRm9PHYvDW8F/xA/ip+j8BPsELwLNMvc0Vmd5Zf1sqsnuyA7PLsXiFbuF74Kic8Z1PO+9yY3B25A3kpeXvzVfLT84+ItES5opaJJhOnTOwQO4hLxJ2TfCatntQniZRsL0AKxhU0FGrDH/k2qa30F+nDIv+iiqIPk5MnH5yiOUU0pW2q/dRFU58Vhxb/Ng2fxpvWPN1s+pzpD2ewZmyZiczMmNk8y2LW/Flds8Nm75xDmZM75/e5znNXzH07L2Ve43zj+bPnP/4l7JeaErUSScnNBb4LNi3EFwoXti9yW7Ru0bdSfumFMuey8rIvi3mLL/zq8uvaXweWZC5pX+q5dOMy4jLRshvLA5bvXKG5onjF45WjVtatYqwqXfV29YTV58vdyzetoayRrulcG7W2YZ3lumXrvqzPXn+9Iqhib6VR5aLK9xv4G65sDNxYu8l4U9mmT5uFm29tCdtSV2VdVb6VuLVo69Ntydtaf2P+Vr3dcHvZ9q87RDs6d8bvbKn2qq7eZbRraQ1aI63p2T129+U9wXsaah1rt+zV3Vu2D+yT7nu+P33/jQORB5oPMg/WHrI6VHmYfri0DqmbWtdXn13f2ZDa0HEk4khzo2/j4aNOR3ccMztWcVzn+NITlBPzTww0FTf1nxSf7D2Vdepx84Tmu6dHn77WEtfSfibyzLmzoWdPt7Jam875nTt23uf8kQvMC/UXPS/WtXm0Hf7d4/fD7Z7tdZe8LjVc9r7c2DGy48SVgCunrgZfPXuNc+3i9ejrHTeSbty6OfZm5y3+re7bebdf3Sm68/nu7HuEe6X3Ne6XPzB6UPWH3R97Oz07jz8Mftj2KOHR3ce8xy+eFDz50jX/Ke1p+TPTZ9Xdrt3HekJ7Lj8f87zrhfjF596SPzX/rHxp+/LQX4F/tfWN7ut6JXk18HrxG4M3O966v23uj+1/8C7/3ef3pR8MPuz8yPzY+inl07PPk7+Qvqz9ave18Vvkt3sD+QMDYq6EK/8VwGBDMzMBeL0DAFoqAHS4P6OMUez/5IYo9qxyBP4TVuwR5eYJQC38f4/rhX83NwHYtw1uv6C++lgAYmkAJHoD1M1tqA3u1eT7SpkR4T5gc8jXjPwM8G9Msef8Ie+fz0Cm6g5+Pv8LPAl8Thdzo2AAAAA4ZVhJZk1NACoAAAAIAAGHaQAEAAAAAQAAABoAAAAAAAKgAgAEAAAAAQAAAiigAwAEAAAAAQAAAZ0AAAAAT4F71AAAQABJREFUeAHtvQmcFcW59++wDtsMi8KAYRMxgKIIKIwQIzgIYogEYgLBBJULUUEFXPHKFpAR7/91IS9iwiUYg8gNr4righFQDDoggnhFDIKOIOBAFGfYnGFY/j8pLdruPnXq9Ha6+/zOx89YXVX91FPfas5zqp6nqrNOnDhxGj8kQAIkQAIkEBSBKkE1xHZIgARIgARI4FsCNDx8DkiABEiABAIlQMMTKG42RgIkQAIkQMPDZ4AESIAESCBQAjQ8geJmYyRAAiRAAjQ8fAZIgARIgAQCJUDDEyhuNkYCJEACJEDDw2eABEiABEggUALVAm0tcWPHjx/fvXt3vXr1srKyEtdiCQmQAAmQQNgJ4FyCAwcONGvWrEqVBHMb1AjD5/PPPw87S+pHAiRAAiSgTQDf6omMS1hmPJjroDtQNCcnR7tfrEgCJEACJBA6Avv372/evLn4VrdVLiyGR6ywwerQ8NiOEzNJgARIIFoEFH6TBAtw0eoftSUBEiABEogOAS3D8+abbw4YMACeIliwJUuWiN5VVlbefffdHTt2rFOnDop+97vfITpAdnzfvn3Dhg3D9KV+/fojRow4ePCgLGKCBEiABEggkwloGZ5Dhw5dcMEFs2fPNpI6fPjwhg0bJk6ciL/PPvvsli1bfv7zn8sKsDoffvjha6+99uKLL8JujRo1ShYxQQIkQAIkkMkEshB1oN9/zHiee+65gQMHWm9Zt27dxRdfvH379hYtWnz00UcdOnRATteuXVFz2bJl/fv337lzJyZG1htFDpxRubm5ZWVl9PEkQsR8EiABEogEgaTf51ozHp2uwmbALGFhDZWLioqQEFYHlwUFBYjmXrt2rUlORUUF9JMfUykvSYAESIAEYknAG8NTXl4Of8/QoUPFfKWkpKRx48aSV7Vq1Ro2bIhMmSMShYWFmOWID2LvTKW8JAESIAESiCUBDwwPogx+9atfYcluzpw5KTGaMGEC5kniww2kKaFjZRIgARKILgG3+3iE1YFrZ+XKldI9k5eXt3fvXgnl6NGjCHJDpswRiZonP6ZMXpIACZAACcSbgKsZj7A6W7duXb58eaNGjSSp/Pz80tLS9evXixzYJBzF1q1bN1mBCRIgARIggTAQOHb8RNEnXz2/cRf+Ih2MSlozHuzC2bZtm1CouLh448aN8Nk0bdr0l7/8JWKpETB97Ngx4cJBfo0aNdq3b9+vX7+RI0c+/vjjME5jxowZMmSIIqQtmK6yFRIgARIgASOBZZu+mLp08xdl5SKzaW725AEd+p3X1FjHj7RWOPUbb7zRq1cvY/PDhw+fMmVK69atjZlIv/7665dddhkSWFuDvVm6dCni2QYPHjxr1qy6deuaKhsvEduGKAP4e+R6nbGUaRIgARIgAW8JwOrctGCDcY4jXg0w59rOLm1P0u9zLcPjbW9tpSVV1PYuZpIACZAACTgggFW1njNXyrmOlADbk5ebvfru3lWrCDMkS1JIJP0+d+XjSUERViUBEiABEggNgXeK91mtDrTDBAj5KPVVUxoeX/FSOAmQAAmEkcDeA9/5dWyVU5fa3pJSJg1PSrhYmQRIgATiQKBxvWxFN9Slihs1i2h4NEGxGgmQAAnEh8DFrRsihs3qxkEO8lHqa1dpeHzFS+EkQAIkEEYCiB1A5DQ0M9oekUa+m8gCnd7S8OhQYh0SIAESiBsBxEwjchoxbLJjSLuPpZbSFAmtDaSK+1lEAiRAAiQQUQKwPX065CGGDdEE8Otghc3vuY4ARcMT0QeGapMACZCABwRgafLbnDrwzAOJGiK41KYBiVVIgARIgAS8I0DD4x1LSiIBEiABEtAgQMOjAYlVSIAESIAEvCNAw+MdS0oiARIgARLQIEDDowGJVUiABEiABLwjQMPjHUtKIgESIAES0CBAw6MBiVVIgARIgAS8I0DD4x1LSiIBEiABEtAgQMOjAYlVSIAESIAEvCNAw+MdS0oiARIgARLQIEDDowGJVUiABEiABLwjQMPjHUtKIgESIAES0CBAw6MBiVVIgARIgAS8I0DD4x1LSiIBEiABEtAgQMOjAYlVSIAESIAEvCNAw+MdS0oiARIgARLQIEDDowGJVUiABEiABLwjQMPjHUtKIgESIAES0CBAw6MBiVVIgARIgAS8I0DD4x1LSiIBEiABEtAgQMOjAYlVSIAESIAEvCNAw+MdS0oiARIgARLQIEDDowGJVUiABEiABLwjUM07UZREAiRAAvEncOz4iXeK9+09UN64XvbFrRtWrZIV/z573UOtGc+bb745YMCAZs2aZWVlLVmyROrw7LPPXnHFFY0aNUL+xo0bZT4S5eXlo0ePRlHdunUHDx68Z88eYynTJEACJBBFAss2fdFz5sqhc9fctmgj/iKNnCh2JL06axmeQ4cOXXDBBbNnzzbpivyePXvOnDnTlI/LcePGLV26dPHixatWrdq9e/egQYOsdZhDAiRAAhEiABtz04INX5SVS51LysqRQ9sjgWgmtJbarjz5sUr87W9/i8zPPvvMVFRWVjZv3ryFCxf27t0bRfPnz2/fvv2aNWu6d+9uqslLEiABEogEAaywTV26+cQPdcUlFtqQ36dDHtfcfshGdaU141EJsCtbv359ZWVlQUGBKGzXrl2LFi2KiopMdSsqKvYbPqZSXpIACZBAeAjAr2Oc60jFYHuQj1KZw0RSAr4YnpKSkho1atSvX18236RJE2TKS5EoLCzM/f7TvHlzUykvSYAESCA8BBBNoFBGXaq4MTOLfDE8mignTJiARTnx+fzzzzXvYjUSIAESCJ4AYtgUjapLFTdmZpGWjydVNHl5eUeOHCktLZWTHkS1IdMkp+bJjymTlyRAAiQQQgKInG6am41oApObBz6evNxv46pDqHNoVfJlxtOlS5fq1auvWLFCdHvLli07duzIz88PLQUqRgIkQAJqAogdmDygA+oYt+2INPIZWaCmZyrVmvEcPHhw27Zt4s7i4mJs2WnYsCHiBfbt2weLgmhpFMG64C+mNfjAcTNixIjx48ejWk5Ozi233AKrw5A2E3pekgAJRItAv/Oazrm2M2LYZJQB5jqwOsiPVkfSr+0Jjc/rr79uUnT48OG4D3HSpvzJkycLed98883NN9/coEGD2rVr/+IXv/jiiy9EfqK/8PRAFP4mqsB8EiABEggDgaPHjr+97csl7+3EX6TDoFLYdEj6fZ4FjU3GIy2XCKvGPAnqYoaUFgXYKAmQAAmQgCcEkn6f++Lj8UR1CiEBEiABEoglARqeWA4rO0UCJEAC4SVAwxPesaFmJEACJBBLAjQ8sRxWdooESIAEwkuAhie8Y0PNSIAESCCWBLT28cSy5+wUCZAACUSaQHRfSUfDE+kHj8qTAAlkKAG8BMi4lRXH+URoKyuX2jL0qWW3SYAEoksg6q+ko+GJ7rNHzUmABDKRQKJX0oEF5kAoDT8UGp7wjxE1JAESIIFTBGLwSjoanlPDyRQJkAAJhJ+A+qVz6tKQ9I6GJyQDQTVIgARIQIuA+qVz6lKtBvyvRMPjP2O2QAIkQALeERCvpDO+FkjIRg5i2yLxSjoaHu8eB0oiARIgAf8JxOCVdDQ8/j8mbIEESIAEPCUgXkmH19BJqUjjJXVReSUdN5DKgWOCBEiABCJDADamT4c8RLghmgB+HaywRej12zQ8kXnOqCgJkAAJGAnA0uS3aWTMiUqaS21RGSnqSQIkQAIxIcAZT0wGkt0gARLIcAIROjOUhifDn1V2nwRIIA4EonVmKJfa4vDMsQ8kQAKZTCByZ4bS8GTy48q+kwAJRJ5AFM8MpeGJ/GPHDpBAYATwHVf0yVfPb9yFv5E4BTkwMmlsKIpnhtLHk8YHhk2TQJQIRMuLECWy7nRVnwqqLnXXsvO7OeNxzo53kkDmEIicFyFzhkZ9Kqi6NF2UaHjSRZ7tkkBkCETRixAZuK4VjeKZoTQ8roedAkgg7gSi6EWI+5ic6l8Uzwyl4Tk1fkyRAAnYElD7Cd7a9iUDDWy5BZYZuTNDGVwQ2LPBhkggqgTUfoL/+/q2ZzbsnDygQ1SORo7qMCj1jtaZoZzxKAeThSRAAqedlsiLINmUlJXftGADAhBkDhPBExBnhl7d6UycHBryk6ppeIJ/PNgiCUSMgK0XwdiHEycvpi7dzDU3I5bIpfeXVw6c/Vare15atqnEV+VpeHzFS+EkEBMCVi+CqWOwPV+UlSMMwZTPS/8IwMx7tZ9359eHO0559fwp/9j4eSkUXvPpV/6pDclahufNN98cMGBAs2bNsrKylixZIhU6ceLEpEmTmjZtWqtWrYKCgq1bt8qiffv2DRs2LCcnp379+iNGjDh48KAsYoIESCCKBGB7Vt/de0yvNgrl1WEIihtZlCoBLGz2nLly6Nw1ty3aiL9IO1vq7P1/3sAUp+fM1w+UHxU6NMvNvqPvj1PVJ6X6Wobn0KFDF1xwwezZs02iH3zwwVmzZj3++ONr166tU6dO3759y8vLRR1YnQ8//PC111578cUXYbdGjRplupeXJEACkSOANbceZ5+hUFsdhqC4kUUpEfBkPy/sDf779N+HZNM/aXv6R3/o9/aEy+vW9DfuLAuzFtlq0gRmPM8999zAgQNREzdiDnT77bffcccduCwrK2vSpMkTTzwxZMiQjz76qEOHDuvWrevatSuKli1b1r9//507d6J+oib279+fm5sLIZgkJarDfBIggbQTwPIOflwjmsD0xZF12ml5udmYEoXcrZ12gO4VEEOAhU2TKM0hwFd36wkvm+7F5acz+lepAhkefJJ+n2vNeGwVKS4uLikpwQqbKIXZ6NatW1FRES7xFytswurgEnWqVKmCWZFJTkVFBfSTH1MpL0mABEJIwDbQQHxdIaI65FbHQ6dIGofG8X7eA+WVmOJYrc5nD1yF/7yyOjpknM+nYHXQAGY5shmkRSb+Nm7cWOZXq1atYcOGokhmIlFYWDh16lRjDtMkQALhJyACDRDDJn90Y64T/n08WJ4y6tw0CjrbPgxqR5ptKTb5Dvtv809/CIe9sW3C70znhse9ZhMmTBg/fryQg3lP8+bN3cukBBIggQAIRGu7IoAIp4hxeVDsPZpzbWf0JQBiHjahdqSZSic9v+nJou2m1i9p02jhyO6mzCAvnRuevLw8KLpnzx5EtQmNke7UqRPSKNq7d6/sxtGjRxHkJurLTCRqnvwYc5gmARKICgGsqmGjYiS0xQob5jpGqwO1cYkVQuT36ZAX8hVCE2SxnzeRmw2loj5W1Uw34nL6wPOu7d7Smh9wjnMfT+vWrWFLVqxYITTGlAVenPz8fFzib2lp6fr160XRypUrjx8/Dg9QwH1jcyRAAiQAAo6dIuGkl9TNJsLVTMo/d/MlWFgLg9WBYlozHuzC2bZtm+gGYgo2btwIn02LFi3Gjh07ffr0tm3bwghNnDgRQWsi4K19+/b9+vUbOXIkIq0rKyvHjBmDUDdFSJsJEC9JgAQcEMDvenzDYokfiy342RutX/EO+qt/i63bQ96uLpXVXCa8HZ1EbrYbF2yw6vnh1L51EodHe6uYtXXbHC3D8+677/bq1UvcL7wyw4cPR+T0XXfdhS0+2KOD+U3Pnj0RNp2dnS2qPfXUU7A3l19+OeLZBg8ejO0+ts0zkwRIwBMCsfGce0LDJMTk9kip1FTZ2aUfo2N0s2VXq/r7BeutVidp7IAfiukgSm0fj45EZ3WwUsd9PM7Q8S4SsHrO4b3AJ4qecz9GEz/qu0x/rfRwpVV4/drV19/Xx9fZoa+j8+L/7h6z8D1rv5KaHNzin2JJv8+1ZjzWXjGHBEggJATwrRonz3nAVIWF9q9R/0anzb0vQ7hVcx2Tg7v8U8yqkjXHeXCBVRZzSIAEgicQM8+5HwCByHa6g7a+PlyJUj8aFTL9GB0RO2CyOt3PagiTo2l1oJsfiulj5IxHnxVrkkAYCah94+rSMPbHB53UENSlLtVRC1eXWpu2jZD+w9Xn/i6/lbWyOkfdtLpULVmnlIZHhxLrkEB4CaTdcx5eNN9rlkZEXjVta3LeuffyxjnfxXN931fd/3ulmG57P6xHw/NDHrwigagR0NxOGLVuealvGhG5bPrfByouun+5lYX+kpr1XpHjUrFEYjXz6ePRBMVqJBAcASzf67/gK+l2wuD0DmtLaUTkuOmFa3dglmO1Oik5chQD4lgxhUz9IoZT67NiTRIIgoCzrRXO7gqiP6FpI42IUmr6gqn/KPvGJvLb/SzHOhQpKWa9PVFO0nBqGp5E6JhPAmkggC+CmxZsMAbJ6u/IwTwJoUpwC2P5Hgsp+Embhg6Eu8k0ItJp2taRA6J+mBw5UDqKycqaCRoeTVCsRgLpJ4CvALxjTb5rQCoEA8J3rEkasUzYmpx7+7cbdanqReOhRZHU8DC4ILRjR8UyjkDSrRVROQ0640bORYdtTc7b9/RuVr+WC6lhv5WGJ+wjRP0yh4B684S6NH6U/FgCCg+lrw8duXDaa1Z9fF1VszaXrhwannSRZ7skYCaQ3q0VZm3Seu2T0zutffqu8WfW77x98ftWTTLE5IiO0/BYHwDmkEB6CKR3a0V6+mzXqjXCIrpvCzX2L79whdWBhwoZZXIEEBoe44PBNAmkk4DYWoGoNkQTyMA2EZo2eUCHDIlSwwpb/M48tXXk4FHLQJMj/oHR8KTzi4Ztk4CJQKIXfCHfVDOulzGLsLA1OeP7nHPr5W3jOoI6/aLh0aHEOiQQHAHjC74ycEeOOoZCXRrcIGm0ZGty3ryzV4tGtTXujnkVGp6YDzC7F0UCWFXL2MjpqEdY7C+vPH/KP6xPXXFh/6wsbun9DgwNj/UJYQ4JkEDaCEQ3wsLNy0DThjtNDdPwpAk8myWBTCWg3qATxQiLgodWbdt70Dqe+rEDaiZWyf7lBKMJDY9/I0jJJEACZgI6G3QiFGFh68hBn/VNDirrMDFz9Oc6ME14SKg/A0ipJEACFgLWDTrC6THn2s7WsL1gfnpbdNTNsDU5N13W5u5+7XRFnKyXEpOUJKda2UNNeFZbqvBZnwRIwBcCMCQpbdAJbYSFrcn5x7hLz2lSL1VwqTJJVb5+/YA14VKb/tCwJgmQgHMCUd+gU3a48oI/eByuFh4mAWtCw+P8HxLvJAES0Ceg3oKjLtVvxY+a//3PT6e/9JFVckqOHOvtyFH3Wl1qK9BxprotdamDRml4HEDjLSRAAikTiOIGHdtVNfTcvckR+MLDJGBNaHhS/vfDG0iABBwQiNYGHb9NjgAYHiYBa1LFwQPEW0iABEggVQJigw7uMm7fD+ERqDA5VqvToWkOZjleTXQkuvAwCVgThlPLZ4AJEnBCILRRv+FULLCdIg7G0mpvIOTpkd39Pr4ovUyMz8nXhyqmvfSRfHdD09xsHItujXRPyjZpODUNT1KGrEACCQmk9ysjoVph2pNoVdL4TYcVHvzWttYJMudAeWVHu9PVPpnRPzDd0sXE+gBPvKpDgzo1EE0Ar4/j0aHhCfIBZluZRQD/aPHuHPniHHResR0ySDShVSxICDptzVtdPO3Fzdaani+pWZsIQ45/z0lSw8PggjA8ANQhegTwEzWl7ZCB9TC0igVGQKch21U13JghJgc9Te9zQsOj85SyTjwJuFnfCHjDnf4AuFTMDRN9JdNVE71rc+/Ltq3HzOQkHUeXz4ktQ/1Mt4bnwIEDEydOfO655/bu3XvhhRc++uijF110EZo/ceLE5MmT586dW1pa2qNHjzlz5rRtm9Fv3NMfEtYMhoB1dTslP6p6S5261NcOqptWl7pk4mu/3Au3neXk1qr+/uQr3AsPlQSdcVQ/CepS9511G079H//xH6+99trf/va3Dz744IorrigoKNi1axfUevDBB2fNmvX444+vXbu2Tp06ffv2LS8vd68uJZCAJwTE6raM3oHMkrJyOGyQryk/4A13mlqhmmPF3DPRVzLgmjA5tlYHPrmZgzsGrIzfzWmOo+PnxBP9XRmeb7755plnnoGNufTSS88+++wpU6bgLyY3mO488sgj991339VXX33++ec/+eSTu3fvXrJkiScaUwgJuCSAVQhb9wzEIh+lOvLFhjtrPBZyEISKUh0hftRxppgnTPzojhuZByuOJjI5Uqz+iMtbwpzQH0dnz4lXfXdleI4ePXrs2LHs7GypTa1atVavXl1cXFxSUoLZj8jPzc3t1q1bUVGRrCYSFRUVCH6QH1MpL0nAJwJJV7d12vV1wx2+Poo++er5jbvwV9MQSp2dKeaeiRudpfJeJZ54qxgm57zJr6oF4icGZr3ou7pahEr1x9HZc+IVClc+nnr16uXn50+bNq19+/ZNmjR5+umnYV0w6YHVgX7IkVoiLTJlDhKFhYVTp0415jBNAgEQUK9fq0uN6vn0vjIsleBnuFwGdLCJz4Fi6l6rS8HEvc5GsG7StktqaoFJe6e+PVSl6r6YSh08J1511pXhgRLw7txwww1nnnlm1apVO3fuPHTo0PXr12sqN2HChPHjx4vKmPc0b95c80ZWIwE3BDxc3cY/3T4d8vAzE/+kIRbLFy63HIoFeuNin3A+2b4qTQEhVcXcMPFKZ0V3dIoSmRyEq2HiOHTumkRC1H1PdFc489V9sZam+px41Wu3hqdNmzarVq06dOgQLEfTpk1//etfn3XWWXl5edBvz549yBGKIt2pUyeT0jVPfkyZvCQBvwmI1W18oRu/39Eo3DN5qbtnYGm8OlIl0QI9FMMcCBYuJauWkmJdWjbAAQK27i3kozTRoHirc6JW1PkKkyNu9HbE1cqkt9RBT1N6TrzqnSsfj1QCcWuwMV9//fWrr76KgILWrVvD9qxYsUJUgE1CbBsW5WR9JkggjQTwLw2R01AAX+jyI9LIT+nLXd7uSUJ/gd6T5oxC1m//2tbqoA7yUWqsbEynUWeoAZNjtToP//oCzHKM+3JCO+JGkp6ko9JTtzMeWBrEsP34xz/etm3bnXfe2a5du+uvvz4rK2vs2LHTp0/H3h0YIWz0adas2cCBAz0hSyEk4J5AGle3FcqbluBNNdWlpsqpXqqFK0oVRdBBXYoKmDA5WKj85six9pOWWfu4ZXq/mtWqWvORE84Rt1XVZWYkeurW8JSVlcFVs3PnzoYNGw4ePPj++++vXr06wN11111Yfxs1ahQ2kPbs2XPZsmXG4DeXZHk7CbgnkK7VbYXm1iV4Y2V1qbGmg7RauKJUUQQ11KUOQhL+tmb7xCWbrB00zm+spSInhCOeSFWX+eHvKU+ndjnEvJ0EPCOAn/89Z65M5HxafXdv/5YBHTft+EZrSIJY7UwURmFdUhPcdUyOZyNEQXoE4F7BLhpMS3Jycmzv8MbHYyuamSRAAikRSOMCveOmnd0Ic4VwCVNwh7i07ui0deQArMmRkxJqVk4vARqe9PJn6yTwAwJigR7BdTIX6USTAFnHk4Tjpq03NsmpObagbcXR44k2wGqGJITT5MBqOt7e68lIORASNp251OZgEHkLCfhLAF8TDlzunujkuGl542dfHn76nR0l+787m9F2AywOZbht0cZECj86pJNt6ZQBHa7r0TrRXcHkO/BLBaOYopXgdU661EbDoxgvFpEACaRGQNNzo97RaW1y8x/61q7hNhLKKjbVHM3epSrW1/pp0Tmp4eFSm6+DTuEkkEEEMOnR9NyIfY7GfVSJMAlHThisjn7vEvUl+PzQ6kzDE/zDwBbDQgD/LI2L9abLsGgZHT00PTfokAxJUHROHTvgyWClJES/d4pOBVwUWp3TP3sNeCTYHAkIAqaF7/q1v91/Vnq4UpTaeiaITk1AvV3UVIqQBFNUmxSeNELaNHbOBitVISb9pbYioS41VQ7sUq2VutRXJTnj8RUvhYeUgFj4lidAQ0uYHGl1cJnqe+FC2s9g1VJvFzWWJgpXw+Lb49d2VmttHTsHg+VAiFF/q4bqUmv9YHLUWqlLfdWQhsdXvBQeRgJYYLG6IkyKJtpTYqrGSyOBRJ4bmBNMSlCKyolMjpRj3ccji5CwHbtUB8uZEJ3eGVUNQzq0OtPwhOHxoA6BEki08G1SAl9nMXtLmKmDnl9Kz40xakCk77uqfZt7X4bVUTealHmisUt6o7FdZ0IUvUvv2bLGrpnSodWZhsc0UryMP4GUlrZTqhxRdin52BP1UQjBptGxBec0yTm1AbZedjVYhdEL30t0ozVfwVxRBDnqUtmQupqi1LpVNrDtvVL5VBPh1JnBBamOI+tHnkBKS9spVY4imlR97LZ9NAnJy6k5rqDtw8u3ovL+8qOmWxA7oN7Ho2CuKEIr6lKphrqauhTf496++k9q5V8ihDrT8Pg33JQcUgJi4dt6FqdJXawROXgvnElIyC+Fjx0zEvkRjvqUDumxEbK/QlgdKVYkZLhaoiFIytzxjUZNXArB+pVXr/4zauVrOmw6c6nN1+Gm8DASsF34NikqPBOhXbs3aevs0pmP3dSWrRBTHVyaNuXYDoEOc8c3GlXyRIhRINOpEqDhSZVYqOt7slgf6h56pJx14btB7epiK49oAXOd2b+5MLdWDZwqhnUhgPWo5RCJceZjN3UgkRBRrUebRiaTI2+3DoGmv8TxjbJpJDwRYhTIdEoEuNSWEq5QVzatszvbVRfqHnqqHL56TIv1EI+vUfiWscr/9aEj017aLDf6xBKmwosOFOpSORQlZd/ItDXxq4uaWzNljnUIMBeRpYqE4xuNMj0RYhTItD4BGh59VqGuabPOXlZ+04INKS3Wh7qHPiiHrznTYr24BMzRCzcY5zgOPB8+6OuxSLUXXV0KVf785iczXv6XWqekQqxDoBYoSx3fKCUg4YkQo0CmNQnQ8GiCCnU123V2fG/i1yO24+F3Pf6BhboDYVIuc2A69rEn3Y6D8cQDF/vQjDA9thHThT6eiA2YrbqJ1tlhe7gF0paYIjNzYOLnCKIngML4q0SkE0VVJDp3AHfpC1HAZ1GGEOCMJw4DrV6OV5fGof+e9kGNS13qqSJBCIOfA4uxmBZLbxamKbA6yDc1n2iWIyKkTf7FREJMMnmZsQRoeOIw9OqVdHVpHPrvaR/UuNSlnioSkLCkPnZbk9MsN/vtCZdLFZMKkTWZIAEQoOGJw2PgeLE+Dp33ug8ZCNPWx378+Imz7n3ZSnfF7T9tc0Zda76tEGs15pAACNDwxOExEIv1iGHDOruMxVIv1seh2/70gTD/tmb7xCWbrHTluQPWIuaQQEoEsk6ckN9UKd3oceWk7+j2uL04ijOts/ux9QQRX3KnC2YG+I6OI8hv+xQAzBCis11Vg56pmpyYPScx604AD17S73MangBGIbgmfP0Xkmnfxb7CDO6Z0GvJK5OD1mL2nMSsO3qPg9taNDxuCfJ+QQD//LCUZ5wdi8kON6hG/Qnx0OQARcyek5h1J7BnNanhoY8nsLGIcEP47W99ZSeMEGwPN6hGd1y9NTngELPnJGbdCdWDSsMTquEIqTJJ91SaDp4JaTfirpbm2iDcuq0n2ISrvXLbT9o3zXEDKWbPScy642ZkPb+XhsdzpDEUqN41qS6NIY5QdknHFfHC+7tvfdrmTaCpxg4kAqB+EtSliWSmMV+tsLo0jWpHomkankgMU5qVVO+aVJemWfXMaN7qijCdaur5qpotV/WToC61FZjeTLXC6tL0ah7+1ml4wj9G6dcwA/dUph+6tgZqV8SNCzbYSvJqlmMUHrPnJGbdMY5U2tM8JDTtQxABBcSeSihq3LYj0olOk0xvr/BdjLe3xfgdbka8aleEsaZIw+T4YXUgPHLPiRWOMSdm3TF2Le1pV4bn2LFjEydObN26da1atdq0aTNt2jS5HRWJSZMmNW3aFEUFBQVbt25Ne1epgBsC4jRJHP4ohSAdzlhqrDv1nLly6Nw1ty3aiL9II0eqHb+EvrPBP5MjqUboOZE6KxIx646ipwEXudpAOmPGjIceeuivf/3rueee++67715//fX333//rbfeij7MnDmzsLAQRTBLME4ffPDB5s2bs7NPfW2Z+pk07ttUn5dpIaAZN5UW3USjVm9H7PcbYW4H+6pg/v9uzO/aqqGigudF4X9OUupyzLqTUt+dVU76fe7K8PzsZz9r0qTJvHnzhHKDBw/G/GbBggWY7jRr1uz222+/4447UFRWVoZqTzzxxJAhQxJ1I6miiW5kPglIAviCwPxGnvAv82F7MD9bfXdvLJ7IzNgk0Osu018rPVxp7RGOTYprr62dZU54CCT9Pne11HbJJZesWLHi448/Rofff//91atXX3nllUgXFxeXlJRghU2AyM3N7datW1FRkYlLRUUF9JMfUykvSSBVAmpvB0pTFRj++ghXa3Pvy1arAwOL/xx44GDGQuIeC48m6scgKnqqexFwqauotnvuuQdmo127dlWrVoW/B+tsw4YNQwdgdfAXsxzZGaRFpsxBAmtxU6dONeYwTQJuCKi9HepSN+2m5d5EEdJCGczwbN/nplYVC5XGl8L5cc6sWgFZGh5NpEq2iajoaat8GjNdGZ6///3vTz311MKFC+Hj2bhx49ixY7HCNnz4cM3+TJgwYfz48aIyDFjz5s01b2Q1ErAloN5aoS61FRjOzEQm55MZ/TGrg31FTx2cHW51j5k2AwVGIzyaqLscFT3VvUhLqSvDc+edd2LSIzw3HTt23L59OyYxMDx5eXnozJ49exDVJnqFdKdOnUw9rHnyY8rkJQk4JhD7jReJTI4Mj3Z8dhHWi0JyHF94NFE/h1HRU92LdJW68vEcPny4SpVTErDgdvz4cfQEkWywPXD/iF5hNrN27dr8/Px0dZLtZgiBGG+8gMmxWp15w7t6FSEdHvdYeDRR/6uJip7qXqSr1NWMZ8CAAfDrtGjRAktt7733HkKrb7jhBvQkKysLy27Tp09v27atCKfGEtzAgQPT1Um2G3sC+PkpV5lm/+bCaS99JGPbnHk7QMwoU7FypVnN2RCs+vjfw//yjvVeOcWxFjnLUTvA1KXOWkx0l7otdWkimX7kqzVRl/qhT7RkujI8f/zjH7FH5+abb967dy9My+9//3tsGhX9v+uuuw4dOjRq1KjS0tKePXsuW7ZMsYknWsiobdgIWB28E6/q0KBODfzjd+btQAetMm199ZrVHBCzzm+EEM9NjhCrdoCpSx30TnGLui11qUKs50VqTdSlnisTOYGu9vF42FssxyHqGjt+cnJcHczuoUoUFQkCVgev2Krj5lQFTZma1VLFGLDJEeph3oYtUIgmML7rD0WAGfAWqPBooh64qOip7oVPpUm/z095aHzSgGJJwD8C+Mdv6xJHi8hHqYOmNWVqVktJAVtHDiR45chRKBMe91h4NFHgQlFU9FT3Il2lNDzpIs92PSDgh4NXU6ZmNc1OptHkSA09PJcMVtnNLlQPNZG9S5pwoHNa9EzakUhUcOXjiUQPqWSMCahduOrSRFjUd8lSmbCVoy413mK7sDb7N52vOv+7rQjGyn6n8U3ap0OeDNNQhFQoNPHE7+WJJgolTUWOdQ5YT5Pa0b2k4Ynu2FHz09QuXHVpInzqu2SpTNjKUZfilnc/2/fLx82HSCHfp9gBWyVtM7GC5HgzEARa/V6Od6G61MS2d7aZLnUOTE9b5SOaScMT0YGj2t8S8GPHqKZMzWrWcbKd4qBa2k2OVdVUcxL5vRChAJcb5lL4jk5Vpt/1o6iz30wCkE8fTwCQM6UJB6vkLtHgiwxRzhBi/D4TaQfnYwplNGVqVjN2MAyOHKM+nqe99Xt5rp6twCjqbNuRaGVyxhOt8Qqvto5XyV12STh48YPa/Y5RqYmmTM1qEBvjWY6EhoTas6UuNcoJMq3WSl0apJ4xa4uGJ2YDmp7uuFwld6m0Hw5eTZlJq2WIyREjqPZsqUtdPgOOb1drpS513ChvpOHhM+CWQBhWybHw5cYlbotAU2aiarYmZ+bgjr++qIVtczHIdOz3SmPfo6hzGnF51TR9PF6RzFw5XCU3jv2mXWW2vpziwv4IH4ix1QEEB34vI7q0pKOoc1pAedsoZzze8kxNGuYKLvdMpNaeP7XV6+DqUmgUDwjoiO0UB/kxCFfTf3D0/V76Mv2uGUWd/Wbit3waHr8JJ5SfLm98QoWcFqjXwdWl8YBAk2N8dpL6vYyVQ5KOos4hQedMDR4S6oyb27us3ngRBOzmaEu3Ojm9H1MWZ+dLxgACTY7Tp4b3xZkADwkN4+gm8sZDV8dHW6axn85WyaMOwdaRg1HAwlpGra2l8cFj09ElwKW2NIxdUm+85wFafnfSwSp5dCHYznIm/azDDT1b+82Z8kkgHgRoeNIwjmp/u7o0DerqNZnqKrm6m+pSPY08rvXZl4cu+//esAr9dEb/KuE7CcaqJ3NIIDwEaHjSMBZqf7u6NA3qajeZaEeLrQB1N9WltgL9y+zxwMpdpd9Y5XNJzcqEOSSgQ4CGR4eSx3W4Zw1AIwHBdlUNytPkePxPguIyjAANTxoGXHjjb1qwAZFs8h2ZLo+2TEM3nDYpN+4MuajFI8s/dgZBCsHcCDYMSJ2qY38fTY49F+aSgBcEaHi8oJi6DAfe+NQbCeMdpo079WtXh5alhyuFrnm52ThVGnDUqpuENNW7Sy1TltLkSBRMkIBPBLiPxyewWmL9/tmupUSAlWw37mDON66gbavT62jOXWyFoBPut0DZmpy7+v345svODhASmyKByBNIuo+HM550jnFK3vh0KupF24k27mCNbNG6z1ff3VtnuUwhxPGrxvbsL+82Y4W1i9vuv7JaVR5maAXDHBJwS4CGxy1B3q9JwJONO54IkQoP/fOaok+/kpcywdgBiYIJEvCDAA2PH1RjK9PN2qB6a466VAJVV1OXSiFI2K6qIT8zTY6bYTVSZZoENAnQ8GiCYrXTXLr01Vtz1KWSvrqaulQIocmRMEXC5bCapPGSBHQIcAlbhxLrfGt1EP8tXy8NIiVl5chBviYdsXHHGvWMHISloVRHDqqJQDhr5Qa1q6uFwOTYWh3McjJzogOG7ofVOhDMIYGkBGh4kiJihW9fmQPXvdxyJIiIS/1TTcXuJdxrtD0ijRBqncgC9UiY1DNWtjU54/uck8kmB3w8GVYjZ6ZJQJMAl9o0QWV0Na9c+u53L0ETuenHNCTIR6nxfNV9h450nvaaqRout0zvV7NaVWt+1HPUrhprqVfDGnVu1D94AjQ8wTOPXotqp7261NTbVM8SNd2ubkuW3vr0ey+8v9t0Ly5jvKSmdtXYllYcPW5FJHMkTJnDBAl4RYCGxyuScZajdtqrS61c3OxeUreFUlsvDnSIsclB74SrxrjYKDxwYlNtotKxBedYR0fmqFHLakyQgAMC9PE4gJZxt3gSF+AJNYUmkD907hprK7F35KhdNUeOHk/kn1u0bkdeTk2jy03QSyncwwqcOSSQlAANT1JErHCa33EB+ohtNcHtxh/7UlrsTY7oqdpV87eiz4yxiBIOiCF/6MUtkGO0PR6Ge8i2mCABEwFXhqdVq1ZZP/yMHj0aDZSXlyPRqFGjunXrDh48eM+ePaZWeRk5AiIuAId4Ss2Rdn88mpSmn7BqYrr35svaZIjJER1XO2O27zts4mO8xBF5GMQwDKtRK6ZjT8CVj2fdunXHjh0TjDZt2tSnT59rrrkGl+PGjXvppZcWL16cm5s7ZsyYQYMGvfXWW7FHGfsOuowL8JBPj7NPt/0V/9Ef+tWqEcNwNTU6tTOmZcPaittxL+IA+3TIw7QJBgyXWMx0H9quaJFFJAACrgzPGWecISE+8MADbdq0+elPf1pWVjZv3ryFCxf27t0bpfPnz2/fvv2aNWu6d+8uKzMRUQJu4gI86fK0FzfPW11sFRXv2AFrf405wu+FaALTeiMWzTCV+W1+q/9eXZyoFPdCVNqH1dgdpjOBgCvDIwEdOXJkwYIF48ePx8Lb+vXrKysrCwoKRGm7du1atGhRVFRkNTwVJz+iGo7RltKYIAErgcwMV7NysOYIv1ei9wrWqFYF+3MTlXJyY+XJnAAIuPLxSP2WLFlSWlp63XXXIaekpKRGjRr169eXpU2aNEGmvJSJwsJCrMWJT/PmzWU+EyRgJGB77gAqZJQjxwjEmrb6vYweOHWpVRpzSMBvAt7MeLC2duWVVzZr1iwldSdMmIBJkrgFMx7anpToZUJlznL0R1ntgVOX6rfCmiTgCQEPDM/27duXL1/+7LPPCoXy8vKw8oYJkJz0IKoNmVZ1a578WPOZQwK2Jue6S1pN+fm5hJOIgNpVoy5NJJP5JOAHAQ8MD8IHGjdufNVVVwn9unTpUr169RUrViCQGjlbtmzZsWNHfn6+H9pTZswIlFceazdxmbVTH0y5ol52dWs+c0iABKJIwK3hOX78OAzP8OHDq1X7ThR8NiNGjMAaWsOGDXNycm655RZYHWtkQRRhUWf/CDyy/ONHlm+1ys/kcDUrDeaQQDwIuDU8WGTDhOaGG24w4nj44YerVKmCGQ/C1vr27fvYY48ZS5kmASMB21U1VKDJMVJimgTiRCDrxAlT9H96eofgAkyVsAcIk6T0aMBWAydAkxM4cjZIAkEQSPp97nbGE0Qn2EbsCNDkxG5I2SESSIEADU9CWNYXZyWsygJtArYmB0dVFg7qqC2DFUmABKJNgIbHfvxsX5yFzRD2tZmbjAAO5z/nvlestTZO6lO/dg1rPnNIgARiTICGx2ZwE704Ky2HMdvoF6msv7792eQXPrSqzNgBKxPmkECGEKDhMQ90otdq4chFvFAL5/jyeCszsgTXtqtqqEuTkwAYs0kgUwjQ8JhHWv1aLZTiGHnzPT+81ncO6df8YQs/uPJEyA8kur6gyXGJUDGmzopc6sPbScBbAjQ8Zp7q12qpSyFL3zmkX9OsouHaEyEGeW6TNDluCSofIcVwK4rcq0QJJOAtAe7jMfMs+uSroXPXmHO/v356ZHfFjAf/+HH+vHFjlHiRsNU5pF/z+5Zt/u+JEBu5jrJsTc4VHZr8+XddHcnL0JsUYwoiiZ4uRREjYjL0SUprt7mPJ2X86tdqiRdn2QrFGgicQEarg2q4tDqH9GvaNiQyPRGikK9ZdPTY8bP/0yZcbe29lzfJOfWebE1pGV5NPabY6237dE35NnYjy7aIXskMf6JC231v3scT2u45UAyxA3hxFm4UkxUhQaSRr4gsSOocksro15S3WBOeCLGK1c95sugzzHKsVgexA/iPVkefpKypHtOS/RWypkzA3iC/ZH+5zJEJFOEF4ZApc5gggZAQoI/HZiCwOoHFMfxaxL9bUYzXasHqqFct1O4fY6kxbW3eWoofwvj6QH7jetmYcgnjZ61mFKUuNdZ0kLZdVYMchqs5gGm8xY9R80OmUWemScABARoee2iwMYictn7d29c+mQuroFmqXxMCsehvNIFNvzeBKQlRKJZSEU1OSrhSrawe01Slifp+yHSmCe8iAUmAhkeiMCcwsVDEEZhrn3aavnNIv6bV1VxSVg4PMyZksIswQrg0Le5jVRDzM4Uvyqq5Tg5Njg4ll3XUDwZcPHv2V1iHu0lOTSwM79kf0JPgso+8nQRAgD4ezx4DfeeQZs1ErmZojDkQ/jrzRaXaYZgcq9W54Ee5wpeTqjTWVxBQPxji7atW1yPyp/zciVdSoQmLSMBXAjQ8XuIVziFMOKRQpK2x1Ci1rTm24JyKo8cRzw2TgzpqVzNKbYXYNif10U8cP37C1uS8dU9vmJznx/TUFxW/mhggDNPzG3fJwfKqj4oxdVbklWKUQwIeEuA+Hg9hfifKNhbAthlZ87MvDz39zg4ZtiQcOTBCty3aaHsjMh8d0unqTmciIYVgNR9rNfjVnOgWzfxlm0puXLDeWpmxA4JJIq+blZjjHMWYOityrAlvJAEHBJLu46HhcUDV41usjhxhOjABenj5x4kaU29lTXSXOt+6pCbq0+RIbokGy6uJpmyICRKILoGkhofBBWkeXPyAhcPG5DHGJWzPonU78nJq2vqTPQ8foMnReQ4Ug4VB5AGyOgxZhwRAgIYn4WOgWNNIeE/qBWpHzriCto8s3wojJC2TmAypt7KmpAVNjj4u9WChNKUwSP12WZMEYkaAhsd+QANYxxcNq/f3tTq9DtZwjPt4MNdJupXVvkuWXFuT0/2shotG5VvqMuNbAurBUpeSIAmQgCRAwyNRnEpY1/Hl7hlEFp2q50VKvb8PpfgRnepWVrVe2A7SesLL1jqr7rysZaM61nzmSAJJB0vWZIIESEBBgIbHDCfgdXz1nkGxDxSBap6s4by+Ze/189eZO8yjbqxEEuToDFaCW5lNAiRwigANzykWIhXwOr7YM4jDCOjIMY9E+K6DGazw9ZsakYDHBGh4zEDVK/W2pS7DEMTGwCAdOegzI6TNA6937etg6ajg8mHTaYJ1SMBvAjQ8ZsKpruN7EoaArzNvHTnolW3sAPJpcsxDnuK1H4OlqYInD5tmW6xGAv4R4AZSM1v8ouw5c2WiwzdX393beDSANQxBhDundzuhrclp2aj2qjt7mXvL6+gQCOfDFh1+1DQ4AtxAmjJr/XX8gMMQdHpia3KWjf1Ju7wcndtZJ7QEQviwhZYVFQs/AS612YyR5jp+wGEINop+n7Xm06+G/HnN91en/u/JqprnTgXPBZ7qsKcpTT01q7lULTwPm8uO8HYSAAEaHvvHQGcd3zbQQIpTl8pqLhPtJr5SXnncKsQTkwOxnjsVPBdo7bsnOZp6alZzr5L6cVKXum+dEkjAWwJ8LUJCnlhzw+4ZnACNv0a/jrwh1TAEeaMnCayq4T+r1YHJ8dDqIM5bvv8baouNtPi2ddYF3OitQGdqJL1LU0/Nakmb06mQ3odNR0PWIQF9AjQ8+qzMNcV2QhFNYCxDDt5rIPZ+GvO9SguTY5XmocmBcKwg2Z5eiiLko9SqgDrHc4Hq5hyXauqpWc2xGqYb0/WwmdTgJQl4QoCGxzlGEYaA+422R6TlIZ74evLwjWG2JufM+rW8NTmCSFKnQqrgPBeYqgKa9TX11Kym2WjSajoPW1IhrEACISHg1vDs2rXr2muvbdSoUa1atTp27Pjuu++KjuFAsEmTJjVt2hT5BQUFW7duDUmHvVVDhCEkeuUolmIQmT107hq8zw1/kUaOMwVsTc4LY3rA5OCVoM5kqu9Suw3UpbaS1beoS20F+pSp1kSWyoStGupS21uSZqoftqS3swIJhIeAq+CCr7/+ukePHr169XrllVfOOOMMWJcGDRqIvj344IOzZs3661//2rp164kTJ/bt23fz5s3Z2afeCR0eBC41SRSGIBwAxgUpByeNbtpV9rM/rrZq6JUXxypZ5njuVPBcoFTV24SmnprVvNUt0cPmbSuURgJ+E3BleGbOnNm8efP58+cLLWFjRALTnUceeeS+++67+uqrkfPkk082adJkyZIlQ4YM8bs/aZEvwhCMTSdyAGAhDg4SnTeGXf5/3vjk34eMMkU6AJMjGvL8QEzPBVrheJKjqadmNU9UMgqxPmzGUqZJIBIEXC21vfDCC127dr3mmmsaN2584YUXzp07V/S5uLi4pKQEK2ziMjc3t1u3bkVFRSYiFRUV2OAqP6bSSF+6cQCIVTWr1fHDkaOA7LlTwXOBCuXdFGnqqVnNjSa8lwTiSsCV4fn000/nzJnTtm3bV1999aabbrr11luxtgZSsDr4i1mOpIa0yJQ5SBQWFsImiQ9mTsaiqKfVS/yJSm0dOUARsMmR8D13KnguUKrqbUJTT81q3upGaSQQAwKuzmqrUaMGZjxvv/22AAHDs27dOsxskAPfz+7duxFcIIp+9atfZWVl/c///I8RGWY8+IgczHtge8rKynJy4nC4CyLZEE1g7Kwx/fTI7qb368DkGCuI9Ol1a75733ezRmtpYDlYNsQEDsYSXg2sL+GXvsumPRfoUp9Et2vqqVktUSvMJ4H4EcD3OWYUiu9zVz4e2JUOHTpIau3bt3/mmWdwmZeXh7979uyRhgfpTp06yZoiUfPkx5QZj0t9B4CtyXnmpku6tPwuTCPtQGBpTGbSpUqeC3SpT6LbNfXUrJaoFeaTQAYScLXUhmnNli1bJLWPP/64ZcuWuESUAWzPihUrRBGs39q1a/Pz82XN2CfwZYStPOimcXYg0mKLz+f7DtsurIlVtfBYndiPFDtIAiQQPAFXM55x48ZdcsklM2bMwEraO++88+eTH/QBq2pjx46dPn063D8wQginbtas2cCBA4PvnoctprqiIhwA1te7rfzX3hsXbLAqFli4mrVp5pAACZBAkARc+Xig6IsvvjhhwgTs4IGBGT9+/MiRI4X2iKiePHkyLFFpaWnPnj0fe+yxc845R9GxpGuCinsDKMKmHKMJwYk4mLjAtCRt2miuEnl9aHKSYmQFEiCBCBFI+n3u1vB4xSKpol415ECOdSuoWDTTf9ubrSMHmtDkOBgO3kICJBByAkm/z10ttYW8856ohykL5jrGAwggFpewPTpbQW1NzpCLmj8w+HxP1KMQEiABEogcARqeJEOWdCtooogvW5OzfPylZzeul6RJf4qNi36eREX7oyalkgAJxJ8ADU+SMU602VPcZi09UF7Zcco/rEKLC/sj5sKaH0yOYx9VMOqxFRIggYwiQMOTZLj1z4Jc+a89Nzzx3eHcRqFpd+RYfVQOjis19ohpEiABEnBDgIYnCT2draC/+8s7b378b6ugtJscqOTSR2XtFHNIgARIwCUBGp4kAMVWULywGctkMsRALJkhorrNvS9b729Qu/p7k66w5qclx7GPKi3aslESIIFMIEDDk3yUbbeCflFWbt0HClN0fY/WmGTgrDYPDzdLrmLiGlYvlLGuutRYk2kSIAES8IoADY8WSdgevERHnJWJ14nC6phuW313rx81qI3MsLnx9X1Uph7xkgRIgAR8IkDDowv2yNHjtkcPGMPVQujG1/FR6SJgPRIgARLwggANT3KK736275ePm99ih9tMsQPhdOOrfVQoTd5/1iABEiABTwnQ8Khwzn5923+9eur4bVnVZHJEfmjd+LY+Ks2z5mSXmSABEiABrwjQ8NiTHPTYWxt2lJrKzm5cd/n4n5oy5aXaUa8ulUJ8Shh9VF69z80nVSmWBEgg9gRoeMxDbHvUzYxfdPxNtxbmqj+8DrkbH6tqiU73+WE/eEUCJEAC/hKg4TnF19bk4OXTeAX1qUqJU3TjJ2bDEhIgARI4RYCG5zSEq51z3yunkHyfMoarfZ+n+n/I3fgBHxIKqn8r+mz7vsMtG9b+bX6rGtVcvetWxZ1lJEACUSOQ0e/j2VX6TY8HVlqHzDZ2wFrNNids+3iEkgFrVfjy5rn/LD7+/UkPCJ0b+ZPWE/p/+y5wfkiABGJPIOn7eDLU8CzfvOc/nvTrQM+A5xZJH2Lr7iIRQ63/IrukTRgrwOr86c1iY45I//5S2h4rFeaQQAwJJDU8GbfUNun5TU8WbTcN9Z19fzy619mmTMeXoXLjB7y7CCtsmOvYokP+7Ve045qbLRxmkkBGEcggw9Nx8qsHKo6aRvf/3ZjftVVDU2ZaLn2aJwW8uwh+HbnCZsKIfJSO+MlZpnxekgAJZBqBjDA8H+wsG/B/V5uG9r2JfRrUqWHKTNelfz4Y9f4hdakDGogmUNylLlXcyCISIIE4EYiz4Tlx4sTqbV/+adWn+Gscs09n9K8SpqNirD4YD1/UFvDuIsSwGVGb0upSU2VekgAJxJVAPA3P0WPHX95U8qdVn3y4ez9GDk4XLGS1y6u3bOylYRtIv30wAe8uQuT0/S9/ZLvaBluP0rDxpz4kQALBE4ib4Tl85Ojid3fO/eenO7/+BjRrVa865OLmI3q2FicAj3QAABNWSURBVO8sCJ5v0hb99sEEvLsIsQOInLaNakM+IwuSPg+sQAKZQCA+hmffoSN/ffuzJ4s++/pwJUauUZ0a113S6truLeHIwawiJG9ms0YQqL0s6lLNBzTVQ0KtSmo2JKqJ/Trcx5MSNFYmgYwiEB/D8+qHJY+u2IrBa9Gw9shLz7qmy4+yq1fFpX9++1QfFFtNgvHB6B8Saqskbk+ps7A9iJzmyQUpQWNlEsgcAvHZQFpeeezGBet/2eVHV57XFOtLYgitfntf904qnptEmsz+TedpL21GNMH32/y/kwE983KzV9/dW/ZFIdyrokRK+rTV1Cu1KYcESCBUBJJuII3PCVqY3zxx/cU/O7+Z/KZO5LfHCE1duhmlgQ2VQhNYnYlXtYcm35nKkzqJNF6ZI/sSgKoKJQPGFUBn2QQJkEAaCcTH8OB7E46c5zfuwl9hVJL67X3inqomDerUxJQC8xupD9LBTzLShUv2mgkSIIEMIRATH4+tZ6Li6HHFKHrit7fKd6bJ1Z3O7NMhD1/90CpdL2pTA1GXWjkwhwRIgAQSEYiD4bF6JsQGzLEF5yTqNvLVXn3FjYqixJq0VdwlNMGqWnpf1KYGoi5V9I5FJEACJGAiEPmlNoVnYtG6HXk5NY2+E9F55DTNzcbOShMLl5cKTZ5+B5pkB6aJs46IraYhV9JZ13gXCZBAqAhE3vCoPRNDL/72fdXGL1OR9sNvr9CkZH9FkJo4e8Iw5QKWwHA5U5J3kQAJxICAK8MzZcqULMOnXbt2gkh5efno0aMbNWpUt27dwYMH79mzxz9Sat9Dq9PrBOa3T6ZJ7cA0cUxbbDVNe5iDY/15IwmQQCQIuPXxnHvuucuXLxddrVbtO2njxo176aWXFi9enJubO2bMmEGDBr311ls+4VD7HlAKx0kwfvvwaOIGtf5WUzet8F4SIIFMJuDW8MDY5OXlGQmWlZXNmzdv4cKFvXv3Rv78+fPbt2+/Zs2a7t27G6t5ldY5BDMYv314NHHJNhhcLpXk7SRAAtEl4GqpDd3eunVrs2bNzjrrrGHDhu3YsQM569evr6ysLCgoEFCw/taiRYuioiIro4qKCmxwlR9rBZ2c8HgmwqOJDjfWIQESIIF0EXBleLp16/bEE08sW7Zszpw5xcXFP/nJTw4cOFBSUlKjRo369evLLjVp0gSZ8lImCgsLsRYnPs2bN5f5qSaSeiasOzpTbUKzflJNNOWwGgmQAAnEmIBnZ7WVlpa2bNnyoYceqlWr1vXXX4/ZjKR28cUX9+rVa+bMmTJHJFBHVsO8B7YHy3Q5OTmmapqXsC62GzBtd3TCQmiKdVAtkSYORPEWEiABEogcAXyfY0ah+D536+ORRDDFOeecc7Zt29anT58jR47ADslJD6LaTH4gcVfNkx8pwWXC1jORaEenrwfS2Grisne8nQRIgARiQ8DVUpuRwsGDBz/55JOmTZt26dKlevXqK1asEKVbtmyB7yc/P99YOZi0YkcnT70MZgjYCgmQAAlYCbia8dxxxx0DBgzACtvu3bsnT55ctWrVoUOHYoY1YsSI8ePHN2zYEOtmt9xyC6yOTyFt1v4YcxQ7Or8oK0dpeo+oMarKNAmQAAlkDgFXhmfnzp2wNF999dUZZ5zRs2dPxEwjAXYPP/xwlSpVsHUULpy+ffs+9thjaQGq3tGpLk2LwmyUBEiABDKBgCvDs2jRIltG2dnZs09+bEsDy0y6ozMwTdgQCZAACZCAJOCZj0dKDE+Cp16GZyyoCQmQAAlIAnE2PNzRKYeZCRIgARIID4E4Gx5Q5o7O8Dxq1IQESIAEBAFXPp5IQITtCeaQ0EjQoJIkQAIkkHYC8Tc8QMwdnWl/zqgACZAACUgCMV9qk/1kggRIgARIICQEMmLGo2Ad8LlqATen6DiLSIAESCBdBDLa8AR8fmjAzaXrkWK7JEACJKAmkLlLbeL8UJydIwGVlJXftGAD8mWOh4mAm/NQc4oiARIgAW8JZKjhCfj80ICb8/YRoTQSIAES8JZARhgefO8XffLV8xt34S/SIJj0/FBvKQfcnLfKUxoJkAAJeEsg/j4eW89KxdHjCo6enx+qFqguVejJIhIgARKIIoGYz3gSeVY++/KwYrTUp4sqbkxUpBaoLk0kk/kkQAIkEFECcTY8Cs/KonU78nJqZlkGDTlNc7NxuqilxFVGl5YNqlgbOykS+Sh1JZ03kwAJkECkCMTZ8Kg9K0MvboGRMpoDkZ48oANOOvB2ENdv//qka8lGKvJRalPALBIgARKIKYE4Gx6176TV6XXmXNs5LzdbjizSyMHZbjLHq4RaE3WpVzpQDgmQAAmEhECcgwvUvhOU4tXXwZwfmlSTkDwNVIMESIAEAiAQZ8MjXgSHbaHfBlAbPlhHw+RGOHKCOT9URxODgkySAAmQQJwJxHmpLTwvgguPJnF+ltk3EiCBiBCIs+HBEITnRXBuNLFugI3I00U1SYAESMCGQNaJE6aFKJtKAWTt378/Nze3rKwsJyfH8+bwxY0IN/jw4WvBqpfnQWv6CjvQxHYDrB8REPq9YE0SIAESUBBI+n2eEYZHASjkRWIDrPGngQj09in6LuQ0qB4JkEAkCCQ1PDFfaovEICVSUrEBdurSzShNdCPzSYAESCDMBGh4wjs66g2wKA2v6tSMBEiABBIToOFJzCbdJeqNperSdOvO9kmABEggIQEanoRo0l7AbadpHwIqQAIk4AcBGh4/qHojU2w7tR4bhxw/TjL1RmlKIQESIIFkBGh4khFKXzm3naaPPVsmARLwkQANj49w3Yt2s+3UfeuUQAIkQAJ+EIjzWW1+8ApeJmxPMCeZBt81tkgCJJCZBGh4IjDuWHPDQdoRUJQqkgAJkIAGARoeDUjJqjg4CCeZSJaTAAmQQGwJeObjeeCBB7KyssaOHStQlZeXjx49ulGjRnXr1h08ePCePXviihCn2vScuXLo3DW3LdqIv0gjJ66dZb9IgARIwD0BbwzPunXr/vSnP51//vlSoXHjxi1dunTx4sWrVq3avXv3oEGDZFGcEuIstS/KymWn8PqfmxZsoO2RQJggARIgARMBDwzPwYMHhw0bNnfu3AYNGgjpOGR63rx5Dz30UO/evbt06TJ//vy33357zZo1prajfsmz1KI+gtSfBEggLQQ8MDxYUrvqqqsKCgpkB9avX19ZWSlz2rVr16JFi6KiIllBJCoqKnCIqfyYSsN/ybPUwj9G1JAESCCEBNwGFyxatGjDhg1YajP2raSkpEaNGvXr15eZTZo0Qaa8FInCwsKpU6eaMiN0qT4tTV0aoW5SVRIgARLwloCrGc/nn39+2223PfXUU9nZ2Q7UmjBhAhblxAeiHEhI7y08Sy29/Nk6CZBARAm4MjxYUtu7d2/nzp2rnfwgjmDWrFlIYn5z5MiR0tJSCQVRbXl5efJSJGrWrIn3jcqPqTT8lzxLLfxjRA1JgARCSMCV4bn88ss/+OCDjd9/unbtiigDXCFRvXr1FStWiA5v2bJlx44d+fn5Iey/G5V4lpoberyXBEggYwm48vHUq1fvvPPOk+zq1KmDjTsiZ8SIEePHj2/YsCEmNLfccgusTvfu3WXN2CTEWWp4H6iMqM7LzZ48oAPyY9NHdoQESIAEvCXgyvAoVHn44YerVKmCraMIXevbt+9jjz2mqBzpIp6lFunho/IkQALBE8g6ceJE8K1aW0RQdW5uLgINMEOyljKHBEiABEggKgSSfp+78vFEhQL1JAESIAESCA8BGp7wjAU1IQESIIGMIEDDkxHDzE6SAAmQQHgI0PCEZyyoCQmQAAlkBAEanowYZnaSBEiABMJDgIYnPGNBTUiABEggIwjQ8GTEMLOTJEACJBAeAjQ84RkLakICJEACGUGAhicjhpmdJAESIIHwEPDryJxUeygOUMB+11RvZH0SIAESIIFQERDf5IpjccJieA4cOABwzZs3DxU+KkMCJEACJOCMAL7VcRCa7b1hOavt+PHju3fvxnHXWVlZtoraZsKuwlbhJXI84U3yIROJQibIRKKQCTKRKGSCTCQKmXDGBHMdWJ1mzZrhqGgpypgIy4wH+v3oRz8yaqafFq+S06+fCTXJxDrKZEImVgLWHD4nnjBJNNcRwu3NkbVh5pAACZAACZCAJwRoeDzBSCEkQAIkQAK6BKpOmTJFt24o61WtWvWyyy6rVi0sa4ZhgEQm1lEgEzKxErDm8DkJhklYggusvWUOCZAACZBALAlwqS2Ww8pOkQAJkEB4CdDwhHdsqBkJkAAJxJIADU8sh5WdIgESIIHwEqDhCe/YUDMSIAESiCWBaBue2bNnt2rVKjs7u1u3bu+8804sR0jRqcLCwosuugjHPTRu3HjgwIFbtmyRlcvLy0ePHt2oUaO6desOHjx4z549sihzEg888AAOwhg7dqzociYz2bVr17XXXovnoVatWh07dnz33XcFE+wwnzRpUtOmTZFfUFCwdevWDHk8jh07NnHixNatW6Pjbdq0mTZtmjxYLNOYvPnmmwMGDMApA/jHsmTJEvkAKDjs27dv2LBh2Glbv379ESNGHDx4UN6lm4D0iH4WLVpUo0aNv/zlLx9++OHIkSOBAF+vEe2LM7X79u07f/78TZs2bdy4sX///i1atMATIETdeOONOExoxYoV+Irp3r37JZdc4qyJ6N6FHyL4UXL++effdtttGc4EXxMtW7a87rrr1q5d++mnn7766qvbtm0TTGCbscMcXzfvv//+z3/+c3wRf/PNN9EddH3N77//fpjhF198sbi4ePHixfh99uijj2Ymk5dffvk///M/n332WdiM5557TjJUPBv9+vW74IIL1qxZ889//vPss88eOnSovEszcZpmvRBWu/jii/GjXiiG3y+w2JgBhFDPYFTau3cvnptVq1ahudLS0urVq+Ofk2j6o48+QlFRUVEwmoShFZwT1bZt29dee+2nP/2pMDyZzOTuu+/u2bOndVxwQGJeXt5//dd/iSIgqlmz5tNPP22tGb+cq6666oYbbpD9GjRoEH7C4zKTmRgNj4LD5s2bUXPdunWC3iuvvIKpEqbUEqZOIqpLbUeOHFm/fj0WB4AAHxz1hjS+W8VlBv4tKytDrxs2bIi/IFNZWSnhtGvXDpOhjIKDXyT4ZpEEMpzJCy+80LVr12uuuQZLshdeeOHcuXPFPxD82C8pKZGUMPXBknWGPCdYA8B6wMcffwwUmO2tXr36yiuvRDqTmYinIumzgScEy0t4okRNPD/4+sVk2nh70nRUN/x/+eWXmOU0adJE9hDpf/3rX/IyoxL4eQJPRo8ePc477zx0HN8mWITEwyEhAA4y5WW8E1iD3bBhA36RGbuZyUywvDZnzpzx48ffe++9wHLrrbfi8Rg+fLh4JEz/iDLkObnnnntw7jJ+k+GoAnyTYOUNMx48MJnMxPTvBZe2zwYQ4ReMrIxTY/B7N9XHJqqGR3abCRDAD3x4evCrjTTwjgysrWGRDSEnpCEI4HcJfp/OmDEDl5jx4FF5/PHHYXgymc/f//73p556auHCheeeey5cpPjdhrX6DGcS5PMQ1aW2008/HT9VjMFaSGPBOkh2IWlrzJgx8JG+/vrr8r0S4IClSCzZSw0zBw6WGeHu6ty5M36I4QOn16xZs5DAb7eMZYKgtQ4dOsiHoX379jt27MCl+PeSmf+I7rzzTkx6hgwZghi/3/72t+PGjYOHOMOZyCdEzQGPjfAoi/pHjx5F9Eqq371RNTxYK+jSpQtWaUXn8ZsO6fz8fCO72KfhxIPVQSDKypUrEY8k+wsyCC6QcBBmjS+aDIFz+eWXf/DBB/gNKz74pY8lFKSRyFgmWIM1htrDsYEgNzwteGbwfSGfEyw9YaU+Q56Tw4cPG99Rhl+x+A7JcCbyC0TNAU8IftTiF56ojy8foIN30Hh78rROBEI462ApH0E4TzzxBKIsRo0aBZcG1hnDqapPWt10001wCL/xxhtffP/BPyfRFsKpEVCAZwLh1HhQ8PFJh5CLlVFt0DNjmSCyHHM+uDGwTQfrS7Vr116wYIEYOITM4h/O888//7//+79XX3115oRTY1XtzDPPFOHUiCTGCspdd92VmUwQAvreyQ+sxUMPPYTk9u3bgULxbCCcGmu2+JmC5X2Ej2ZWODXQ/PGPf8TXK2Y/CK1GULl4bjLnr/VnBbb1iO5jN8bNN9/coEEDfMv84he/gGHKHCzGnhoNTyYzWbp0KQJP8EMN7vQ///nPEhF+q2IfJdYhUYTJIiZGsijeCUzv4AvEtwd8gWeddRY2slRUVIguZxoTrNKbvklglYFCweGrr76CscHmJ+whvf7662G6Un1a+FoEE3NekgAJkAAJ+Esgqj4ef6lQOgmQAAmQgG8EaHh8Q0vBJEACJEACdgRoeOyoMI8ESIAESMA3AjQ8vqGlYBIgARIgATsCNDx2VJhHAiRAAiTgGwEaHt/QUjAJkAAJkIAdARoeOyrMIwESIAES8I0ADY9vaCmYBEiABEjAjgANjx0V5pEACZAACfhGgIbHN7QUTAIkQAIkYEeAhseOCvNIgARIgAR8I0DD4xtaCiYBEiABErAj8P8Dbr5Pj7hKq7cAAAAASUVORK5CYII=)\n"
      ],
      "metadata": {
        "id": "w-PqY20-jwnl"
      }
    },
    {
      "cell_type": "code",
      "source": [
        "#/content/study_hours_score.csv\n",
        "import pandas as pd\n",
        "import matplotlib.pyplot as plt\n",
        "from sklearn.linear_model import LinearRegression\n",
        "df = pd.read_csv(\"/content/ad_sales.csv\")\n",
        "x= df[['ad_cost']].values\n",
        "y= df[\"sales\"].values\n",
        "model = LinearRegression()\n",
        "model.fit(x,y)\n",
        "Y_pred = model.predict(x)\n",
        "plt.scatter(x, y)\n",
        "plt.plot(x,Y_pred)\n",
        "\n",
        "new_Y_pred = model.predict([[60]])\n",
        "print(new_Y_pred[0])"
      ],
      "metadata": {
        "id": "RnUFsuJG6mWr",
        "colab": {
          "base_uri": "https://localhost:8080/",
          "height": 448
        },
        "outputId": "24cf4ec8-f897-45ce-9186-1232eb686858"
      },
      "execution_count": null,
      "outputs": [
        {
          "output_type": "stream",
          "name": "stdout",
          "text": [
            "81.87010370079126\n"
          ]
        },
        {
          "output_type": "display_data",
          "data": {
            "text/plain": [
              "<Figure size 640x480 with 1 Axes>"
            ],
            "image/png": "[encoded data removed]"
          },
          "metadata": {}
        }
      ]
    },
    {
      "cell_type": "markdown",
      "source": [
        "# 模範解答"
      ],
      "metadata": {
        "id": "ZFxFa_G4qNG3"
      }
    },
    {
      "cell_type": "code",
      "source": [
        "import pandas as pd\n",
        "import matplotlib.pyplot as plt\n",
        "from sklearn.linear_model import LinearRegression\n",
        "\n",
        "# CSVファイルからデータを読み込む\n",
        "df = pd.read_csv(\"/content/ad_sales.csv\")\n",
        "\n",
        "# 説明変数（広告費用）と目的変数（売上）を設定\n",
        "X = df[['ad_cost']].values\n",
        "Y = df['sales'].values\n",
        "\n",
        "# 単回帰モデルを作成\n",
        "model = LinearRegression()\n",
        "model.fit(X, Y)\n",
        "\n",
        "# 予測値を計算\n",
        "Y_pred = model.predict(X)\n",
        "\n",
        "# 散布図と回帰直線をプロット\n",
        "plt.scatter(X, Y)\n",
        "plt.plot(X, Y_pred)\n",
        "plt.show()\n",
        "\n",
        "# 特定の値での予測（例: 広告費用が60）\n",
        "new_Y_pred = model.predict([[60]])\n",
        "\n",
        "print(new_Y_pred[0])"
      ],
      "metadata": {
        "colab": {
          "base_uri": "https://localhost:8080/",
          "height": 447
        },
        "id": "QHeFS07XqSdA",
        "outputId": "b9fdfe32-fae7-4c89-8caa-d20815720e4a"
      },
      "execution_count": null,
      "outputs": [
        {
          "output_type": "display_data",
          "data": {
            "text/plain": [
              "<Figure size 640x480 with 1 Axes>"
            ],
            "image/png": "[encoded data removed]"
          },
          "metadata": {}
        },
        {
          "output_type": "stream",
          "name": "stdout",
          "text": [
            "81.87010370079126\n"
          ]
        }
      ]
    }
  ]
}